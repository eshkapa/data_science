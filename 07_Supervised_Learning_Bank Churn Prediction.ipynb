{
 "cells": [
  {
   "cell_type": "markdown",
   "metadata": {
    "toc": true
   },
   "source": [
    "<h1>Content<span class=\"tocSkip\"></span></h1>\n",
    "<div class=\"toc\"><ul class=\"toc-item\"><li><span><a href=\"#Data-preparation\" data-toc-modified-id=\"Data-preparation-1\"><span class=\"toc-item-num\">1&nbsp;&nbsp;</span>Data preparation</a></span><ul class=\"toc-item\"><li><span><a href=\"#Conclusions-by-step-1:\" data-toc-modified-id=\"Conclusions-by-step-1:-1.1\"><span class=\"toc-item-num\">1.1&nbsp;&nbsp;</span>Conclusions by step 1:</a></span></li></ul></li><li><span><a href=\"#Research-tasks\" data-toc-modified-id=\"Research-tasks-2\"><span class=\"toc-item-num\">2&nbsp;&nbsp;</span>Research tasks</a></span><ul class=\"toc-item\"><li><span><a href=\"#Logistic-regression\" data-toc-modified-id=\"Logistic-regression-2.1\"><span class=\"toc-item-num\">2.1&nbsp;&nbsp;</span>Logistic regression</a></span></li><li><span><a href=\"#Decision-Tree\" data-toc-modified-id=\"Decision-Tree-2.2\"><span class=\"toc-item-num\">2.2&nbsp;&nbsp;</span>Decision Tree</a></span></li><li><span><a href=\"#Random-forest\" data-toc-modified-id=\"Random-forest-2.3\"><span class=\"toc-item-num\">2.3&nbsp;&nbsp;</span>Random forest</a></span></li><li><span><a href=\"#k-Nearest-Neighbors\" data-toc-modified-id=\"k-Nearest-Neighbors-2.4\"><span class=\"toc-item-num\">2.4&nbsp;&nbsp;</span>k Nearest Neighbors</a></span></li></ul></li><li><span><a href=\"#How-to-Combat-Imbalanced-Classes\" data-toc-modified-id=\"How-to-Combat-Imbalanced-Classes-3\"><span class=\"toc-item-num\">3&nbsp;&nbsp;</span>How to Combat Imbalanced Classes</a></span><ul class=\"toc-item\"><li><span><a href=\"#Logistic-regression\" data-toc-modified-id=\"Logistic-regression-3.1\"><span class=\"toc-item-num\">3.1&nbsp;&nbsp;</span>Logistic regression</a></span></li><li><span><a href=\"#Logistic-regression\" data-toc-modified-id=\"Logistic-regression-3.2\"><span class=\"toc-item-num\">3.2&nbsp;&nbsp;</span>Logistic regression</a></span></li><li><span><a href=\"#Decision-Tree\" data-toc-modified-id=\"Decision-Tree-3.3\"><span class=\"toc-item-num\">3.3&nbsp;&nbsp;</span>Decision Tree</a></span></li><li><span><a href=\"#Random-forest\" data-toc-modified-id=\"Random-forest-3.4\"><span class=\"toc-item-num\">3.4&nbsp;&nbsp;</span>Random forest</a></span></li><li><span><a href=\"#k-Nearest-Neighbors\" data-toc-modified-id=\"k-Nearest-Neighbors-3.5\"><span class=\"toc-item-num\">3.5&nbsp;&nbsp;</span>k Nearest Neighbors</a></span></li><li><span><a href=\"#Logistic-regression\" data-toc-modified-id=\"Logistic-regression-3.6\"><span class=\"toc-item-num\">3.6&nbsp;&nbsp;</span>Logistic regression</a></span></li><li><span><a href=\"#k-Nearest-Neighbors\" data-toc-modified-id=\"k-Nearest-Neighbors-3.7\"><span class=\"toc-item-num\">3.7&nbsp;&nbsp;</span>k Nearest Neighbors</a></span></li><li><span><a href=\"#Random-forest\" data-toc-modified-id=\"Random-forest-3.8\"><span class=\"toc-item-num\">3.8&nbsp;&nbsp;</span>Random forest</a></span></li><li><span><a href=\"#Decision-Tree\" data-toc-modified-id=\"Decision-Tree-3.9\"><span class=\"toc-item-num\">3.9&nbsp;&nbsp;</span>Decision Tree</a></span></li><li><span><a href=\"#Conclusions-by-step-3\" data-toc-modified-id=\"Conclusions-by-step-3-3.10\"><span class=\"toc-item-num\">3.10&nbsp;&nbsp;</span>Conclusions by step 3</a></span></li></ul></li><li><span><a href=\"#Testing-models\" data-toc-modified-id=\"Testing-models\"><span class=\"toc-item-num\">4&nbsp;&nbsp;</span>Testing models</a></span></li><li><span><a href=\"#Checklist-readiness-of-the-project\" data-toc-modified-id=\"Checklist-readiness-of-the-project-5\"><span class=\"toc-item-num\">5&nbsp;&nbsp;</span>Checklist readiness of the project</a></span></li><li><span><a href=\"#General-output\" data-toc-modified-id=\"General-output-6\"><span class=\"toc-item-num\">6&nbsp;&nbsp;</span>General output</a></span></li></ul></div>"
   ]
  },
  {
   "cell_type": "markdown",
   "metadata": {},
   "source": [
    "# Customer Churn"
   ]
  },
  {
   "cell_type": "markdown",
   "metadata": {},
   "source": [
    "Customers began to leave Beta Bank. Every month. A little, but noticeable. Bank marketers have calculated that it is cheaper to retain current customers than to attract new ones.\n",
    "\n",
    "It is necessary to predict whether the client will leave the bank in the near future or not. I am presented with historical data on the behavior of customers and the termination of contracts with the bank. \n",
    "\n",
    "It is necessary to build a model with an extremely large value of *F1*-measures. To pass the project successfully, you need to bring the metric to 0.59. \n",
    "\n",
    "Additionally measure *AUC-ROC*, compare its value with *F1*-measure.\n",
    "\n",
    "Data source: [https://www.kaggle.com/barelydedicated/bank-customer-churn-modeling](https://www.kaggle.com/barelydedicated/bank-customer-churn-modeling)"
   ]
  },
  {
   "cell_type": "markdown",
   "metadata": {},
   "source": [
    "## Data preparation"
   ]
  },
  {
   "cell_type": "code",
   "execution_count": 1,
   "metadata": {},
   "outputs": [],
   "source": [
    "\n",
    "import pandas as pd\n",
    "import numpy as np\n",
    "import matplotlib.pyplot as plt\n",
    "import seaborn as sns\n",
    "from sklearn.model_selection import train_test_split \n",
    "from sklearn.model_selection import cross_val_score  \n",
    "from sklearn.model_selection import ShuffleSplit \n",
    "from sklearn.utils import shuffle\n",
    "\n",
    "from sklearn.neighbors import KNeighborsClassifier\n",
    "from joblib import dump\n",
    "from sklearn.linear_model import LogisticRegression \n",
    "from sklearn.ensemble import RandomForestClassifier \n",
    "from sklearn.tree import DecisionTreeClassifier \n",
    "from sklearn.metrics import accuracy_score, f1_score, roc_curve, roc_auc_score \n",
    "from sklearn.metrics import recall_score, precision_score\n",
    "from sklearn.dummy import DummyClassifier\n",
    "from sklearn.preprocessing import StandardScaler\n",
    "from sklearn.preprocessing import OrdinalEncoder  \n",
    "\n",
    "import warnings\n",
    "warnings.filterwarnings('ignore')\n"
   ]
  },
  {
   "cell_type": "code",
   "execution_count": 2,
   "metadata": {},
   "outputs": [],
   "source": [
    "df = pd.read_csv('Churn.csv')"
   ]
  },
  {
   "cell_type": "markdown",
   "metadata": {},
   "source": [
    "Let's look at our dataset"
   ]
  },
  {
   "cell_type": "code",
   "execution_count": 3,
   "metadata": {},
   "outputs": [
    {
     "data": {
      "text/html": [
       "<div>\n",
       "<style scoped>\n",
       "    .dataframe tbody tr th:only-of-type {\n",
       "        vertical-align: middle;\n",
       "    }\n",
       "\n",
       "    .dataframe tbody tr th {\n",
       "        vertical-align: top;\n",
       "    }\n",
       "\n",
       "    .dataframe thead th {\n",
       "        text-align: right;\n",
       "    }\n",
       "</style>\n",
       "<table border=\"1\" class=\"dataframe\">\n",
       "  <thead>\n",
       "    <tr style=\"text-align: right;\">\n",
       "      <th></th>\n",
       "      <th>RowNumber</th>\n",
       "      <th>CustomerId</th>\n",
       "      <th>Surname</th>\n",
       "      <th>CreditScore</th>\n",
       "      <th>Geography</th>\n",
       "      <th>Gender</th>\n",
       "      <th>Age</th>\n",
       "      <th>Tenure</th>\n",
       "      <th>Balance</th>\n",
       "      <th>NumOfProducts</th>\n",
       "      <th>HasCrCard</th>\n",
       "      <th>IsActiveMember</th>\n",
       "      <th>EstimatedSalary</th>\n",
       "      <th>Exited</th>\n",
       "    </tr>\n",
       "  </thead>\n",
       "  <tbody>\n",
       "    <tr>\n",
       "      <th>0</th>\n",
       "      <td>1</td>\n",
       "      <td>15634602</td>\n",
       "      <td>Hargrave</td>\n",
       "      <td>619</td>\n",
       "      <td>France</td>\n",
       "      <td>Female</td>\n",
       "      <td>42</td>\n",
       "      <td>2.0</td>\n",
       "      <td>0.00</td>\n",
       "      <td>1</td>\n",
       "      <td>1</td>\n",
       "      <td>1</td>\n",
       "      <td>101348.88</td>\n",
       "      <td>1</td>\n",
       "    </tr>\n",
       "    <tr>\n",
       "      <th>1</th>\n",
       "      <td>2</td>\n",
       "      <td>15647311</td>\n",
       "      <td>Hill</td>\n",
       "      <td>608</td>\n",
       "      <td>Spain</td>\n",
       "      <td>Female</td>\n",
       "      <td>41</td>\n",
       "      <td>1.0</td>\n",
       "      <td>83807.86</td>\n",
       "      <td>1</td>\n",
       "      <td>0</td>\n",
       "      <td>1</td>\n",
       "      <td>112542.58</td>\n",
       "      <td>0</td>\n",
       "    </tr>\n",
       "    <tr>\n",
       "      <th>2</th>\n",
       "      <td>3</td>\n",
       "      <td>15619304</td>\n",
       "      <td>Onio</td>\n",
       "      <td>502</td>\n",
       "      <td>France</td>\n",
       "      <td>Female</td>\n",
       "      <td>42</td>\n",
       "      <td>8.0</td>\n",
       "      <td>159660.80</td>\n",
       "      <td>3</td>\n",
       "      <td>1</td>\n",
       "      <td>0</td>\n",
       "      <td>113931.57</td>\n",
       "      <td>1</td>\n",
       "    </tr>\n",
       "    <tr>\n",
       "      <th>3</th>\n",
       "      <td>4</td>\n",
       "      <td>15701354</td>\n",
       "      <td>Boni</td>\n",
       "      <td>699</td>\n",
       "      <td>France</td>\n",
       "      <td>Female</td>\n",
       "      <td>39</td>\n",
       "      <td>1.0</td>\n",
       "      <td>0.00</td>\n",
       "      <td>2</td>\n",
       "      <td>0</td>\n",
       "      <td>0</td>\n",
       "      <td>93826.63</td>\n",
       "      <td>0</td>\n",
       "    </tr>\n",
       "    <tr>\n",
       "      <th>4</th>\n",
       "      <td>5</td>\n",
       "      <td>15737888</td>\n",
       "      <td>Mitchell</td>\n",
       "      <td>850</td>\n",
       "      <td>Spain</td>\n",
       "      <td>Female</td>\n",
       "      <td>43</td>\n",
       "      <td>2.0</td>\n",
       "      <td>125510.82</td>\n",
       "      <td>1</td>\n",
       "      <td>1</td>\n",
       "      <td>1</td>\n",
       "      <td>79084.10</td>\n",
       "      <td>0</td>\n",
       "    </tr>\n",
       "    <tr>\n",
       "      <th>5</th>\n",
       "      <td>6</td>\n",
       "      <td>15574012</td>\n",
       "      <td>Chu</td>\n",
       "      <td>645</td>\n",
       "      <td>Spain</td>\n",
       "      <td>Male</td>\n",
       "      <td>44</td>\n",
       "      <td>8.0</td>\n",
       "      <td>113755.78</td>\n",
       "      <td>2</td>\n",
       "      <td>1</td>\n",
       "      <td>0</td>\n",
       "      <td>149756.71</td>\n",
       "      <td>1</td>\n",
       "    </tr>\n",
       "    <tr>\n",
       "      <th>6</th>\n",
       "      <td>7</td>\n",
       "      <td>15592531</td>\n",
       "      <td>Bartlett</td>\n",
       "      <td>822</td>\n",
       "      <td>France</td>\n",
       "      <td>Male</td>\n",
       "      <td>50</td>\n",
       "      <td>7.0</td>\n",
       "      <td>0.00</td>\n",
       "      <td>2</td>\n",
       "      <td>1</td>\n",
       "      <td>1</td>\n",
       "      <td>10062.80</td>\n",
       "      <td>0</td>\n",
       "    </tr>\n",
       "    <tr>\n",
       "      <th>7</th>\n",
       "      <td>8</td>\n",
       "      <td>15656148</td>\n",
       "      <td>Obinna</td>\n",
       "      <td>376</td>\n",
       "      <td>Germany</td>\n",
       "      <td>Female</td>\n",
       "      <td>29</td>\n",
       "      <td>4.0</td>\n",
       "      <td>115046.74</td>\n",
       "      <td>4</td>\n",
       "      <td>1</td>\n",
       "      <td>0</td>\n",
       "      <td>119346.88</td>\n",
       "      <td>1</td>\n",
       "    </tr>\n",
       "    <tr>\n",
       "      <th>8</th>\n",
       "      <td>9</td>\n",
       "      <td>15792365</td>\n",
       "      <td>He</td>\n",
       "      <td>501</td>\n",
       "      <td>France</td>\n",
       "      <td>Male</td>\n",
       "      <td>44</td>\n",
       "      <td>4.0</td>\n",
       "      <td>142051.07</td>\n",
       "      <td>2</td>\n",
       "      <td>0</td>\n",
       "      <td>1</td>\n",
       "      <td>74940.50</td>\n",
       "      <td>0</td>\n",
       "    </tr>\n",
       "    <tr>\n",
       "      <th>9</th>\n",
       "      <td>10</td>\n",
       "      <td>15592389</td>\n",
       "      <td>H?</td>\n",
       "      <td>684</td>\n",
       "      <td>France</td>\n",
       "      <td>Male</td>\n",
       "      <td>27</td>\n",
       "      <td>2.0</td>\n",
       "      <td>134603.88</td>\n",
       "      <td>1</td>\n",
       "      <td>1</td>\n",
       "      <td>1</td>\n",
       "      <td>71725.73</td>\n",
       "      <td>0</td>\n",
       "    </tr>\n",
       "  </tbody>\n",
       "</table>\n",
       "</div>"
      ],
      "text/plain": [
       "   RowNumber  CustomerId   Surname  CreditScore Geography  Gender  Age  \\\n",
       "0          1    15634602  Hargrave          619    France  Female   42   \n",
       "1          2    15647311      Hill          608     Spain  Female   41   \n",
       "2          3    15619304      Onio          502    France  Female   42   \n",
       "3          4    15701354      Boni          699    France  Female   39   \n",
       "4          5    15737888  Mitchell          850     Spain  Female   43   \n",
       "5          6    15574012       Chu          645     Spain    Male   44   \n",
       "6          7    15592531  Bartlett          822    France    Male   50   \n",
       "7          8    15656148    Obinna          376   Germany  Female   29   \n",
       "8          9    15792365        He          501    France    Male   44   \n",
       "9         10    15592389        H?          684    France    Male   27   \n",
       "\n",
       "   Tenure    Balance  NumOfProducts  HasCrCard  IsActiveMember  \\\n",
       "0     2.0       0.00              1          1               1   \n",
       "1     1.0   83807.86              1          0               1   \n",
       "2     8.0  159660.80              3          1               0   \n",
       "3     1.0       0.00              2          0               0   \n",
       "4     2.0  125510.82              1          1               1   \n",
       "5     8.0  113755.78              2          1               0   \n",
       "6     7.0       0.00              2          1               1   \n",
       "7     4.0  115046.74              4          1               0   \n",
       "8     4.0  142051.07              2          0               1   \n",
       "9     2.0  134603.88              1          1               1   \n",
       "\n",
       "   EstimatedSalary  Exited  \n",
       "0        101348.88       1  \n",
       "1        112542.58       0  \n",
       "2        113931.57       1  \n",
       "3         93826.63       0  \n",
       "4         79084.10       0  \n",
       "5        149756.71       1  \n",
       "6         10062.80       0  \n",
       "7        119346.88       1  \n",
       "8         74940.50       0  \n",
       "9         71725.73       0  "
      ]
     },
     "execution_count": 3,
     "metadata": {},
     "output_type": "execute_result"
    }
   ],
   "source": [
    "df.head(10)"
   ]
  },
  {
   "cell_type": "code",
   "execution_count": 4,
   "metadata": {},
   "outputs": [
    {
     "data": {
      "text/html": [
       "<div>\n",
       "<style scoped>\n",
       "    .dataframe tbody tr th:only-of-type {\n",
       "        vertical-align: middle;\n",
       "    }\n",
       "\n",
       "    .dataframe tbody tr th {\n",
       "        vertical-align: top;\n",
       "    }\n",
       "\n",
       "    .dataframe thead th {\n",
       "        text-align: right;\n",
       "    }\n",
       "</style>\n",
       "<table border=\"1\" class=\"dataframe\">\n",
       "  <thead>\n",
       "    <tr style=\"text-align: right;\">\n",
       "      <th></th>\n",
       "      <th>RowNumber</th>\n",
       "      <th>CustomerId</th>\n",
       "      <th>Surname</th>\n",
       "      <th>CreditScore</th>\n",
       "      <th>Geography</th>\n",
       "      <th>Gender</th>\n",
       "      <th>Age</th>\n",
       "      <th>Tenure</th>\n",
       "      <th>Balance</th>\n",
       "      <th>NumOfProducts</th>\n",
       "      <th>HasCrCard</th>\n",
       "      <th>IsActiveMember</th>\n",
       "      <th>EstimatedSalary</th>\n",
       "      <th>Exited</th>\n",
       "    </tr>\n",
       "  </thead>\n",
       "  <tbody>\n",
       "    <tr>\n",
       "      <th>2317</th>\n",
       "      <td>2318</td>\n",
       "      <td>15627212</td>\n",
       "      <td>Smith</td>\n",
       "      <td>630</td>\n",
       "      <td>France</td>\n",
       "      <td>Female</td>\n",
       "      <td>36</td>\n",
       "      <td>NaN</td>\n",
       "      <td>110414.48</td>\n",
       "      <td>1</td>\n",
       "      <td>1</td>\n",
       "      <td>1</td>\n",
       "      <td>48984.95</td>\n",
       "      <td>0</td>\n",
       "    </tr>\n",
       "    <tr>\n",
       "      <th>4245</th>\n",
       "      <td>4246</td>\n",
       "      <td>15569446</td>\n",
       "      <td>Tu</td>\n",
       "      <td>732</td>\n",
       "      <td>France</td>\n",
       "      <td>Female</td>\n",
       "      <td>34</td>\n",
       "      <td>8.0</td>\n",
       "      <td>122338.43</td>\n",
       "      <td>2</td>\n",
       "      <td>1</td>\n",
       "      <td>0</td>\n",
       "      <td>187985.85</td>\n",
       "      <td>0</td>\n",
       "    </tr>\n",
       "    <tr>\n",
       "      <th>5658</th>\n",
       "      <td>5659</td>\n",
       "      <td>15814430</td>\n",
       "      <td>Ma</td>\n",
       "      <td>747</td>\n",
       "      <td>Spain</td>\n",
       "      <td>Male</td>\n",
       "      <td>41</td>\n",
       "      <td>9.0</td>\n",
       "      <td>0.00</td>\n",
       "      <td>1</td>\n",
       "      <td>1</td>\n",
       "      <td>0</td>\n",
       "      <td>32430.94</td>\n",
       "      <td>1</td>\n",
       "    </tr>\n",
       "    <tr>\n",
       "      <th>6972</th>\n",
       "      <td>6973</td>\n",
       "      <td>15706232</td>\n",
       "      <td>Niu</td>\n",
       "      <td>595</td>\n",
       "      <td>France</td>\n",
       "      <td>Male</td>\n",
       "      <td>52</td>\n",
       "      <td>9.0</td>\n",
       "      <td>0.00</td>\n",
       "      <td>1</td>\n",
       "      <td>1</td>\n",
       "      <td>1</td>\n",
       "      <td>106340.66</td>\n",
       "      <td>1</td>\n",
       "    </tr>\n",
       "    <tr>\n",
       "      <th>2584</th>\n",
       "      <td>2585</td>\n",
       "      <td>15754537</td>\n",
       "      <td>Ko</td>\n",
       "      <td>748</td>\n",
       "      <td>France</td>\n",
       "      <td>Male</td>\n",
       "      <td>40</td>\n",
       "      <td>0.0</td>\n",
       "      <td>0.00</td>\n",
       "      <td>1</td>\n",
       "      <td>0</td>\n",
       "      <td>0</td>\n",
       "      <td>60416.76</td>\n",
       "      <td>0</td>\n",
       "    </tr>\n",
       "    <tr>\n",
       "      <th>924</th>\n",
       "      <td>925</td>\n",
       "      <td>15658485</td>\n",
       "      <td>Heath</td>\n",
       "      <td>785</td>\n",
       "      <td>France</td>\n",
       "      <td>Female</td>\n",
       "      <td>34</td>\n",
       "      <td>NaN</td>\n",
       "      <td>70302.48</td>\n",
       "      <td>1</td>\n",
       "      <td>1</td>\n",
       "      <td>1</td>\n",
       "      <td>68600.36</td>\n",
       "      <td>0</td>\n",
       "    </tr>\n",
       "    <tr>\n",
       "      <th>207</th>\n",
       "      <td>208</td>\n",
       "      <td>15679531</td>\n",
       "      <td>Collins</td>\n",
       "      <td>618</td>\n",
       "      <td>France</td>\n",
       "      <td>Male</td>\n",
       "      <td>34</td>\n",
       "      <td>5.0</td>\n",
       "      <td>134954.53</td>\n",
       "      <td>1</td>\n",
       "      <td>1</td>\n",
       "      <td>1</td>\n",
       "      <td>151954.39</td>\n",
       "      <td>0</td>\n",
       "    </tr>\n",
       "    <tr>\n",
       "      <th>4830</th>\n",
       "      <td>4831</td>\n",
       "      <td>15620758</td>\n",
       "      <td>Martel</td>\n",
       "      <td>660</td>\n",
       "      <td>Spain</td>\n",
       "      <td>Male</td>\n",
       "      <td>30</td>\n",
       "      <td>4.0</td>\n",
       "      <td>0.00</td>\n",
       "      <td>2</td>\n",
       "      <td>1</td>\n",
       "      <td>0</td>\n",
       "      <td>129149.06</td>\n",
       "      <td>0</td>\n",
       "    </tr>\n",
       "    <tr>\n",
       "      <th>1633</th>\n",
       "      <td>1634</td>\n",
       "      <td>15755868</td>\n",
       "      <td>Farmer</td>\n",
       "      <td>562</td>\n",
       "      <td>France</td>\n",
       "      <td>Male</td>\n",
       "      <td>35</td>\n",
       "      <td>7.0</td>\n",
       "      <td>0.00</td>\n",
       "      <td>1</td>\n",
       "      <td>0</td>\n",
       "      <td>0</td>\n",
       "      <td>48869.67</td>\n",
       "      <td>0</td>\n",
       "    </tr>\n",
       "    <tr>\n",
       "      <th>4044</th>\n",
       "      <td>4045</td>\n",
       "      <td>15607142</td>\n",
       "      <td>Parkin</td>\n",
       "      <td>658</td>\n",
       "      <td>France</td>\n",
       "      <td>Male</td>\n",
       "      <td>32</td>\n",
       "      <td>8.0</td>\n",
       "      <td>0.00</td>\n",
       "      <td>1</td>\n",
       "      <td>1</td>\n",
       "      <td>1</td>\n",
       "      <td>80410.68</td>\n",
       "      <td>0</td>\n",
       "    </tr>\n",
       "  </tbody>\n",
       "</table>\n",
       "</div>"
      ],
      "text/plain": [
       "      RowNumber  CustomerId  Surname  CreditScore Geography  Gender  Age  \\\n",
       "2317       2318    15627212    Smith          630    France  Female   36   \n",
       "4245       4246    15569446       Tu          732    France  Female   34   \n",
       "5658       5659    15814430       Ma          747     Spain    Male   41   \n",
       "6972       6973    15706232      Niu          595    France    Male   52   \n",
       "2584       2585    15754537       Ko          748    France    Male   40   \n",
       "924         925    15658485    Heath          785    France  Female   34   \n",
       "207         208    15679531  Collins          618    France    Male   34   \n",
       "4830       4831    15620758   Martel          660     Spain    Male   30   \n",
       "1633       1634    15755868   Farmer          562    France    Male   35   \n",
       "4044       4045    15607142   Parkin          658    France    Male   32   \n",
       "\n",
       "      Tenure    Balance  NumOfProducts  HasCrCard  IsActiveMember  \\\n",
       "2317     NaN  110414.48              1          1               1   \n",
       "4245     8.0  122338.43              2          1               0   \n",
       "5658     9.0       0.00              1          1               0   \n",
       "6972     9.0       0.00              1          1               1   \n",
       "2584     0.0       0.00              1          0               0   \n",
       "924      NaN   70302.48              1          1               1   \n",
       "207      5.0  134954.53              1          1               1   \n",
       "4830     4.0       0.00              2          1               0   \n",
       "1633     7.0       0.00              1          0               0   \n",
       "4044     8.0       0.00              1          1               1   \n",
       "\n",
       "      EstimatedSalary  Exited  \n",
       "2317         48984.95       0  \n",
       "4245        187985.85       0  \n",
       "5658         32430.94       1  \n",
       "6972        106340.66       1  \n",
       "2584         60416.76       0  \n",
       "924          68600.36       0  \n",
       "207         151954.39       0  \n",
       "4830        129149.06       0  \n",
       "1633         48869.67       0  \n",
       "4044         80410.68       0  "
      ]
     },
     "execution_count": 4,
     "metadata": {},
     "output_type": "execute_result"
    }
   ],
   "source": [
    "df.sample(10)"
   ]
  },
  {
   "cell_type": "markdown",
   "metadata": {},
   "source": [
    "**Features**\n",
    "- RowNumber — index of the row in the data\n",
    "- CustomerID — unique identifier of the customer\n",
    "- Surname — surname\n",
    "- CreditScore — credit rating\n",
    "- Geography — country of residence\n",
    "- Gender — gender\n",
    "- Age — age\n",
    "- Tenure — how many years has a person been a customer of the bank\n",
    "- Balance — account balance\n",
    "- NumOfProducts — the number of bank products used by the customer\n",
    "- HasCrCard — availability of a credit card\n",
    "- IsActiveMember — client activity\n",
    "- EstimatedSalary — estimated salary\n",
    "\n",
    "**Target**\n",
    "- Exited — the fact of the client's churn\n"
   ]
  },
  {
   "cell_type": "code",
   "execution_count": 5,
   "metadata": {},
   "outputs": [
    {
     "name": "stdout",
     "output_type": "stream",
     "text": [
      "<class 'pandas.core.frame.DataFrame'>\n",
      "RangeIndex: 10000 entries, 0 to 9999\n",
      "Data columns (total 14 columns):\n",
      " #   Column           Non-Null Count  Dtype  \n",
      "---  ------           --------------  -----  \n",
      " 0   RowNumber        10000 non-null  int64  \n",
      " 1   CustomerId       10000 non-null  int64  \n",
      " 2   Surname          10000 non-null  object \n",
      " 3   CreditScore      10000 non-null  int64  \n",
      " 4   Geography        10000 non-null  object \n",
      " 5   Gender           10000 non-null  object \n",
      " 6   Age              10000 non-null  int64  \n",
      " 7   Tenure           9091 non-null   float64\n",
      " 8   Balance          10000 non-null  float64\n",
      " 9   NumOfProducts    10000 non-null  int64  \n",
      " 10  HasCrCard        10000 non-null  int64  \n",
      " 11  IsActiveMember   10000 non-null  int64  \n",
      " 12  EstimatedSalary  10000 non-null  float64\n",
      " 13  Exited           10000 non-null  int64  \n",
      "dtypes: float64(3), int64(8), object(3)\n",
      "memory usage: 1.1+ MB\n"
     ]
    }
   ],
   "source": [
    "df.info()"
   ]
  },
  {
   "cell_type": "code",
   "execution_count": 6,
   "metadata": {},
   "outputs": [
    {
     "data": {
      "text/plain": [
       "array([ 2.,  1.,  8.,  7.,  4.,  6.,  3., 10.,  5.,  9.,  0., nan])"
      ]
     },
     "execution_count": 6,
     "metadata": {},
     "output_type": "execute_result"
    }
   ],
   "source": [
    "df['Tenure'].unique()"
   ]
  },
  {
   "cell_type": "code",
   "execution_count": 7,
   "metadata": {},
   "outputs": [
    {
     "data": {
      "text/plain": [
       "(10000, 14)"
      ]
     },
     "execution_count": 7,
     "metadata": {},
     "output_type": "execute_result"
    }
   ],
   "source": [
    "df.shape"
   ]
  },
  {
   "cell_type": "code",
   "execution_count": 8,
   "metadata": {},
   "outputs": [
    {
     "data": {
      "text/html": [
       "<div>\n",
       "<style scoped>\n",
       "    .dataframe tbody tr th:only-of-type {\n",
       "        vertical-align: middle;\n",
       "    }\n",
       "\n",
       "    .dataframe tbody tr th {\n",
       "        vertical-align: top;\n",
       "    }\n",
       "\n",
       "    .dataframe thead th {\n",
       "        text-align: right;\n",
       "    }\n",
       "</style>\n",
       "<table border=\"1\" class=\"dataframe\">\n",
       "  <thead>\n",
       "    <tr style=\"text-align: right;\">\n",
       "      <th></th>\n",
       "      <th>RowNumber</th>\n",
       "      <th>CustomerId</th>\n",
       "      <th>CreditScore</th>\n",
       "      <th>Age</th>\n",
       "      <th>Tenure</th>\n",
       "      <th>Balance</th>\n",
       "      <th>NumOfProducts</th>\n",
       "      <th>HasCrCard</th>\n",
       "      <th>IsActiveMember</th>\n",
       "      <th>EstimatedSalary</th>\n",
       "      <th>Exited</th>\n",
       "    </tr>\n",
       "  </thead>\n",
       "  <tbody>\n",
       "    <tr>\n",
       "      <th>count</th>\n",
       "      <td>10000.00000</td>\n",
       "      <td>1.000000e+04</td>\n",
       "      <td>10000.000000</td>\n",
       "      <td>10000.000000</td>\n",
       "      <td>9091.000000</td>\n",
       "      <td>10000.000000</td>\n",
       "      <td>10000.000000</td>\n",
       "      <td>10000.00000</td>\n",
       "      <td>10000.000000</td>\n",
       "      <td>10000.000000</td>\n",
       "      <td>10000.000000</td>\n",
       "    </tr>\n",
       "    <tr>\n",
       "      <th>mean</th>\n",
       "      <td>5000.50000</td>\n",
       "      <td>1.569094e+07</td>\n",
       "      <td>650.528800</td>\n",
       "      <td>38.921800</td>\n",
       "      <td>4.997690</td>\n",
       "      <td>76485.889288</td>\n",
       "      <td>1.530200</td>\n",
       "      <td>0.70550</td>\n",
       "      <td>0.515100</td>\n",
       "      <td>100090.239881</td>\n",
       "      <td>0.203700</td>\n",
       "    </tr>\n",
       "    <tr>\n",
       "      <th>std</th>\n",
       "      <td>2886.89568</td>\n",
       "      <td>7.193619e+04</td>\n",
       "      <td>96.653299</td>\n",
       "      <td>10.487806</td>\n",
       "      <td>2.894723</td>\n",
       "      <td>62397.405202</td>\n",
       "      <td>0.581654</td>\n",
       "      <td>0.45584</td>\n",
       "      <td>0.499797</td>\n",
       "      <td>57510.492818</td>\n",
       "      <td>0.402769</td>\n",
       "    </tr>\n",
       "    <tr>\n",
       "      <th>min</th>\n",
       "      <td>1.00000</td>\n",
       "      <td>1.556570e+07</td>\n",
       "      <td>350.000000</td>\n",
       "      <td>18.000000</td>\n",
       "      <td>0.000000</td>\n",
       "      <td>0.000000</td>\n",
       "      <td>1.000000</td>\n",
       "      <td>0.00000</td>\n",
       "      <td>0.000000</td>\n",
       "      <td>11.580000</td>\n",
       "      <td>0.000000</td>\n",
       "    </tr>\n",
       "    <tr>\n",
       "      <th>25%</th>\n",
       "      <td>2500.75000</td>\n",
       "      <td>1.562853e+07</td>\n",
       "      <td>584.000000</td>\n",
       "      <td>32.000000</td>\n",
       "      <td>2.000000</td>\n",
       "      <td>0.000000</td>\n",
       "      <td>1.000000</td>\n",
       "      <td>0.00000</td>\n",
       "      <td>0.000000</td>\n",
       "      <td>51002.110000</td>\n",
       "      <td>0.000000</td>\n",
       "    </tr>\n",
       "    <tr>\n",
       "      <th>50%</th>\n",
       "      <td>5000.50000</td>\n",
       "      <td>1.569074e+07</td>\n",
       "      <td>652.000000</td>\n",
       "      <td>37.000000</td>\n",
       "      <td>5.000000</td>\n",
       "      <td>97198.540000</td>\n",
       "      <td>1.000000</td>\n",
       "      <td>1.00000</td>\n",
       "      <td>1.000000</td>\n",
       "      <td>100193.915000</td>\n",
       "      <td>0.000000</td>\n",
       "    </tr>\n",
       "    <tr>\n",
       "      <th>75%</th>\n",
       "      <td>7500.25000</td>\n",
       "      <td>1.575323e+07</td>\n",
       "      <td>718.000000</td>\n",
       "      <td>44.000000</td>\n",
       "      <td>7.000000</td>\n",
       "      <td>127644.240000</td>\n",
       "      <td>2.000000</td>\n",
       "      <td>1.00000</td>\n",
       "      <td>1.000000</td>\n",
       "      <td>149388.247500</td>\n",
       "      <td>0.000000</td>\n",
       "    </tr>\n",
       "    <tr>\n",
       "      <th>max</th>\n",
       "      <td>10000.00000</td>\n",
       "      <td>1.581569e+07</td>\n",
       "      <td>850.000000</td>\n",
       "      <td>92.000000</td>\n",
       "      <td>10.000000</td>\n",
       "      <td>250898.090000</td>\n",
       "      <td>4.000000</td>\n",
       "      <td>1.00000</td>\n",
       "      <td>1.000000</td>\n",
       "      <td>199992.480000</td>\n",
       "      <td>1.000000</td>\n",
       "    </tr>\n",
       "  </tbody>\n",
       "</table>\n",
       "</div>"
      ],
      "text/plain": [
       "         RowNumber    CustomerId   CreditScore           Age       Tenure  \\\n",
       "count  10000.00000  1.000000e+04  10000.000000  10000.000000  9091.000000   \n",
       "mean    5000.50000  1.569094e+07    650.528800     38.921800     4.997690   \n",
       "std     2886.89568  7.193619e+04     96.653299     10.487806     2.894723   \n",
       "min        1.00000  1.556570e+07    350.000000     18.000000     0.000000   \n",
       "25%     2500.75000  1.562853e+07    584.000000     32.000000     2.000000   \n",
       "50%     5000.50000  1.569074e+07    652.000000     37.000000     5.000000   \n",
       "75%     7500.25000  1.575323e+07    718.000000     44.000000     7.000000   \n",
       "max    10000.00000  1.581569e+07    850.000000     92.000000    10.000000   \n",
       "\n",
       "             Balance  NumOfProducts    HasCrCard  IsActiveMember  \\\n",
       "count   10000.000000   10000.000000  10000.00000    10000.000000   \n",
       "mean    76485.889288       1.530200      0.70550        0.515100   \n",
       "std     62397.405202       0.581654      0.45584        0.499797   \n",
       "min         0.000000       1.000000      0.00000        0.000000   \n",
       "25%         0.000000       1.000000      0.00000        0.000000   \n",
       "50%     97198.540000       1.000000      1.00000        1.000000   \n",
       "75%    127644.240000       2.000000      1.00000        1.000000   \n",
       "max    250898.090000       4.000000      1.00000        1.000000   \n",
       "\n",
       "       EstimatedSalary        Exited  \n",
       "count     10000.000000  10000.000000  \n",
       "mean     100090.239881      0.203700  \n",
       "std       57510.492818      0.402769  \n",
       "min          11.580000      0.000000  \n",
       "25%       51002.110000      0.000000  \n",
       "50%      100193.915000      0.000000  \n",
       "75%      149388.247500      0.000000  \n",
       "max      199992.480000      1.000000  "
      ]
     },
     "execution_count": 8,
     "metadata": {},
     "output_type": "execute_result"
    }
   ],
   "source": [
    "df.describe()"
   ]
  },
  {
   "cell_type": "markdown",
   "metadata": {},
   "source": [
    "After a preliminary acquaintance with the data, we see a large number of omissions in the 'Tenure' feature. Let's take a closer look at this data"
   ]
  },
  {
   "cell_type": "code",
   "execution_count": 9,
   "metadata": {},
   "outputs": [
    {
     "data": {
      "text/html": [
       "<div>\n",
       "<style scoped>\n",
       "    .dataframe tbody tr th:only-of-type {\n",
       "        vertical-align: middle;\n",
       "    }\n",
       "\n",
       "    .dataframe tbody tr th {\n",
       "        vertical-align: top;\n",
       "    }\n",
       "\n",
       "    .dataframe thead th {\n",
       "        text-align: right;\n",
       "    }\n",
       "</style>\n",
       "<table border=\"1\" class=\"dataframe\">\n",
       "  <thead>\n",
       "    <tr style=\"text-align: right;\">\n",
       "      <th></th>\n",
       "      <th>RowNumber</th>\n",
       "      <th>CustomerId</th>\n",
       "      <th>Surname</th>\n",
       "      <th>CreditScore</th>\n",
       "      <th>Geography</th>\n",
       "      <th>Gender</th>\n",
       "      <th>Age</th>\n",
       "      <th>Tenure</th>\n",
       "      <th>Balance</th>\n",
       "      <th>NumOfProducts</th>\n",
       "      <th>HasCrCard</th>\n",
       "      <th>IsActiveMember</th>\n",
       "      <th>EstimatedSalary</th>\n",
       "      <th>Exited</th>\n",
       "    </tr>\n",
       "  </thead>\n",
       "  <tbody>\n",
       "    <tr>\n",
       "      <th>4918</th>\n",
       "      <td>4919</td>\n",
       "      <td>15796074</td>\n",
       "      <td>Bruno</td>\n",
       "      <td>717</td>\n",
       "      <td>France</td>\n",
       "      <td>Female</td>\n",
       "      <td>36</td>\n",
       "      <td>NaN</td>\n",
       "      <td>99472.76</td>\n",
       "      <td>2</td>\n",
       "      <td>1</td>\n",
       "      <td>0</td>\n",
       "      <td>94274.72</td>\n",
       "      <td>1</td>\n",
       "    </tr>\n",
       "    <tr>\n",
       "      <th>6950</th>\n",
       "      <td>6951</td>\n",
       "      <td>15667392</td>\n",
       "      <td>L?</td>\n",
       "      <td>652</td>\n",
       "      <td>Spain</td>\n",
       "      <td>Female</td>\n",
       "      <td>38</td>\n",
       "      <td>NaN</td>\n",
       "      <td>123081.84</td>\n",
       "      <td>2</td>\n",
       "      <td>1</td>\n",
       "      <td>1</td>\n",
       "      <td>188657.97</td>\n",
       "      <td>0</td>\n",
       "    </tr>\n",
       "    <tr>\n",
       "      <th>9485</th>\n",
       "      <td>9486</td>\n",
       "      <td>15656319</td>\n",
       "      <td>Toscano</td>\n",
       "      <td>850</td>\n",
       "      <td>Spain</td>\n",
       "      <td>Male</td>\n",
       "      <td>37</td>\n",
       "      <td>NaN</td>\n",
       "      <td>88141.10</td>\n",
       "      <td>1</td>\n",
       "      <td>1</td>\n",
       "      <td>0</td>\n",
       "      <td>109659.12</td>\n",
       "      <td>0</td>\n",
       "    </tr>\n",
       "    <tr>\n",
       "      <th>9938</th>\n",
       "      <td>9939</td>\n",
       "      <td>15593496</td>\n",
       "      <td>Korovin</td>\n",
       "      <td>526</td>\n",
       "      <td>Spain</td>\n",
       "      <td>Female</td>\n",
       "      <td>36</td>\n",
       "      <td>NaN</td>\n",
       "      <td>91132.18</td>\n",
       "      <td>1</td>\n",
       "      <td>0</td>\n",
       "      <td>0</td>\n",
       "      <td>58111.71</td>\n",
       "      <td>0</td>\n",
       "    </tr>\n",
       "    <tr>\n",
       "      <th>9822</th>\n",
       "      <td>9823</td>\n",
       "      <td>15781298</td>\n",
       "      <td>Hughes</td>\n",
       "      <td>808</td>\n",
       "      <td>Germany</td>\n",
       "      <td>Male</td>\n",
       "      <td>39</td>\n",
       "      <td>NaN</td>\n",
       "      <td>124216.93</td>\n",
       "      <td>1</td>\n",
       "      <td>0</td>\n",
       "      <td>1</td>\n",
       "      <td>171442.36</td>\n",
       "      <td>0</td>\n",
       "    </tr>\n",
       "    <tr>\n",
       "      <th>6497</th>\n",
       "      <td>6498</td>\n",
       "      <td>15793688</td>\n",
       "      <td>Bancks</td>\n",
       "      <td>669</td>\n",
       "      <td>France</td>\n",
       "      <td>Male</td>\n",
       "      <td>50</td>\n",
       "      <td>NaN</td>\n",
       "      <td>201009.64</td>\n",
       "      <td>1</td>\n",
       "      <td>1</td>\n",
       "      <td>0</td>\n",
       "      <td>158032.50</td>\n",
       "      <td>1</td>\n",
       "    </tr>\n",
       "    <tr>\n",
       "      <th>3608</th>\n",
       "      <td>3609</td>\n",
       "      <td>15601873</td>\n",
       "      <td>Bull</td>\n",
       "      <td>677</td>\n",
       "      <td>France</td>\n",
       "      <td>Female</td>\n",
       "      <td>36</td>\n",
       "      <td>NaN</td>\n",
       "      <td>0.00</td>\n",
       "      <td>1</td>\n",
       "      <td>1</td>\n",
       "      <td>0</td>\n",
       "      <td>47318.75</td>\n",
       "      <td>0</td>\n",
       "    </tr>\n",
       "    <tr>\n",
       "      <th>4989</th>\n",
       "      <td>4990</td>\n",
       "      <td>15602851</td>\n",
       "      <td>Ozioma</td>\n",
       "      <td>629</td>\n",
       "      <td>France</td>\n",
       "      <td>Male</td>\n",
       "      <td>40</td>\n",
       "      <td>NaN</td>\n",
       "      <td>0.00</td>\n",
       "      <td>1</td>\n",
       "      <td>1</td>\n",
       "      <td>0</td>\n",
       "      <td>106.67</td>\n",
       "      <td>0</td>\n",
       "    </tr>\n",
       "    <tr>\n",
       "      <th>8436</th>\n",
       "      <td>8437</td>\n",
       "      <td>15617538</td>\n",
       "      <td>Nwankwo</td>\n",
       "      <td>834</td>\n",
       "      <td>Spain</td>\n",
       "      <td>Male</td>\n",
       "      <td>40</td>\n",
       "      <td>NaN</td>\n",
       "      <td>0.00</td>\n",
       "      <td>2</td>\n",
       "      <td>0</td>\n",
       "      <td>0</td>\n",
       "      <td>45038.74</td>\n",
       "      <td>0</td>\n",
       "    </tr>\n",
       "    <tr>\n",
       "      <th>8608</th>\n",
       "      <td>8609</td>\n",
       "      <td>15649060</td>\n",
       "      <td>Chien</td>\n",
       "      <td>727</td>\n",
       "      <td>Germany</td>\n",
       "      <td>Female</td>\n",
       "      <td>31</td>\n",
       "      <td>NaN</td>\n",
       "      <td>82729.47</td>\n",
       "      <td>2</td>\n",
       "      <td>1</td>\n",
       "      <td>0</td>\n",
       "      <td>60212.51</td>\n",
       "      <td>0</td>\n",
       "    </tr>\n",
       "    <tr>\n",
       "      <th>7727</th>\n",
       "      <td>7728</td>\n",
       "      <td>15612729</td>\n",
       "      <td>Chidiebere</td>\n",
       "      <td>681</td>\n",
       "      <td>France</td>\n",
       "      <td>Female</td>\n",
       "      <td>63</td>\n",
       "      <td>NaN</td>\n",
       "      <td>0.00</td>\n",
       "      <td>2</td>\n",
       "      <td>1</td>\n",
       "      <td>1</td>\n",
       "      <td>55054.48</td>\n",
       "      <td>0</td>\n",
       "    </tr>\n",
       "    <tr>\n",
       "      <th>5469</th>\n",
       "      <td>5470</td>\n",
       "      <td>15678571</td>\n",
       "      <td>Barber</td>\n",
       "      <td>723</td>\n",
       "      <td>France</td>\n",
       "      <td>Male</td>\n",
       "      <td>21</td>\n",
       "      <td>NaN</td>\n",
       "      <td>0.00</td>\n",
       "      <td>2</td>\n",
       "      <td>0</td>\n",
       "      <td>0</td>\n",
       "      <td>24847.02</td>\n",
       "      <td>0</td>\n",
       "    </tr>\n",
       "    <tr>\n",
       "      <th>1447</th>\n",
       "      <td>1448</td>\n",
       "      <td>15697311</td>\n",
       "      <td>Nebechukwu</td>\n",
       "      <td>697</td>\n",
       "      <td>Spain</td>\n",
       "      <td>Male</td>\n",
       "      <td>56</td>\n",
       "      <td>NaN</td>\n",
       "      <td>110802.03</td>\n",
       "      <td>1</td>\n",
       "      <td>1</td>\n",
       "      <td>1</td>\n",
       "      <td>50230.31</td>\n",
       "      <td>1</td>\n",
       "    </tr>\n",
       "    <tr>\n",
       "      <th>482</th>\n",
       "      <td>483</td>\n",
       "      <td>15750658</td>\n",
       "      <td>Obiuto</td>\n",
       "      <td>798</td>\n",
       "      <td>France</td>\n",
       "      <td>Male</td>\n",
       "      <td>37</td>\n",
       "      <td>NaN</td>\n",
       "      <td>0.00</td>\n",
       "      <td>3</td>\n",
       "      <td>0</td>\n",
       "      <td>0</td>\n",
       "      <td>110783.28</td>\n",
       "      <td>0</td>\n",
       "    </tr>\n",
       "    <tr>\n",
       "      <th>4792</th>\n",
       "      <td>4793</td>\n",
       "      <td>15809991</td>\n",
       "      <td>Ferrari</td>\n",
       "      <td>756</td>\n",
       "      <td>Spain</td>\n",
       "      <td>Male</td>\n",
       "      <td>19</td>\n",
       "      <td>NaN</td>\n",
       "      <td>130274.22</td>\n",
       "      <td>1</td>\n",
       "      <td>1</td>\n",
       "      <td>1</td>\n",
       "      <td>133535.29</td>\n",
       "      <td>0</td>\n",
       "    </tr>\n",
       "  </tbody>\n",
       "</table>\n",
       "</div>"
      ],
      "text/plain": [
       "      RowNumber  CustomerId     Surname  CreditScore Geography  Gender  Age  \\\n",
       "4918       4919    15796074       Bruno          717    France  Female   36   \n",
       "6950       6951    15667392          L?          652     Spain  Female   38   \n",
       "9485       9486    15656319     Toscano          850     Spain    Male   37   \n",
       "9938       9939    15593496     Korovin          526     Spain  Female   36   \n",
       "9822       9823    15781298      Hughes          808   Germany    Male   39   \n",
       "6497       6498    15793688      Bancks          669    France    Male   50   \n",
       "3608       3609    15601873        Bull          677    France  Female   36   \n",
       "4989       4990    15602851      Ozioma          629    France    Male   40   \n",
       "8436       8437    15617538     Nwankwo          834     Spain    Male   40   \n",
       "8608       8609    15649060       Chien          727   Germany  Female   31   \n",
       "7727       7728    15612729  Chidiebere          681    France  Female   63   \n",
       "5469       5470    15678571      Barber          723    France    Male   21   \n",
       "1447       1448    15697311  Nebechukwu          697     Spain    Male   56   \n",
       "482         483    15750658      Obiuto          798    France    Male   37   \n",
       "4792       4793    15809991     Ferrari          756     Spain    Male   19   \n",
       "\n",
       "      Tenure    Balance  NumOfProducts  HasCrCard  IsActiveMember  \\\n",
       "4918     NaN   99472.76              2          1               0   \n",
       "6950     NaN  123081.84              2          1               1   \n",
       "9485     NaN   88141.10              1          1               0   \n",
       "9938     NaN   91132.18              1          0               0   \n",
       "9822     NaN  124216.93              1          0               1   \n",
       "6497     NaN  201009.64              1          1               0   \n",
       "3608     NaN       0.00              1          1               0   \n",
       "4989     NaN       0.00              1          1               0   \n",
       "8436     NaN       0.00              2          0               0   \n",
       "8608     NaN   82729.47              2          1               0   \n",
       "7727     NaN       0.00              2          1               1   \n",
       "5469     NaN       0.00              2          0               0   \n",
       "1447     NaN  110802.03              1          1               1   \n",
       "482      NaN       0.00              3          0               0   \n",
       "4792     NaN  130274.22              1          1               1   \n",
       "\n",
       "      EstimatedSalary  Exited  \n",
       "4918         94274.72       1  \n",
       "6950        188657.97       0  \n",
       "9485        109659.12       0  \n",
       "9938         58111.71       0  \n",
       "9822        171442.36       0  \n",
       "6497        158032.50       1  \n",
       "3608         47318.75       0  \n",
       "4989           106.67       0  \n",
       "8436         45038.74       0  \n",
       "8608         60212.51       0  \n",
       "7727         55054.48       0  \n",
       "5469         24847.02       0  \n",
       "1447         50230.31       1  \n",
       "482         110783.28       0  \n",
       "4792        133535.29       0  "
      ]
     },
     "execution_count": 9,
     "metadata": {},
     "output_type": "execute_result"
    }
   ],
   "source": [
    "df[df['Tenure'].isnull()].sample(15)"
   ]
  },
  {
   "cell_type": "code",
   "execution_count": 10,
   "metadata": {},
   "outputs": [
    {
     "data": {
      "text/plain": [
       "array([[<AxesSubplot:title={'center':'RowNumber'}>,\n",
       "        <AxesSubplot:title={'center':'CustomerId'}>,\n",
       "        <AxesSubplot:title={'center':'CreditScore'}>],\n",
       "       [<AxesSubplot:title={'center':'Age'}>,\n",
       "        <AxesSubplot:title={'center':'Tenure'}>,\n",
       "        <AxesSubplot:title={'center':'Balance'}>],\n",
       "       [<AxesSubplot:title={'center':'NumOfProducts'}>,\n",
       "        <AxesSubplot:title={'center':'HasCrCard'}>,\n",
       "        <AxesSubplot:title={'center':'IsActiveMember'}>],\n",
       "       [<AxesSubplot:title={'center':'EstimatedSalary'}>,\n",
       "        <AxesSubplot:title={'center':'Exited'}>, <AxesSubplot:>]],\n",
       "      dtype=object)"
      ]
     },
     "execution_count": 10,
     "metadata": {},
     "output_type": "execute_result"
    },
    {
     "data": {
      "image/png": "[encoded data removed]",
      "text/plain": [
       "<Figure size 1440x1440 with 12 Axes>"
      ]
     },
     "metadata": {
      "needs_background": "light"
     },
     "output_type": "display_data"
    }
   ],
   "source": [
    "df[df['Tenure'].isnull()].hist(figsize=(20,20))"
   ]
  },
  {
   "cell_type": "markdown",
   "metadata": {},
   "source": [
    "Let's look at the correlation of data in this dataset"
   ]
  },
  {
   "cell_type": "code",
   "execution_count": 11,
   "metadata": {},
   "outputs": [
    {
     "data": {
      "text/plain": [
       "<AxesSubplot:title={'center':'Pearson Correlation of Features'}>"
      ]
     },
     "execution_count": 11,
     "metadata": {},
     "output_type": "execute_result"
    },
    {
     "data": {
      "image/png": "[encoded data removed]",
      "text/plain": [
       "<Figure size 1008x864 with 2 Axes>"
      ]
     },
     "metadata": {
      "needs_background": "light"
     },
     "output_type": "display_data"
    }
   ],
   "source": [
    "colormap=plt.cm.RdBu\n",
    "plt.figure(figsize=(14,12))\n",
    "plt.title('Pearson Correlation of Features')\n",
    "sns.heatmap(df.corr(),\n",
    "            linewidths=0.1, vmax=1.0,\n",
    "            square=True, annot=True, cmap=colormap)"
   ]
  },
  {
   "cell_type": "markdown",
   "metadata": {},
   "source": [
    "After a preliminary acquaintance with the data, it is clear that it is necessary to decide what to do with the gaps in the column with the 'Tenure' feature. On the one hand, throwing out about 10% of the data is a lot, however, on the other hand, it is obvious that this feature almost does not correlate with others, and besides, by putting a \"stub\" we will complicate the \"learning process\" of our model in the future, so we will rewrite the dataset without missing values; we will remove the features that do not affect the target attribute in our task: the client has churn or not, and also change the data type in the 'tenure' column to 'int', because only integer values are represented in it"
   ]
  },
  {
   "cell_type": "code",
   "execution_count": 12,
   "metadata": {},
   "outputs": [],
   "source": [
    "df.drop(columns=['RowNumber', 'CustomerId', 'Surname'], inplace=True, axis=1)\n",
    "\n",
    "df['Tenure'] = df['Tenure'].fillna(np.random.choice(df['Tenure'].dropna()))\n",
    "df['Tenure']=df['Tenure'].astype('int')\n"
   ]
  },
  {
   "cell_type": "code",
   "execution_count": 13,
   "metadata": {},
   "outputs": [],
   "source": [
    "df.columns = df.columns.str.lower()"
   ]
  },
  {
   "cell_type": "code",
   "execution_count": 14,
   "metadata": {},
   "outputs": [
    {
     "name": "stdout",
     "output_type": "stream",
     "text": [
      "<class 'pandas.core.frame.DataFrame'>\n",
      "RangeIndex: 10000 entries, 0 to 9999\n",
      "Data columns (total 11 columns):\n",
      " #   Column           Non-Null Count  Dtype  \n",
      "---  ------           --------------  -----  \n",
      " 0   creditscore      10000 non-null  int64  \n",
      " 1   geography        10000 non-null  object \n",
      " 2   gender           10000 non-null  object \n",
      " 3   age              10000 non-null  int64  \n",
      " 4   tenure           10000 non-null  int32  \n",
      " 5   balance          10000 non-null  float64\n",
      " 6   numofproducts    10000 non-null  int64  \n",
      " 7   hascrcard        10000 non-null  int64  \n",
      " 8   isactivemember   10000 non-null  int64  \n",
      " 9   estimatedsalary  10000 non-null  float64\n",
      " 10  exited           10000 non-null  int64  \n",
      "dtypes: float64(2), int32(1), int64(6), object(2)\n",
      "memory usage: 820.4+ KB\n"
     ]
    }
   ],
   "source": [
    "df.info()"
   ]
  },
  {
   "cell_type": "code",
   "execution_count": 15,
   "metadata": {},
   "outputs": [
    {
     "data": {
      "text/html": [
       "<div>\n",
       "<style scoped>\n",
       "    .dataframe tbody tr th:only-of-type {\n",
       "        vertical-align: middle;\n",
       "    }\n",
       "\n",
       "    .dataframe tbody tr th {\n",
       "        vertical-align: top;\n",
       "    }\n",
       "\n",
       "    .dataframe thead th {\n",
       "        text-align: right;\n",
       "    }\n",
       "</style>\n",
       "<table border=\"1\" class=\"dataframe\">\n",
       "  <thead>\n",
       "    <tr style=\"text-align: right;\">\n",
       "      <th></th>\n",
       "      <th>creditscore</th>\n",
       "      <th>geography</th>\n",
       "      <th>gender</th>\n",
       "      <th>age</th>\n",
       "      <th>tenure</th>\n",
       "      <th>balance</th>\n",
       "      <th>numofproducts</th>\n",
       "      <th>hascrcard</th>\n",
       "      <th>isactivemember</th>\n",
       "      <th>estimatedsalary</th>\n",
       "      <th>exited</th>\n",
       "    </tr>\n",
       "  </thead>\n",
       "  <tbody>\n",
       "    <tr>\n",
       "      <th>0</th>\n",
       "      <td>619</td>\n",
       "      <td>France</td>\n",
       "      <td>Female</td>\n",
       "      <td>42</td>\n",
       "      <td>2</td>\n",
       "      <td>0.00</td>\n",
       "      <td>1</td>\n",
       "      <td>1</td>\n",
       "      <td>1</td>\n",
       "      <td>101348.88</td>\n",
       "      <td>1</td>\n",
       "    </tr>\n",
       "    <tr>\n",
       "      <th>1</th>\n",
       "      <td>608</td>\n",
       "      <td>Spain</td>\n",
       "      <td>Female</td>\n",
       "      <td>41</td>\n",
       "      <td>1</td>\n",
       "      <td>83807.86</td>\n",
       "      <td>1</td>\n",
       "      <td>0</td>\n",
       "      <td>1</td>\n",
       "      <td>112542.58</td>\n",
       "      <td>0</td>\n",
       "    </tr>\n",
       "    <tr>\n",
       "      <th>2</th>\n",
       "      <td>502</td>\n",
       "      <td>France</td>\n",
       "      <td>Female</td>\n",
       "      <td>42</td>\n",
       "      <td>8</td>\n",
       "      <td>159660.80</td>\n",
       "      <td>3</td>\n",
       "      <td>1</td>\n",
       "      <td>0</td>\n",
       "      <td>113931.57</td>\n",
       "      <td>1</td>\n",
       "    </tr>\n",
       "    <tr>\n",
       "      <th>3</th>\n",
       "      <td>699</td>\n",
       "      <td>France</td>\n",
       "      <td>Female</td>\n",
       "      <td>39</td>\n",
       "      <td>1</td>\n",
       "      <td>0.00</td>\n",
       "      <td>2</td>\n",
       "      <td>0</td>\n",
       "      <td>0</td>\n",
       "      <td>93826.63</td>\n",
       "      <td>0</td>\n",
       "    </tr>\n",
       "    <tr>\n",
       "      <th>4</th>\n",
       "      <td>850</td>\n",
       "      <td>Spain</td>\n",
       "      <td>Female</td>\n",
       "      <td>43</td>\n",
       "      <td>2</td>\n",
       "      <td>125510.82</td>\n",
       "      <td>1</td>\n",
       "      <td>1</td>\n",
       "      <td>1</td>\n",
       "      <td>79084.10</td>\n",
       "      <td>0</td>\n",
       "    </tr>\n",
       "    <tr>\n",
       "      <th>5</th>\n",
       "      <td>645</td>\n",
       "      <td>Spain</td>\n",
       "      <td>Male</td>\n",
       "      <td>44</td>\n",
       "      <td>8</td>\n",
       "      <td>113755.78</td>\n",
       "      <td>2</td>\n",
       "      <td>1</td>\n",
       "      <td>0</td>\n",
       "      <td>149756.71</td>\n",
       "      <td>1</td>\n",
       "    </tr>\n",
       "    <tr>\n",
       "      <th>6</th>\n",
       "      <td>822</td>\n",
       "      <td>France</td>\n",
       "      <td>Male</td>\n",
       "      <td>50</td>\n",
       "      <td>7</td>\n",
       "      <td>0.00</td>\n",
       "      <td>2</td>\n",
       "      <td>1</td>\n",
       "      <td>1</td>\n",
       "      <td>10062.80</td>\n",
       "      <td>0</td>\n",
       "    </tr>\n",
       "    <tr>\n",
       "      <th>7</th>\n",
       "      <td>376</td>\n",
       "      <td>Germany</td>\n",
       "      <td>Female</td>\n",
       "      <td>29</td>\n",
       "      <td>4</td>\n",
       "      <td>115046.74</td>\n",
       "      <td>4</td>\n",
       "      <td>1</td>\n",
       "      <td>0</td>\n",
       "      <td>119346.88</td>\n",
       "      <td>1</td>\n",
       "    </tr>\n",
       "    <tr>\n",
       "      <th>8</th>\n",
       "      <td>501</td>\n",
       "      <td>France</td>\n",
       "      <td>Male</td>\n",
       "      <td>44</td>\n",
       "      <td>4</td>\n",
       "      <td>142051.07</td>\n",
       "      <td>2</td>\n",
       "      <td>0</td>\n",
       "      <td>1</td>\n",
       "      <td>74940.50</td>\n",
       "      <td>0</td>\n",
       "    </tr>\n",
       "    <tr>\n",
       "      <th>9</th>\n",
       "      <td>684</td>\n",
       "      <td>France</td>\n",
       "      <td>Male</td>\n",
       "      <td>27</td>\n",
       "      <td>2</td>\n",
       "      <td>134603.88</td>\n",
       "      <td>1</td>\n",
       "      <td>1</td>\n",
       "      <td>1</td>\n",
       "      <td>71725.73</td>\n",
       "      <td>0</td>\n",
       "    </tr>\n",
       "  </tbody>\n",
       "</table>\n",
       "</div>"
      ],
      "text/plain": [
       "   creditscore geography  gender  age  tenure    balance  numofproducts  \\\n",
       "0          619    France  Female   42       2       0.00              1   \n",
       "1          608     Spain  Female   41       1   83807.86              1   \n",
       "2          502    France  Female   42       8  159660.80              3   \n",
       "3          699    France  Female   39       1       0.00              2   \n",
       "4          850     Spain  Female   43       2  125510.82              1   \n",
       "5          645     Spain    Male   44       8  113755.78              2   \n",
       "6          822    France    Male   50       7       0.00              2   \n",
       "7          376   Germany  Female   29       4  115046.74              4   \n",
       "8          501    France    Male   44       4  142051.07              2   \n",
       "9          684    France    Male   27       2  134603.88              1   \n",
       "\n",
       "   hascrcard  isactivemember  estimatedsalary  exited  \n",
       "0          1               1        101348.88       1  \n",
       "1          0               1        112542.58       0  \n",
       "2          1               0        113931.57       1  \n",
       "3          0               0         93826.63       0  \n",
       "4          1               1         79084.10       0  \n",
       "5          1               0        149756.71       1  \n",
       "6          1               1         10062.80       0  \n",
       "7          1               0        119346.88       1  \n",
       "8          0               1         74940.50       0  \n",
       "9          1               1         71725.73       0  "
      ]
     },
     "execution_count": 15,
     "metadata": {},
     "output_type": "execute_result"
    }
   ],
   "source": [
    "df.head(10)"
   ]
  },
  {
   "cell_type": "code",
   "execution_count": 16,
   "metadata": {},
   "outputs": [
    {
     "name": "stdout",
     "output_type": "stream",
     "text": [
      "Training sample size: 6000\n",
      "Validation sample size: 2000\n",
      "Testing sample size: 2000\n"
     ]
    }
   ],
   "source": [
    "\n",
    "\n",
    "df_train, df_valid = train_test_split(df, test_size=0.40, random_state=1410, stratify=df['exited'])\n",
    "df_valid, df_test = train_test_split(df_valid,test_size = 0.5, random_state=1410, stratify=df_valid['exited'])\n",
    "print('Training sample size:', df_train.shape[0])\n",
    "print('Validation sample size:', df_valid.shape[0])\n",
    "print('Testing sample size:',df_test.shape[0])"
   ]
  },
  {
   "cell_type": "code",
   "execution_count": 17,
   "metadata": {},
   "outputs": [
    {
     "data": {
      "text/html": [
       "<div>\n",
       "<style scoped>\n",
       "    .dataframe tbody tr th:only-of-type {\n",
       "        vertical-align: middle;\n",
       "    }\n",
       "\n",
       "    .dataframe tbody tr th {\n",
       "        vertical-align: top;\n",
       "    }\n",
       "\n",
       "    .dataframe thead th {\n",
       "        text-align: right;\n",
       "    }\n",
       "</style>\n",
       "<table border=\"1\" class=\"dataframe\">\n",
       "  <thead>\n",
       "    <tr style=\"text-align: right;\">\n",
       "      <th></th>\n",
       "      <th>creditscore</th>\n",
       "      <th>age</th>\n",
       "      <th>tenure</th>\n",
       "      <th>balance</th>\n",
       "      <th>numofproducts</th>\n",
       "      <th>hascrcard</th>\n",
       "      <th>isactivemember</th>\n",
       "      <th>estimatedsalary</th>\n",
       "      <th>exited</th>\n",
       "      <th>geography_Germany</th>\n",
       "      <th>geography_Spain</th>\n",
       "      <th>gender_Male</th>\n",
       "    </tr>\n",
       "  </thead>\n",
       "  <tbody>\n",
       "    <tr>\n",
       "      <th>872</th>\n",
       "      <td>722</td>\n",
       "      <td>35</td>\n",
       "      <td>2</td>\n",
       "      <td>163943.89</td>\n",
       "      <td>2</td>\n",
       "      <td>1</td>\n",
       "      <td>1</td>\n",
       "      <td>15068.18</td>\n",
       "      <td>0</td>\n",
       "      <td>0</td>\n",
       "      <td>0</td>\n",
       "      <td>0</td>\n",
       "    </tr>\n",
       "    <tr>\n",
       "      <th>3611</th>\n",
       "      <td>746</td>\n",
       "      <td>21</td>\n",
       "      <td>8</td>\n",
       "      <td>166883.07</td>\n",
       "      <td>2</td>\n",
       "      <td>0</td>\n",
       "      <td>1</td>\n",
       "      <td>194563.65</td>\n",
       "      <td>0</td>\n",
       "      <td>0</td>\n",
       "      <td>0</td>\n",
       "      <td>0</td>\n",
       "    </tr>\n",
       "    <tr>\n",
       "      <th>8137</th>\n",
       "      <td>410</td>\n",
       "      <td>33</td>\n",
       "      <td>6</td>\n",
       "      <td>125789.69</td>\n",
       "      <td>1</td>\n",
       "      <td>0</td>\n",
       "      <td>0</td>\n",
       "      <td>66333.56</td>\n",
       "      <td>1</td>\n",
       "      <td>0</td>\n",
       "      <td>0</td>\n",
       "      <td>1</td>\n",
       "    </tr>\n",
       "    <tr>\n",
       "      <th>4027</th>\n",
       "      <td>662</td>\n",
       "      <td>39</td>\n",
       "      <td>5</td>\n",
       "      <td>139822.11</td>\n",
       "      <td>2</td>\n",
       "      <td>1</td>\n",
       "      <td>1</td>\n",
       "      <td>146219.90</td>\n",
       "      <td>0</td>\n",
       "      <td>1</td>\n",
       "      <td>0</td>\n",
       "      <td>1</td>\n",
       "    </tr>\n",
       "    <tr>\n",
       "      <th>3741</th>\n",
       "      <td>738</td>\n",
       "      <td>29</td>\n",
       "      <td>9</td>\n",
       "      <td>139106.19</td>\n",
       "      <td>1</td>\n",
       "      <td>1</td>\n",
       "      <td>0</td>\n",
       "      <td>141872.05</td>\n",
       "      <td>1</td>\n",
       "      <td>1</td>\n",
       "      <td>0</td>\n",
       "      <td>0</td>\n",
       "    </tr>\n",
       "  </tbody>\n",
       "</table>\n",
       "</div>"
      ],
      "text/plain": [
       "      creditscore  age  tenure    balance  numofproducts  hascrcard  \\\n",
       "872           722   35       2  163943.89              2          1   \n",
       "3611          746   21       8  166883.07              2          0   \n",
       "8137          410   33       6  125789.69              1          0   \n",
       "4027          662   39       5  139822.11              2          1   \n",
       "3741          738   29       9  139106.19              1          1   \n",
       "\n",
       "      isactivemember  estimatedsalary  exited  geography_Germany  \\\n",
       "872                1         15068.18       0                  0   \n",
       "3611               1        194563.65       0                  0   \n",
       "8137               0         66333.56       1                  0   \n",
       "4027               1        146219.90       0                  1   \n",
       "3741               0        141872.05       1                  1   \n",
       "\n",
       "      geography_Spain  gender_Male  \n",
       "872                 0            0  \n",
       "3611                0            0  \n",
       "8137                0            1  \n",
       "4027                0            1  \n",
       "3741                0            0  "
      ]
     },
     "execution_count": 17,
     "metadata": {},
     "output_type": "execute_result"
    }
   ],
   "source": [
    "\n",
    "df_train_ohe=pd.get_dummies(df_train,drop_first=True)\n",
    "df_train_ohe.head()\n"
   ]
  },
  {
   "cell_type": "code",
   "execution_count": 18,
   "metadata": {},
   "outputs": [
    {
     "data": {
      "text/html": [
       "<div>\n",
       "<style scoped>\n",
       "    .dataframe tbody tr th:only-of-type {\n",
       "        vertical-align: middle;\n",
       "    }\n",
       "\n",
       "    .dataframe tbody tr th {\n",
       "        vertical-align: top;\n",
       "    }\n",
       "\n",
       "    .dataframe thead th {\n",
       "        text-align: right;\n",
       "    }\n",
       "</style>\n",
       "<table border=\"1\" class=\"dataframe\">\n",
       "  <thead>\n",
       "    <tr style=\"text-align: right;\">\n",
       "      <th></th>\n",
       "      <th>creditscore</th>\n",
       "      <th>age</th>\n",
       "      <th>tenure</th>\n",
       "      <th>balance</th>\n",
       "      <th>numofproducts</th>\n",
       "      <th>hascrcard</th>\n",
       "      <th>isactivemember</th>\n",
       "      <th>estimatedsalary</th>\n",
       "      <th>exited</th>\n",
       "      <th>geography_Germany</th>\n",
       "      <th>geography_Spain</th>\n",
       "      <th>gender_Male</th>\n",
       "    </tr>\n",
       "  </thead>\n",
       "  <tbody>\n",
       "    <tr>\n",
       "      <th>5378</th>\n",
       "      <td>606</td>\n",
       "      <td>27</td>\n",
       "      <td>5</td>\n",
       "      <td>130274.26</td>\n",
       "      <td>2</td>\n",
       "      <td>1</td>\n",
       "      <td>0</td>\n",
       "      <td>147533.09</td>\n",
       "      <td>0</td>\n",
       "      <td>1</td>\n",
       "      <td>0</td>\n",
       "      <td>1</td>\n",
       "    </tr>\n",
       "    <tr>\n",
       "      <th>3226</th>\n",
       "      <td>603</td>\n",
       "      <td>35</td>\n",
       "      <td>1</td>\n",
       "      <td>105346.03</td>\n",
       "      <td>2</td>\n",
       "      <td>1</td>\n",
       "      <td>1</td>\n",
       "      <td>130379.50</td>\n",
       "      <td>0</td>\n",
       "      <td>1</td>\n",
       "      <td>0</td>\n",
       "      <td>1</td>\n",
       "    </tr>\n",
       "    <tr>\n",
       "      <th>9046</th>\n",
       "      <td>630</td>\n",
       "      <td>23</td>\n",
       "      <td>4</td>\n",
       "      <td>137964.51</td>\n",
       "      <td>1</td>\n",
       "      <td>0</td>\n",
       "      <td>1</td>\n",
       "      <td>174570.55</td>\n",
       "      <td>0</td>\n",
       "      <td>1</td>\n",
       "      <td>0</td>\n",
       "      <td>0</td>\n",
       "    </tr>\n",
       "    <tr>\n",
       "      <th>9140</th>\n",
       "      <td>449</td>\n",
       "      <td>21</td>\n",
       "      <td>7</td>\n",
       "      <td>0.00</td>\n",
       "      <td>2</td>\n",
       "      <td>0</td>\n",
       "      <td>0</td>\n",
       "      <td>175743.92</td>\n",
       "      <td>0</td>\n",
       "      <td>0</td>\n",
       "      <td>0</td>\n",
       "      <td>0</td>\n",
       "    </tr>\n",
       "    <tr>\n",
       "      <th>8730</th>\n",
       "      <td>764</td>\n",
       "      <td>30</td>\n",
       "      <td>5</td>\n",
       "      <td>0.00</td>\n",
       "      <td>2</td>\n",
       "      <td>0</td>\n",
       "      <td>1</td>\n",
       "      <td>105155.66</td>\n",
       "      <td>0</td>\n",
       "      <td>0</td>\n",
       "      <td>0</td>\n",
       "      <td>1</td>\n",
       "    </tr>\n",
       "  </tbody>\n",
       "</table>\n",
       "</div>"
      ],
      "text/plain": [
       "      creditscore  age  tenure    balance  numofproducts  hascrcard  \\\n",
       "5378          606   27       5  130274.26              2          1   \n",
       "3226          603   35       1  105346.03              2          1   \n",
       "9046          630   23       4  137964.51              1          0   \n",
       "9140          449   21       7       0.00              2          0   \n",
       "8730          764   30       5       0.00              2          0   \n",
       "\n",
       "      isactivemember  estimatedsalary  exited  geography_Germany  \\\n",
       "5378               0        147533.09       0                  1   \n",
       "3226               1        130379.50       0                  1   \n",
       "9046               1        174570.55       0                  1   \n",
       "9140               0        175743.92       0                  0   \n",
       "8730               1        105155.66       0                  0   \n",
       "\n",
       "      geography_Spain  gender_Male  \n",
       "5378                0            1  \n",
       "3226                0            1  \n",
       "9046                0            0  \n",
       "9140                0            0  \n",
       "8730                0            1  "
      ]
     },
     "execution_count": 18,
     "metadata": {},
     "output_type": "execute_result"
    }
   ],
   "source": [
    "df_valid_ohe=pd.get_dummies(df_valid,drop_first=True)\n",
    "df_valid_ohe.head()"
   ]
  },
  {
   "cell_type": "code",
   "execution_count": 19,
   "metadata": {},
   "outputs": [
    {
     "data": {
      "text/html": [
       "<div>\n",
       "<style scoped>\n",
       "    .dataframe tbody tr th:only-of-type {\n",
       "        vertical-align: middle;\n",
       "    }\n",
       "\n",
       "    .dataframe tbody tr th {\n",
       "        vertical-align: top;\n",
       "    }\n",
       "\n",
       "    .dataframe thead th {\n",
       "        text-align: right;\n",
       "    }\n",
       "</style>\n",
       "<table border=\"1\" class=\"dataframe\">\n",
       "  <thead>\n",
       "    <tr style=\"text-align: right;\">\n",
       "      <th></th>\n",
       "      <th>creditscore</th>\n",
       "      <th>age</th>\n",
       "      <th>tenure</th>\n",
       "      <th>balance</th>\n",
       "      <th>numofproducts</th>\n",
       "      <th>hascrcard</th>\n",
       "      <th>isactivemember</th>\n",
       "      <th>estimatedsalary</th>\n",
       "      <th>exited</th>\n",
       "      <th>geography_Germany</th>\n",
       "      <th>geography_Spain</th>\n",
       "      <th>gender_Male</th>\n",
       "    </tr>\n",
       "  </thead>\n",
       "  <tbody>\n",
       "    <tr>\n",
       "      <th>1558</th>\n",
       "      <td>571</td>\n",
       "      <td>35</td>\n",
       "      <td>1</td>\n",
       "      <td>104783.81</td>\n",
       "      <td>2</td>\n",
       "      <td>0</td>\n",
       "      <td>1</td>\n",
       "      <td>178512.52</td>\n",
       "      <td>0</td>\n",
       "      <td>0</td>\n",
       "      <td>0</td>\n",
       "      <td>0</td>\n",
       "    </tr>\n",
       "    <tr>\n",
       "      <th>9460</th>\n",
       "      <td>744</td>\n",
       "      <td>35</td>\n",
       "      <td>7</td>\n",
       "      <td>0.00</td>\n",
       "      <td>2</td>\n",
       "      <td>1</td>\n",
       "      <td>1</td>\n",
       "      <td>43036.60</td>\n",
       "      <td>0</td>\n",
       "      <td>0</td>\n",
       "      <td>1</td>\n",
       "      <td>1</td>\n",
       "    </tr>\n",
       "    <tr>\n",
       "      <th>4527</th>\n",
       "      <td>705</td>\n",
       "      <td>38</td>\n",
       "      <td>1</td>\n",
       "      <td>189443.72</td>\n",
       "      <td>1</td>\n",
       "      <td>0</td>\n",
       "      <td>1</td>\n",
       "      <td>106648.58</td>\n",
       "      <td>0</td>\n",
       "      <td>0</td>\n",
       "      <td>0</td>\n",
       "      <td>1</td>\n",
       "    </tr>\n",
       "    <tr>\n",
       "      <th>6457</th>\n",
       "      <td>615</td>\n",
       "      <td>51</td>\n",
       "      <td>6</td>\n",
       "      <td>81818.49</td>\n",
       "      <td>1</td>\n",
       "      <td>1</td>\n",
       "      <td>1</td>\n",
       "      <td>169149.38</td>\n",
       "      <td>0</td>\n",
       "      <td>0</td>\n",
       "      <td>1</td>\n",
       "      <td>1</td>\n",
       "    </tr>\n",
       "    <tr>\n",
       "      <th>2044</th>\n",
       "      <td>487</td>\n",
       "      <td>45</td>\n",
       "      <td>2</td>\n",
       "      <td>0.00</td>\n",
       "      <td>2</td>\n",
       "      <td>1</td>\n",
       "      <td>0</td>\n",
       "      <td>77475.73</td>\n",
       "      <td>0</td>\n",
       "      <td>0</td>\n",
       "      <td>0</td>\n",
       "      <td>1</td>\n",
       "    </tr>\n",
       "  </tbody>\n",
       "</table>\n",
       "</div>"
      ],
      "text/plain": [
       "      creditscore  age  tenure    balance  numofproducts  hascrcard  \\\n",
       "1558          571   35       1  104783.81              2          0   \n",
       "9460          744   35       7       0.00              2          1   \n",
       "4527          705   38       1  189443.72              1          0   \n",
       "6457          615   51       6   81818.49              1          1   \n",
       "2044          487   45       2       0.00              2          1   \n",
       "\n",
       "      isactivemember  estimatedsalary  exited  geography_Germany  \\\n",
       "1558               1        178512.52       0                  0   \n",
       "9460               1         43036.60       0                  0   \n",
       "4527               1        106648.58       0                  0   \n",
       "6457               1        169149.38       0                  0   \n",
       "2044               0         77475.73       0                  0   \n",
       "\n",
       "      geography_Spain  gender_Male  \n",
       "1558                0            0  \n",
       "9460                1            1  \n",
       "4527                0            1  \n",
       "6457                1            1  \n",
       "2044                0            1  "
      ]
     },
     "execution_count": 19,
     "metadata": {},
     "output_type": "execute_result"
    }
   ],
   "source": [
    "df_test_ohe=pd.get_dummies(df_test,drop_first=True)\n",
    "df_test_ohe.head()"
   ]
  },
  {
   "cell_type": "code",
   "execution_count": 20,
   "metadata": {},
   "outputs": [],
   "source": [
    "\n",
    "\n",
    "features_train = df_train_ohe.drop(['exited'], axis=1)\n",
    "\n",
    "target_train = df_train_ohe['exited']\n",
    "\n",
    "\n",
    "\n",
    "features_valid = df_valid_ohe.drop(['exited'], axis=1)\n",
    "\n",
    "target_valid =  df_valid_ohe['exited'] \n",
    "\n",
    "\n",
    "features_test = df_test_ohe.drop(['exited'], axis=1)\n",
    "\n",
    "target_test = df_test_ohe['exited']"
   ]
  },
  {
   "cell_type": "code",
   "execution_count": 21,
   "metadata": {},
   "outputs": [],
   "source": [
    "#Scaling of features\n",
    "pd.options.mode.chained_assignment = None\n",
    "numeric = ['creditscore', 'age', 'tenure', 'balance', 'numofproducts', 'estimatedsalary']\n",
    "\n",
    "scaler = StandardScaler()\n",
    "scaler.fit(features_train[numeric])\n",
    "features_train[numeric] = scaler.transform(features_train[numeric])\n",
    "features_valid[numeric] = scaler.transform(features_valid[numeric])\n",
    "features_test[numeric] = scaler.transform(features_test[numeric])\n"
   ]
  },
  {
   "cell_type": "markdown",
   "metadata": {},
   "source": [
    "### Conclusions by step 1:"
   ]
  },
  {
   "cell_type": "markdown",
   "metadata": {},
   "source": [
    "After getting acquainted with the dataset , the following problems were identified and solved:\n",
    "- **missing values** in the 'tenure' attribute. Perhaps this is due to an error when downloading the dataset. Since there is no way to find out whether to download or fill in these values again, it was decided not to take this data (about 9%) into account for building the model;\n",
    "- **uniformity in the spelling of features**: all names are given to lowercase spelling;\n",
    "- **changed data types**: 'tenure' is reduced to an integer value\n",
    "- **OHE**: categorical features were transformed into quantitative ones using the OHE technique (this affected the 'gender' 'geography' columns)\n",
    "- the data is divided into training, validation and test samples \n",
    "- variables have been created for the features and the target attribute\n",
    "- standardized numerical features"
   ]
  },
  {
   "cell_type": "markdown",
   "metadata": {},
   "source": [
    "## Task research"
   ]
  },
  {
   "cell_type": "markdown",
   "metadata": {},
   "source": [
    "We investigate the ratio of classes in the target class. We study the models first without taking into account this ratio, and then with it."
   ]
  },
  {
   "cell_type": "code",
   "execution_count": 22,
   "metadata": {
    "scrolled": true
   },
   "outputs": [
    {
     "data": {
      "image/png": "[encoded data removed]",
      "text/plain": [
       "<Figure size 432x288 with 1 Axes>"
      ]
     },
     "metadata": {
      "needs_background": "light"
     },
     "output_type": "display_data"
    }
   ],
   "source": [
    "class_frequency = df['exited'].value_counts(normalize=2)\n",
    "sns.barplot(x=df['exited'].value_counts().index, y=df['exited'].value_counts(normalize=2))\n",
    "plt.title(\"The ratio of classes in the target class\")\n",
    "plt.xlabel(\"Classes\")\n",
    "plt.show()  \n"
   ]
  },
  {
   "cell_type": "markdown",
   "metadata": {},
   "source": [
    "### Logistic regression"
   ]
  },
  {
   "cell_type": "code",
   "execution_count": 23,
   "metadata": {},
   "outputs": [
    {
     "name": "stdout",
     "output_type": "stream",
     "text": [
      "AUC_ROC: 0.769305515068227\n",
      "recall: 0.20147420147420148\n",
      "precision: 0.5774647887323944\n",
      "f1: 0.2987249544626594\n"
     ]
    }
   ],
   "source": [
    "model = LogisticRegression(random_state=1410, max_iter=100) \n",
    "model.fit(features_train,target_train) \n",
    "predictions = model.predict(features_valid)\n",
    "recall = recall_score(target_valid, predictions) #the quality of the model in the validation sample\n",
    "precision=precision_score(target_valid, predictions)\n",
    "f1=f1_score(target_valid,predictions)\n",
    "\n",
    "probabilities_valid = model.predict_proba(features_valid)\n",
    "probabilities_one_valid = probabilities_valid[:, 1]\n",
    "auc_roc=roc_auc_score(target_valid,probabilities_one_valid)\n",
    "print(\"AUC_ROC:\", auc_roc)        \n",
    "print(\"recall:\", recall)\n",
    "print(\"precision:\", precision)\n",
    "print(\"f1:\", f1)"
   ]
  },
  {
   "cell_type": "markdown",
   "metadata": {},
   "source": [
    "### Decision Tree"
   ]
  },
  {
   "cell_type": "code",
   "execution_count": 24,
   "metadata": {
    "scrolled": true
   },
   "outputs": [
    {
     "name": "stdout",
     "output_type": "stream",
     "text": [
      "AUC_ROC: 0.6942805671619231\n",
      "The best model: DecisionTreeClassifier(max_depth=6, random_state=1410)\n",
      "recall: 0.42997542997543\n",
      "precision: 0.7675438596491229\n",
      "f1: 0.5511811023622047\n"
     ]
    }
   ],
   "source": [
    "best_model = None\n",
    "\n",
    "best_result = 0\n",
    "\n",
    "for depth in range(1, 20):\n",
    "\n",
    "    model = DecisionTreeClassifier(random_state=1410, max_depth=depth) \n",
    "\n",
    "    model.fit(features_train, target_train) \n",
    "\n",
    "    predictions= model.predict(features_valid) \n",
    "\n",
    "    f1=f1_score(target_valid,predictions)\n",
    "    if f1 > best_result:\n",
    "        best_model = model \n",
    "        best_result = f1\n",
    "        recall = recall_score(target_valid, predictions) \n",
    "        precision=precision_score(target_valid, predictions)\n",
    "\n",
    "        \n",
    "probabilities_valid = model.predict_proba(features_valid)\n",
    "probabilities_one_valid = probabilities_valid[:, 1]\n",
    "auc_roc=roc_auc_score(target_valid,probabilities_one_valid)\n",
    "print(\"AUC_ROC:\", auc_roc)\n",
    "print(\"The best model:\", best_model)\n",
    "print(\"recall:\", recall)\n",
    "print(\"precision:\", precision)\n",
    "print(\"f1:\", best_result)"
   ]
  },
  {
   "cell_type": "markdown",
   "metadata": {},
   "source": [
    "### Random Forest"
   ]
  },
  {
   "cell_type": "code",
   "execution_count": 25,
   "metadata": {},
   "outputs": [
    {
     "name": "stdout",
     "output_type": "stream",
     "text": [
      "AUC_ROC: 0.8582665870801465\n",
      "The best model: RandomForestClassifier(n_estimators=191, random_state=1410)\n",
      "recall: 0.4864864864864865\n",
      "precision: 0.7857142857142857\n",
      "f1: 0.6009104704097117\n"
     ]
    }
   ],
   "source": [
    "best_model = None\n",
    "best_result = 0\n",
    "for est in range(1, 200,10):\n",
    "    model = RandomForestClassifier(random_state=1410, n_estimators=est) \n",
    "    model.fit(features_train,target_train) \n",
    "    predictions = model.predict(features_valid)\n",
    "    f1=f1_score(target_valid,predictions)\n",
    "    if f1 > best_result:\n",
    "        best_model = model\n",
    "        best_result = f1\n",
    "        recall = recall_score(target_valid, predictions) \n",
    "        precision=precision_score(target_valid, predictions)\n",
    "\n",
    "probabilities_valid = model.predict_proba(features_valid)\n",
    "probabilities_one_valid = probabilities_valid[:, 1]\n",
    "auc_roc=roc_auc_score(target_valid,probabilities_one_valid)\n",
    "print(\"AUC_ROC:\", auc_roc)        \n",
    "\n",
    "print(\"The best model:\", best_model)\n",
    "print(\"recall:\", recall)\n",
    "print(\"precision:\", precision)\n",
    "print(\"f1:\", best_result)\n",
    "\n"
   ]
  },
  {
   "cell_type": "markdown",
   "metadata": {},
   "source": [
    "### k Nearest Neighbors"
   ]
  },
  {
   "cell_type": "code",
   "execution_count": 26,
   "metadata": {},
   "outputs": [
    {
     "name": "stdout",
     "output_type": "stream",
     "text": [
      "AUC_ROC: 0.8358875053790308\n",
      "F1 of the best model 0.5341812400635929\n",
      "The best model KNeighborsClassifier(n_neighbors=11)\n",
      "recall: 0.41277641277641275\n",
      "precision: 0.7567567567567568\n"
     ]
    }
   ],
   "source": [
    "\n",
    "best_model = None\n",
    "best_result = 0\n",
    "for n in range(1, 30, 5):\n",
    "    model = KNeighborsClassifier(n_neighbors = n)# Fit the classifier to the data\n",
    "    model.fit(features_train,target_train) \n",
    "    predictions = model.predict(features_valid)\n",
    "    f1=f1_score(target_valid,predictions) \n",
    "    if f1 > best_result:\n",
    "        best_model = model     \n",
    "        best_result = f1 \n",
    "        recall = recall_score(target_valid, predictions) \n",
    "        precision=precision_score(target_valid, predictions)\n",
    "\n",
    "probabilities_valid = model.predict_proba(features_valid)\n",
    "probabilities_one_valid = probabilities_valid[:, 1]\n",
    "auc_roc=roc_auc_score(target_valid,probabilities_one_valid)\n",
    "print(\"AUC_ROC:\", auc_roc)        \n",
    "print(\"F1 of the best model\", best_result)\n",
    "print(\"The best model\", best_model)\n",
    "print(\"recall:\", recall)\n",
    "print(\"precision:\", precision)"
   ]
  },
  {
   "cell_type": "markdown",
   "metadata": {},
   "source": [
    "We trained 4 models, looked at metrics for them. The F1 measure achieved our goal in the case of logistic regression and in a random forest. Let's try to give objects of a rare class more weight"
   ]
  },
  {
   "cell_type": "markdown",
   "metadata": {},
   "source": [
    "## How to Combate Imbalanced Classes"
   ]
  },
  {
   "cell_type": "markdown",
   "metadata": {},
   "source": [
    "### Logistic regression"
   ]
  },
  {
   "cell_type": "code",
   "execution_count": 27,
   "metadata": {},
   "outputs": [
    {
     "name": "stdout",
     "output_type": "stream",
     "text": [
      "AUC_ROC: 0.769305515068227\n",
      "recall: 0.20147420147420148\n",
      "precision: 0.5774647887323944\n",
      "f1: 0.2987249544626594\n"
     ]
    }
   ],
   "source": [
    "model = LogisticRegression(random_state=1410, solver='liblinear', class_weight='balanced' )\n",
    "model = LogisticRegression(random_state=1410, max_iter=100) \n",
    "model.fit(features_train,target_train) \n",
    "predictions = model.predict(features_valid)\n",
    "recall = recall_score(target_valid, predictions) \n",
    "precision=precision_score(target_valid, predictions)\n",
    "f1=f1_score(target_valid,predictions)\n",
    "    \n",
    "\n",
    "probabilities_valid = model.predict_proba(features_valid)\n",
    "probabilities_one_valid = probabilities_valid[:, 1]\n",
    "auc_roc=roc_auc_score(target_valid,probabilities_one_valid)\n",
    "print(\"AUC_ROC:\", auc_roc)        \n",
    "print(\"recall:\", recall)\n",
    "print(\"precision:\", precision)\n",
    "print(\"f1:\", f1)"
   ]
  },
  {
   "cell_type": "markdown",
   "metadata": {},
   "source": [
    "Bad model"
   ]
  },
  {
   "cell_type": "code",
   "execution_count": 28,
   "metadata": {},
   "outputs": [],
   "source": [
    "def upsample(features, target, repeat):\n",
    "    features_zeros = features[target == 0]\n",
    "    features_ones = features[target == 1]\n",
    "    target_zeros = target[target == 0]\n",
    "    target_ones = target[target == 1]\n",
    "    features_upsampled = pd.concat([features_zeros] + [features_ones] * repeat)\n",
    "    target_upsampled = pd.concat([target_zeros] + [target_ones] * repeat)\n",
    "    features_upsampled, target_upsampled = shuffle(\n",
    "        features_upsampled, target_upsampled, random_state=1410)\n",
    "    return features_upsampled, target_upsampled\n",
    "features_upsampled, target_upsampled = upsample(features_train, target_train, 4)"
   ]
  },
  {
   "cell_type": "markdown",
   "metadata": {},
   "source": [
    "### Logistic regression"
   ]
  },
  {
   "cell_type": "code",
   "execution_count": 29,
   "metadata": {},
   "outputs": [
    {
     "name": "stdout",
     "output_type": "stream",
     "text": [
      "AUC_ROC: 0.7735485871079091\n",
      "recall: 0.6928746928746928\n",
      "precision: 0.38472032742155526\n",
      "f1: 0.4947368421052632\n"
     ]
    }
   ],
   "source": [
    "model = LogisticRegression(solver='liblinear', random_state=1410)\n",
    "model.fit(features_upsampled, target_upsampled) \n",
    "predictions = model.predict(features_valid)\n",
    "recall = recall_score(target_valid, predictions) \n",
    "precision=precision_score(target_valid, predictions)\n",
    "f1=f1_score(target_valid,predictions)\n",
    "    \n",
    "probabilities_valid = model.predict_proba(features_valid)\n",
    "probabilities_one_valid = probabilities_valid[:, 1]\n",
    "auc_roc=roc_auc_score(target_valid,probabilities_one_valid)\n",
    "print(\"AUC_ROC:\", auc_roc)\n",
    "        \n",
    "print(\"recall:\", recall)\n",
    "print(\"precision:\", precision)\n",
    "print(\"f1:\", f1)\n"
   ]
  },
  {
   "cell_type": "markdown",
   "metadata": {},
   "source": [
    "### Decision Tree"
   ]
  },
  {
   "cell_type": "code",
   "execution_count": 30,
   "metadata": {},
   "outputs": [
    {
     "name": "stdout",
     "output_type": "stream",
     "text": [
      "AUC_ROC: 0.686169991254737\n",
      "The best model: DecisionTreeClassifier(max_depth=7, random_state=1410)\n",
      "recall: 0.7493857493857494\n",
      "precision: 0.46003016591251883\n",
      "f1: 0.5700934579439252\n"
     ]
    }
   ],
   "source": [
    "best_model = None\n",
    "\n",
    "best_result = 0\n",
    "\n",
    "for depth in range(1, 20):\n",
    "\n",
    "    model = DecisionTreeClassifier(random_state=1410, max_depth=depth) \n",
    "\n",
    "    model.fit(features_upsampled, target_upsampled)  \n",
    "\n",
    "    predictions= model.predict(features_valid) \n",
    "\n",
    "    f1=f1_score(target_valid,predictions)\n",
    "    if f1 > best_result:\n",
    "        best_model = model # сохраните наилучшую модель\n",
    "        best_result = f1\n",
    "        recall = recall_score(target_valid, predictions) \n",
    "        precision=precision_score(target_valid, predictions)\n",
    "\n",
    "        \n",
    "probabilities_valid = model.predict_proba(features_valid)\n",
    "probabilities_one_valid = probabilities_valid[:, 1]\n",
    "auc_roc=roc_auc_score(target_valid,probabilities_one_valid)\n",
    "print(\"AUC_ROC:\", auc_roc)\n",
    "print(\"The best model:\", best_model)\n",
    "print(\"recall:\", recall)\n",
    "print(\"precision:\", precision)\n",
    "print(\"f1:\", best_result)"
   ]
  },
  {
   "cell_type": "markdown",
   "metadata": {},
   "source": [
    "### Random Forest"
   ]
  },
  {
   "cell_type": "code",
   "execution_count": 31,
   "metadata": {},
   "outputs": [
    {
     "name": "stdout",
     "output_type": "stream",
     "text": [
      "AUC_ROC: 0.8534721161839806\n",
      "The best model: RandomForestClassifier(n_estimators=61, random_state=1410)\n",
      "recall: 0.5700245700245701\n",
      "precision: 0.6946107784431138\n",
      "f1: 0.6261808367071525\n"
     ]
    }
   ],
   "source": [
    "best_model = None\n",
    "best_result = 0\n",
    "for est in range(1, 200, 10):\n",
    "    model = RandomForestClassifier(random_state=1410, n_estimators=est) \n",
    "    model.fit(features_upsampled, target_upsampled) \n",
    "    predictions = model.predict(features_valid)\n",
    "    f1=f1_score(target_valid,predictions)\n",
    "    if f1 > best_result:\n",
    "        best_model = model \n",
    "        best_result = f1\n",
    "        recall = recall_score(target_valid, predictions) \n",
    "        precision=precision_score(target_valid, predictions)\n",
    "\n",
    "probabilities_valid = model.predict_proba(features_valid)\n",
    "probabilities_one_valid = probabilities_valid[:, 1]\n",
    "auc_roc=roc_auc_score(target_valid,probabilities_one_valid)\n",
    "print(\"AUC_ROC:\", auc_roc)        \n",
    "\n",
    "print(\"The best model:\", best_model)\n",
    "print(\"recall:\", recall)\n",
    "print(\"precision:\", precision)\n",
    "print(\"f1:\", best_result)"
   ]
  },
  {
   "cell_type": "markdown",
   "metadata": {},
   "source": [
    "### k Nearest Neighbors"
   ]
  },
  {
   "cell_type": "code",
   "execution_count": 32,
   "metadata": {},
   "outputs": [
    {
     "name": "stdout",
     "output_type": "stream",
     "text": [
      "AUC_ROC: 0.8348571992639788\n",
      "F1: 0.5828819068255688\n",
      "The best model: KNeighborsClassifier(n_neighbors=16)\n",
      "recall: 0.6609336609336609\n",
      "precision: 0.5213178294573644\n"
     ]
    }
   ],
   "source": [
    "\n",
    "best_model = None\n",
    "best_result = 0\n",
    "for n in range(1, 30, 5):\n",
    "    model = KNeighborsClassifier(n_neighbors = n)# Fit the classifier to the data\n",
    "    model.fit(features_upsampled, target_upsampled) \n",
    "    predictions = model.predict(features_valid)\n",
    "    f1=f1_score(target_valid,predictions) \n",
    "    if f1 > best_result:\n",
    "        best_model = model    \n",
    "        best_result = f1   \n",
    "        recall = recall_score(target_valid, predictions) \n",
    "        precision=precision_score(target_valid, predictions)\n",
    "\n",
    "probabilities_valid = model.predict_proba(features_valid)\n",
    "probabilities_one_valid = probabilities_valid[:, 1]\n",
    "auc_roc=roc_auc_score(target_valid,probabilities_one_valid)\n",
    "print(\"AUC_ROC:\", auc_roc)        \n",
    "print(\"F1:\", best_result)\n",
    "print(\"The best model:\", best_model)\n",
    "print(\"recall:\", recall)\n",
    "print(\"precision:\", precision)"
   ]
  },
  {
   "cell_type": "code",
   "execution_count": 33,
   "metadata": {},
   "outputs": [],
   "source": [
    "def downsample(features, target, fraction):\n",
    "    features_zeros = features[target == 0]\n",
    "    features_ones = features[target == 1]\n",
    "    target_zeros = target[target == 0]\n",
    "    target_ones = target[target == 1]\n",
    "    features_downsampled = pd.concat(\n",
    "        [features_zeros.sample(frac=fraction, random_state=1410)] + [features_ones])\n",
    "    target_downsampled = pd.concat(\n",
    "        [target_zeros.sample(frac=fraction, random_state=1410)] + [target_ones])\n",
    "    features_downsampled, target_downsampled = shuffle(\n",
    "        features_downsampled, target_downsampled, random_state=1410)\n",
    "    return features_downsampled, target_downsampled\n",
    "features_downsampled, target_downsampled = downsample(features_train, target_train, 0.25)"
   ]
  },
  {
   "cell_type": "code",
   "execution_count": 34,
   "metadata": {},
   "outputs": [
    {
     "data": {
      "text/plain": [
       "1    1222\n",
       "0    1194\n",
       "Name: exited, dtype: int64"
      ]
     },
     "execution_count": 34,
     "metadata": {},
     "output_type": "execute_result"
    }
   ],
   "source": [
    "target_downsampled.value_counts()"
   ]
  },
  {
   "cell_type": "markdown",
   "metadata": {},
   "source": [
    "### Logistic regression"
   ]
  },
  {
   "cell_type": "code",
   "execution_count": 35,
   "metadata": {},
   "outputs": [
    {
     "name": "stdout",
     "output_type": "stream",
     "text": [
      "AUC_ROC: 0.773246281720858\n",
      "recall: 0.6904176904176904\n",
      "precision: 0.38865836791147995\n",
      "F1: 0.49734513274336284\n"
     ]
    }
   ],
   "source": [
    "\n",
    "model = LogisticRegression(solver='liblinear', random_state=1410)\n",
    "model.fit(features_downsampled, target_downsampled ) \n",
    "predictions = model.predict(features_valid)\n",
    "recall = recall_score(target_valid, predictions) #  качество модели на валидационной выборке\n",
    "precision=precision_score(target_valid, predictions)\n",
    "f1=f1_score(target_valid,predictions)\n",
    "    \n",
    "probabilities_valid = model.predict_proba(features_valid)\n",
    "probabilities_one_valid = probabilities_valid[:, 1]\n",
    "auc_roc=roc_auc_score(target_valid,probabilities_one_valid)\n",
    "print(\"AUC_ROC:\", auc_roc)\n",
    "        \n",
    "print(\"recall:\", recall)\n",
    "print(\"precision:\", precision)\n",
    "print(\"F1:\", f1)\n",
    "\n"
   ]
  },
  {
   "cell_type": "markdown",
   "metadata": {},
   "source": [
    "### k Nearest Neighbors)"
   ]
  },
  {
   "cell_type": "code",
   "execution_count": 36,
   "metadata": {},
   "outputs": [
    {
     "name": "stdout",
     "output_type": "stream",
     "text": [
      "AUC_ROC: 0.836549955194023\n",
      "F1: 0.5676767676767677\n",
      "The best model: KNeighborsClassifier(n_neighbors=16)\n",
      "recall: 0.6904176904176904\n",
      "precision: 0.48198970840480276\n"
     ]
    }
   ],
   "source": [
    "\n",
    "best_model = None\n",
    "best_result = 0\n",
    "for n in range(1, 30,5):\n",
    "    model = KNeighborsClassifier(n_neighbors = n)# Fit the classifier to the data\n",
    "    model.fit(features_downsampled, target_downsampled )\n",
    "    predictions = model.predict(features_valid)\n",
    "    f1=f1_score(target_valid,predictions) \n",
    "    if f1 > best_result:\n",
    "        best_model = model    \n",
    "        best_result = f1   \n",
    "        recall = recall_score(target_valid, predictions) \n",
    "        precision=precision_score(target_valid, predictions)\n",
    "\n",
    "probabilities_valid = model.predict_proba(features_valid)\n",
    "probabilities_one_valid = probabilities_valid[:, 1]\n",
    "auc_roc=roc_auc_score(target_valid,probabilities_one_valid)\n",
    "print(\"AUC_ROC:\", auc_roc)        \n",
    "print(\"F1:\", best_result)\n",
    "print(\"The best model:\", best_model)\n",
    "print(\"recall:\", recall)\n",
    "print(\"precision:\", precision)"
   ]
  },
  {
   "cell_type": "markdown",
   "metadata": {},
   "source": [
    "### Random Forest"
   ]
  },
  {
   "cell_type": "code",
   "execution_count": 37,
   "metadata": {},
   "outputs": [
    {
     "name": "stdout",
     "output_type": "stream",
     "text": [
      "AUC_ROC: 0.8542726085098966\n",
      "The best model: RandomForestClassifier(n_estimators=141, random_state=1410)\n",
      "recall: 0.7567567567567568\n",
      "precision: 0.5032679738562091\n",
      "f1: 0.6045142296368989\n"
     ]
    }
   ],
   "source": [
    "best_model = None\n",
    "best_result = 0\n",
    "for est in range(1, 200, 10):\n",
    "    model = RandomForestClassifier(random_state=1410, n_estimators=est) \n",
    "    model.fit(features_downsampled, target_downsampled ) \n",
    "    predictions = model.predict(features_valid)\n",
    "    f1=f1_score(target_valid,predictions)\n",
    "    if f1 > best_result:\n",
    "        best_model = model\n",
    "        best_result = f1\n",
    "        recall = recall_score(target_valid, predictions) \n",
    "        precision=precision_score(target_valid, predictions)\n",
    "\n",
    "        \n",
    "probabilities_valid = model.predict_proba(features_valid)\n",
    "probabilities_one_valid = probabilities_valid[:, 1]\n",
    "auc_roc=roc_auc_score(target_valid,probabilities_one_valid)\n",
    "print(\"AUC_ROC:\", auc_roc)\n",
    "print(\"The best model:\", best_model)\n",
    "print(\"recall:\", recall)\n",
    "print(\"precision:\", precision)\n",
    "print(\"f1:\", best_result)"
   ]
  },
  {
   "cell_type": "markdown",
   "metadata": {},
   "source": [
    "### Decision Tree"
   ]
  },
  {
   "cell_type": "code",
   "execution_count": 38,
   "metadata": {},
   "outputs": [
    {
     "name": "stdout",
     "output_type": "stream",
     "text": [
      "The best model: DecisionTreeClassifier(max_depth=6, random_state=1410)\n",
      "recall: 0.7395577395577395\n",
      "precision: 0.4862681744749596\n",
      "F1: 0.5867446393762182\n",
      "AUC_ROC: 0.7170691492725392\n"
     ]
    }
   ],
   "source": [
    "best_model = None\n",
    "\n",
    "best_result = 0\n",
    "\n",
    "for depth in range(1, 20):\n",
    "\n",
    "    model = DecisionTreeClassifier(random_state=1410, max_depth=depth) \n",
    "\n",
    "    model.fit(features_downsampled, target_downsampled )  \n",
    "\n",
    "    predictions= model.predict(features_valid) \n",
    "\n",
    "    f1=f1_score(target_valid,predictions)\n",
    "    if f1 > best_result:\n",
    "        best_model = model \n",
    "        best_result = f1\n",
    "        recall = recall_score(target_valid, predictions) \n",
    "        precision=precision_score(target_valid, predictions)\n",
    "\n",
    "probabilities_valid = model.predict_proba(features_valid)\n",
    "probabilities_one_valid = probabilities_valid[:, 1]\n",
    "auc_roc=roc_auc_score(target_valid,probabilities_one_valid)\n",
    "        \n",
    "\n",
    "print(\"The best model:\", best_model)\n",
    "print(\"recall:\", recall)\n",
    "print(\"precision:\", precision)\n",
    "print(\"F1:\", best_result)\n",
    "print(\"AUC_ROC:\", auc_roc)\n"
   ]
  },
  {
   "cell_type": "markdown",
   "metadata": {},
   "source": [
    "### Output by step 3"
   ]
  },
  {
   "cell_type": "markdown",
   "metadata": {},
   "source": [
    "As a result of the analysis of various models of the class imbalance, the following 3 techniques were applied and consistently investigated:\n",
    "- weighing classes, \n",
    "- upsampling \n",
    "- downsampling\n",
    "\n",
    "Classification metrics were calculated for each of the models, including completeness, accuracy, F-1 measure and AUC-ROC.\n",
    "Based on the task that was set within the framework of this study, taking into account the imbalance of classes, the following models approached the value of F1-measure = 0.59:\n",
    "1) **Random forest** by means of the technique of increasing the sample at 91 trees.\n",
    "The following metrics are achieved:\n",
    "- AUC_ROC metric value: 0.8579234087708664\n",
    "- Best model: RandomForestClassifier(n_estimators=91, random_state=1410)\n",
    "- Completeness of the model (recall): 0.5724815724815725\n",
    "- MODEL ACCURACY (PRECISION): 0.6934523809523809\n",
    "- F1-MODEL MEASURE (F1): 0.6271870794078062\n",
    "\n",
    "2) **Random forest** by means of the technique of reducing the sample at 91 trees.\n",
    "The following metrics are achieved:\n",
    "\n",
    "- AUC_ROC metric value: 0.8547923886906937\n",
    "- Best model: RandomForestClassifier(n_estimators=91, random_state=1410)\n",
    "- Completeness of the model (recall): 0.742014742014742\n",
    "- Model accuracy (precision): 0.5\n",
    "- F1-MODEL MEASURE (F1): 0.5974282888229476\n",
    "\n",
    "On the test sample, we will check the first model, because there are more chances to get an F-1 measure than 0.59"
   ]
  },
  {
   "cell_type": "markdown",
   "metadata": {},
   "source": [
    "## Testing models"
   ]
  },
  {
   "cell_type": "code",
   "execution_count": 39,
   "metadata": {},
   "outputs": [
    {
     "name": "stdout",
     "output_type": "stream",
     "text": [
      "AUC_ROC: 0.844213407724899\n",
      "recall: 0.5563725490196079\n",
      "precision: 0.6579710144927536\n",
      "F1: 0.602921646746348\n"
     ]
    }
   ],
   "source": [
    "model = RandomForestClassifier(random_state=1410, n_estimators=91)\n",
    "model.fit(features_upsampled, target_upsampled) \n",
    "predictions = model.predict(features_test)\n",
    "\n",
    "f1=f1_score(target_test,predictions)\n",
    "recall = recall_score(target_test, predictions) \n",
    "precision=precision_score(target_test, predictions)\n",
    "probabilities_test = model.predict_proba(features_test)\n",
    "probabilities_one_test = probabilities_test[:, 1]\n",
    "auc_roc=roc_auc_score(target_test,probabilities_one_test)\n",
    "\n",
    "\n",
    "print(\"AUC_ROC:\", auc_roc)        \n",
    "print(\"recall:\", recall)\n",
    "print(\"precision:\", precision)\n",
    "print(\"F1:\", f1)\n",
    "\n",
    "\n"
   ]
  },
  {
   "cell_type": "code",
   "execution_count": 40,
   "metadata": {
    "scrolled": false
   },
   "outputs": [
    {
     "data": {
      "text/plain": [
       "<Figure size 432x288 with 0 Axes>"
      ]
     },
     "metadata": {},
     "output_type": "display_data"
    },
    {
     "data": {
      "image/png": "[encoded data removed]",
      "text/plain": [
       "<Figure size 720x360 with 1 Axes>"
      ]
     },
     "metadata": {
      "needs_background": "light"
     },
     "output_type": "display_data"
    }
   ],
   "source": [
    "\n",
    "fpr, tpr, thresholds = roc_curve(target_valid, probabilities_one_valid) \n",
    "fpr_test, tpr_test, thresholds_test = roc_curve(target_test, probabilities_one_test) \n",
    "\n",
    "plt.figure()\n",
    "\n",
    "plt.figure(figsize = [10, 5])\n",
    "plt.plot([0, 1], [0, 1], linestyle='--', label = 'ROC-curve of a random model')\n",
    "plt.plot(fpr, tpr, label = 'ROC curve of the model on the validation sample')\n",
    "plt.plot(fpr_test, tpr_test, label = 'ROC-curve of the model on the test sample')\n",
    "plt.xlim([0.0, 1.0])\n",
    "plt.ylim([0.0, 1.0])\n",
    "plt.xlabel('False Positive Rate')\n",
    "plt.ylabel('True Positive Rate')\n",
    "plt.title('ROC-curve')\n",
    "plt.legend()\n",
    "plt.grid()\n"
   ]
  },
  {
   "cell_type": "markdown",
   "metadata": {},
   "source": [
    "## Project readiness checklist"
   ]
  },
  {
   "cell_type": "markdown",
   "metadata": {},
   "source": [
    "Put 'x' in the completed items. Then press Shift+Enter."
   ]
  },
  {
   "cell_type": "markdown",
   "metadata": {},
   "source": [
    "\n",
    "- [x] Jupiter Notebook is open\n",
    "- [x] All code is executed without errors\n",
    "- [x] The cells with the code are arranged in the order of execution\n",
    "- [x] Step 1 is completed: data is prepared\n",
    "- [x] Step 2 is completed: the problem is investigated\n",
    "    - [x] The balance of classes\n",
    "has been studied - [x] Models have been studied without taking into account the imbalance\n",
    "- [x] Conclusions based on the results of the study have been written\n",
    "- [x] Step 3 is completed: the imbalance is taken into account\n",
    "    - [x] Several ways to combat the imbalance have been applied\n",
    "- [x] Conclusions based on the results of the study have been written\n",
    "- [x] Step 4 has been completed: testing has been performed\n",
    "- [x] Managed to reach *F1*-measures at least 0.59\n",
    "- [x] The *AUC-ROC metric has been investigated*"
   ]
  },
  {
   "cell_type": "markdown",
   "metadata": {},
   "source": [
    "## General conclusion\n",
    "As a result of the work performed, data for machine learning was prepared.\n",
    "\n",
    "The use of direct OHE coding and scaling of the sample helped to achieve the required F1-measure indicator equal to **0.599** . This was possible when using the model:\n",
    "**RandomForestClassifier and hyperparameter n_estimators=91**\n",
    "\n",
    "After calculating the share of classes for data['exited'], it was noticeable that the imbalance between classes is almost 4 times and it is necessary to use additional tools to combat the imbalance.\n",
    "\n",
    "We tried to increase the sample and use the same black models with different hyperparameters. As a result, achieve F1-measures with a maximum value in **0.627** . it was possible to obtain using only one model:\n",
    "\n",
    "- **RandomForestClassifier and hyperparameter n_estimators=91**\n",
    "\n",
    "After reducing the sample, it was not possible to get an F1 measure with a value satisfying the task, 0.5974.\n",
    "- **RandomForestClassifier and hyperparameter n_estimators=91**\n",
    "\n",
    "As a result, it was decided to test **RandomForestClassifier and hyperparameter n_estimators=91** with an increased sample.\n",
    "The value of the F1 measure is also stored on the test sample.\n",
    "In addition, the AUC-ROC metric, which shows how much our model differs from the random one, shows that our model performs better than the random model with a score of 0.5.\n"
   ]
  }
 ],
 "metadata": {
  "ExecuteTimeLog": [
   {
    "duration": 1782,
    "start_time": "2022-09-15T13:08:35.764Z"
   },
   {
    "duration": 0,
    "start_time": "2022-09-15T13:08:37.549Z"
   },
   {
    "duration": 0,
    "start_time": "2022-09-15T13:08:37.550Z"
   },
   {
    "duration": 0,
    "start_time": "2022-09-15T13:08:37.552Z"
   },
   {
    "duration": 0,
    "start_time": "2022-09-15T13:08:37.554Z"
   },
   {
    "duration": 0,
    "start_time": "2022-09-15T13:08:37.555Z"
   },
   {
    "duration": 5,
    "start_time": "2022-09-15T13:09:09.570Z"
   },
   {
    "duration": 50,
    "start_time": "2022-09-15T13:09:43.888Z"
   },
   {
    "duration": 54,
    "start_time": "2022-09-15T13:10:07.445Z"
   },
   {
    "duration": 161,
    "start_time": "2022-09-15T13:13:14.331Z"
   },
   {
    "duration": 4,
    "start_time": "2022-09-15T13:13:20.417Z"
   },
   {
    "duration": 48,
    "start_time": "2022-09-15T13:13:20.423Z"
   },
   {
    "duration": 18,
    "start_time": "2022-09-15T13:13:20.473Z"
   },
   {
    "duration": 16,
    "start_time": "2022-09-15T13:13:20.493Z"
   },
   {
    "duration": 13,
    "start_time": "2022-09-15T13:13:20.537Z"
   },
   {
    "duration": 9,
    "start_time": "2022-09-15T13:13:20.551Z"
   },
   {
    "duration": 3901,
    "start_time": "2022-09-16T12:05:13.775Z"
   },
   {
    "duration": 372,
    "start_time": "2022-09-16T12:05:26.721Z"
   },
   {
    "duration": 18,
    "start_time": "2022-09-16T12:05:30.865Z"
   },
   {
    "duration": 15,
    "start_time": "2022-09-16T12:05:39.524Z"
   },
   {
    "duration": 16,
    "start_time": "2022-09-16T12:05:43.845Z"
   },
   {
    "duration": 14,
    "start_time": "2022-09-16T12:05:51.426Z"
   },
   {
    "duration": 4,
    "start_time": "2022-09-16T12:05:56.446Z"
   },
   {
    "duration": 55,
    "start_time": "2022-09-16T12:05:59.355Z"
   },
   {
    "duration": 1222,
    "start_time": "2022-09-16T12:06:16.687Z"
   },
   {
    "duration": 126,
    "start_time": "2022-09-16T12:44:41.369Z"
   },
   {
    "duration": 9,
    "start_time": "2022-09-16T12:44:52.611Z"
   },
   {
    "duration": 10,
    "start_time": "2022-09-16T12:45:06.111Z"
   },
   {
    "duration": 46,
    "start_time": "2022-09-16T12:45:45.849Z"
   },
   {
    "duration": 12,
    "start_time": "2022-09-16T12:47:38.609Z"
   },
   {
    "duration": 24,
    "start_time": "2022-09-16T12:48:01.609Z"
   },
   {
    "duration": 17,
    "start_time": "2022-09-16T12:48:20.590Z"
   },
   {
    "duration": 983,
    "start_time": "2022-09-16T12:50:31.830Z"
   },
   {
    "duration": 884,
    "start_time": "2022-09-16T12:54:47.189Z"
   },
   {
    "duration": 1040,
    "start_time": "2022-09-16T12:56:35.989Z"
   },
   {
    "duration": 1018,
    "start_time": "2022-09-16T12:57:55.169Z"
   },
   {
    "duration": 2591,
    "start_time": "2022-09-16T12:58:02.870Z"
   },
   {
    "duration": 929,
    "start_time": "2022-09-16T12:58:13.149Z"
   },
   {
    "duration": 855,
    "start_time": "2022-09-16T12:59:42.910Z"
   },
   {
    "duration": 1769,
    "start_time": "2022-09-16T13:01:31.410Z"
   },
   {
    "duration": 6,
    "start_time": "2022-09-16T13:23:23.361Z"
   },
   {
    "duration": 54,
    "start_time": "2022-09-16T13:23:23.369Z"
   },
   {
    "duration": 15,
    "start_time": "2022-09-16T13:23:23.425Z"
   },
   {
    "duration": 23,
    "start_time": "2022-09-16T13:23:23.442Z"
   },
   {
    "duration": 15,
    "start_time": "2022-09-16T13:23:23.467Z"
   },
   {
    "duration": 4,
    "start_time": "2022-09-16T13:23:23.484Z"
   },
   {
    "duration": 43,
    "start_time": "2022-09-16T13:23:23.489Z"
   },
   {
    "duration": 16,
    "start_time": "2022-09-16T13:23:23.534Z"
   },
   {
    "duration": 1587,
    "start_time": "2022-09-16T13:23:23.553Z"
   },
   {
    "duration": 1146,
    "start_time": "2022-09-16T13:23:25.142Z"
   },
   {
    "duration": 10,
    "start_time": "2022-09-16T13:23:26.290Z"
   },
   {
    "duration": 13,
    "start_time": "2022-09-16T13:23:26.302Z"
   },
   {
    "duration": 5,
    "start_time": "2022-09-16T13:24:15.954Z"
   },
   {
    "duration": 18,
    "start_time": "2022-09-16T13:25:58.869Z"
   },
   {
    "duration": 5,
    "start_time": "2022-09-16T13:26:30.086Z"
   },
   {
    "duration": 46,
    "start_time": "2022-09-16T13:26:30.093Z"
   },
   {
    "duration": 16,
    "start_time": "2022-09-16T13:26:30.141Z"
   },
   {
    "duration": 24,
    "start_time": "2022-09-16T13:26:30.158Z"
   },
   {
    "duration": 28,
    "start_time": "2022-09-16T13:26:30.185Z"
   },
   {
    "duration": 4,
    "start_time": "2022-09-16T13:26:30.216Z"
   },
   {
    "duration": 55,
    "start_time": "2022-09-16T13:26:30.221Z"
   },
   {
    "duration": 18,
    "start_time": "2022-09-16T13:26:30.278Z"
   },
   {
    "duration": 1854,
    "start_time": "2022-09-16T13:26:30.298Z"
   },
   {
    "duration": 1096,
    "start_time": "2022-09-16T13:26:32.154Z"
   },
   {
    "duration": 13,
    "start_time": "2022-09-16T13:26:33.251Z"
   },
   {
    "duration": 15,
    "start_time": "2022-09-16T13:26:53.074Z"
   },
   {
    "duration": 19,
    "start_time": "2022-09-16T13:28:12.715Z"
   },
   {
    "duration": 15,
    "start_time": "2022-09-16T13:29:01.714Z"
   },
   {
    "duration": 20,
    "start_time": "2022-09-16T13:30:40.170Z"
   },
   {
    "duration": 5,
    "start_time": "2022-09-16T13:31:07.826Z"
   },
   {
    "duration": 47,
    "start_time": "2022-09-16T13:31:07.833Z"
   },
   {
    "duration": 15,
    "start_time": "2022-09-16T13:31:07.881Z"
   },
   {
    "duration": 17,
    "start_time": "2022-09-16T13:31:07.897Z"
   },
   {
    "duration": 16,
    "start_time": "2022-09-16T13:31:07.917Z"
   },
   {
    "duration": 4,
    "start_time": "2022-09-16T13:31:07.934Z"
   },
   {
    "duration": 58,
    "start_time": "2022-09-16T13:31:07.940Z"
   },
   {
    "duration": 24,
    "start_time": "2022-09-16T13:31:08.001Z"
   },
   {
    "duration": 1532,
    "start_time": "2022-09-16T13:31:08.027Z"
   },
   {
    "duration": 1150,
    "start_time": "2022-09-16T13:31:09.561Z"
   },
   {
    "duration": 9,
    "start_time": "2022-09-16T13:31:20.565Z"
   },
   {
    "duration": 14,
    "start_time": "2022-09-16T13:31:29.385Z"
   },
   {
    "duration": 48,
    "start_time": "2022-09-16T15:23:04.071Z"
   },
   {
    "duration": 1501,
    "start_time": "2022-09-16T15:23:19.239Z"
   },
   {
    "duration": 82,
    "start_time": "2022-09-16T15:23:20.742Z"
   },
   {
    "duration": 19,
    "start_time": "2022-09-16T15:23:20.825Z"
   },
   {
    "duration": 24,
    "start_time": "2022-09-16T15:23:20.845Z"
   },
   {
    "duration": 16,
    "start_time": "2022-09-16T15:23:20.871Z"
   },
   {
    "duration": 4,
    "start_time": "2022-09-16T15:23:20.888Z"
   },
   {
    "duration": 22,
    "start_time": "2022-09-16T15:23:20.894Z"
   },
   {
    "duration": 45,
    "start_time": "2022-09-16T15:23:20.918Z"
   },
   {
    "duration": 16,
    "start_time": "2022-09-16T15:23:20.965Z"
   },
   {
    "duration": 1463,
    "start_time": "2022-09-16T15:23:20.983Z"
   },
   {
    "duration": 1127,
    "start_time": "2022-09-16T15:23:22.448Z"
   },
   {
    "duration": 12,
    "start_time": "2022-09-16T15:23:23.576Z"
   },
   {
    "duration": 11,
    "start_time": "2022-09-16T15:23:23.589Z"
   },
   {
    "duration": 14,
    "start_time": "2022-09-16T15:23:23.602Z"
   },
   {
    "duration": 4,
    "start_time": "2022-09-16T15:30:57.663Z"
   },
   {
    "duration": 64,
    "start_time": "2022-09-16T15:30:57.669Z"
   },
   {
    "duration": 16,
    "start_time": "2022-09-16T15:30:57.734Z"
   },
   {
    "duration": 30,
    "start_time": "2022-09-16T15:30:57.751Z"
   },
   {
    "duration": 30,
    "start_time": "2022-09-16T15:30:57.784Z"
   },
   {
    "duration": 17,
    "start_time": "2022-09-16T15:30:57.816Z"
   },
   {
    "duration": 21,
    "start_time": "2022-09-16T15:30:57.835Z"
   },
   {
    "duration": 60,
    "start_time": "2022-09-16T15:30:57.858Z"
   },
   {
    "duration": 14,
    "start_time": "2022-09-16T15:30:57.920Z"
   },
   {
    "duration": 1538,
    "start_time": "2022-09-16T15:30:57.936Z"
   },
   {
    "duration": 1068,
    "start_time": "2022-09-16T15:30:59.475Z"
   },
   {
    "duration": 86,
    "start_time": "2022-09-16T15:31:00.545Z"
   },
   {
    "duration": 0,
    "start_time": "2022-09-16T15:31:00.632Z"
   },
   {
    "duration": 0,
    "start_time": "2022-09-16T15:31:00.634Z"
   },
   {
    "duration": 26,
    "start_time": "2022-09-16T15:31:14.535Z"
   },
   {
    "duration": 5,
    "start_time": "2022-09-16T15:31:26.993Z"
   },
   {
    "duration": 49,
    "start_time": "2022-09-16T15:31:27.001Z"
   },
   {
    "duration": 14,
    "start_time": "2022-09-16T15:31:27.052Z"
   },
   {
    "duration": 21,
    "start_time": "2022-09-16T15:31:27.067Z"
   },
   {
    "duration": 10,
    "start_time": "2022-09-16T15:31:27.090Z"
   },
   {
    "duration": 15,
    "start_time": "2022-09-16T15:31:27.101Z"
   },
   {
    "duration": 13,
    "start_time": "2022-09-16T15:31:27.118Z"
   },
   {
    "duration": 44,
    "start_time": "2022-09-16T15:31:27.132Z"
   },
   {
    "duration": 16,
    "start_time": "2022-09-16T15:31:27.178Z"
   },
   {
    "duration": 1331,
    "start_time": "2022-09-16T15:31:27.195Z"
   },
   {
    "duration": 986,
    "start_time": "2022-09-16T15:31:28.529Z"
   },
   {
    "duration": 11,
    "start_time": "2022-09-16T15:31:29.517Z"
   },
   {
    "duration": 20,
    "start_time": "2022-09-16T15:31:29.529Z"
   },
   {
    "duration": 17,
    "start_time": "2022-09-16T15:31:29.551Z"
   },
   {
    "duration": 999,
    "start_time": "2022-09-16T15:35:05.657Z"
   },
   {
    "duration": 47,
    "start_time": "2022-09-16T18:27:56.651Z"
   },
   {
    "duration": 1581,
    "start_time": "2022-09-16T18:28:04.361Z"
   },
   {
    "duration": 165,
    "start_time": "2022-09-16T18:28:05.944Z"
   },
   {
    "duration": 19,
    "start_time": "2022-09-16T18:28:06.111Z"
   },
   {
    "duration": 16,
    "start_time": "2022-09-16T18:28:06.132Z"
   },
   {
    "duration": 15,
    "start_time": "2022-09-16T18:28:06.151Z"
   },
   {
    "duration": 10,
    "start_time": "2022-09-16T18:28:06.168Z"
   },
   {
    "duration": 6,
    "start_time": "2022-09-16T18:28:06.180Z"
   },
   {
    "duration": 40,
    "start_time": "2022-09-16T18:28:06.188Z"
   },
   {
    "duration": 16,
    "start_time": "2022-09-16T18:28:06.230Z"
   },
   {
    "duration": 1510,
    "start_time": "2022-09-16T18:28:06.247Z"
   },
   {
    "duration": 1089,
    "start_time": "2022-09-16T18:28:07.759Z"
   },
   {
    "duration": 13,
    "start_time": "2022-09-16T18:28:08.850Z"
   },
   {
    "duration": 13,
    "start_time": "2022-09-16T18:28:08.864Z"
   },
   {
    "duration": 12,
    "start_time": "2022-09-16T18:28:08.879Z"
   },
   {
    "duration": 14,
    "start_time": "2022-09-16T18:28:08.892Z"
   },
   {
    "duration": 4,
    "start_time": "2022-09-16T18:29:09.460Z"
   },
   {
    "duration": 39,
    "start_time": "2022-09-16T18:29:09.466Z"
   },
   {
    "duration": 14,
    "start_time": "2022-09-16T18:29:09.507Z"
   },
   {
    "duration": 16,
    "start_time": "2022-09-16T18:29:09.522Z"
   },
   {
    "duration": 12,
    "start_time": "2022-09-16T18:29:09.540Z"
   },
   {
    "duration": 4,
    "start_time": "2022-09-16T18:29:09.554Z"
   },
   {
    "duration": 5,
    "start_time": "2022-09-16T18:29:09.559Z"
   },
   {
    "duration": 39,
    "start_time": "2022-09-16T18:29:09.577Z"
   },
   {
    "duration": 17,
    "start_time": "2022-09-16T18:29:09.618Z"
   },
   {
    "duration": 1368,
    "start_time": "2022-09-16T18:29:09.637Z"
   },
   {
    "duration": 1107,
    "start_time": "2022-09-16T18:29:11.008Z"
   },
   {
    "duration": 12,
    "start_time": "2022-09-16T18:29:12.117Z"
   },
   {
    "duration": 12,
    "start_time": "2022-09-16T18:29:12.130Z"
   },
   {
    "duration": 35,
    "start_time": "2022-09-16T18:29:12.144Z"
   },
   {
    "duration": 13,
    "start_time": "2022-09-16T18:29:12.180Z"
   },
   {
    "duration": 5,
    "start_time": "2022-09-16T18:35:29.995Z"
   },
   {
    "duration": 43,
    "start_time": "2022-09-16T18:35:30.002Z"
   },
   {
    "duration": 14,
    "start_time": "2022-09-16T18:35:30.047Z"
   },
   {
    "duration": 18,
    "start_time": "2022-09-16T18:35:30.062Z"
   },
   {
    "duration": 13,
    "start_time": "2022-09-16T18:35:30.082Z"
   },
   {
    "duration": 4,
    "start_time": "2022-09-16T18:35:30.097Z"
   },
   {
    "duration": 6,
    "start_time": "2022-09-16T18:35:30.103Z"
   },
   {
    "duration": 44,
    "start_time": "2022-09-16T18:35:30.110Z"
   },
   {
    "duration": 26,
    "start_time": "2022-09-16T18:35:30.161Z"
   },
   {
    "duration": 1358,
    "start_time": "2022-09-16T18:35:30.189Z"
   },
   {
    "duration": 1051,
    "start_time": "2022-09-16T18:35:31.549Z"
   },
   {
    "duration": 9,
    "start_time": "2022-09-16T18:35:32.602Z"
   },
   {
    "duration": 17,
    "start_time": "2022-09-16T18:35:32.613Z"
   },
   {
    "duration": 12,
    "start_time": "2022-09-16T18:35:32.632Z"
   },
   {
    "duration": 42,
    "start_time": "2022-09-16T18:35:32.645Z"
   },
   {
    "duration": 14,
    "start_time": "2022-09-16T18:35:32.688Z"
   },
   {
    "duration": 14,
    "start_time": "2022-09-16T19:11:06.406Z"
   },
   {
    "duration": 18,
    "start_time": "2022-09-16T19:17:23.563Z"
   },
   {
    "duration": 8,
    "start_time": "2022-09-16T19:27:22.793Z"
   },
   {
    "duration": 68,
    "start_time": "2022-09-16T19:27:22.804Z"
   },
   {
    "duration": 22,
    "start_time": "2022-09-16T19:27:22.874Z"
   },
   {
    "duration": 33,
    "start_time": "2022-09-16T19:27:22.898Z"
   },
   {
    "duration": 15,
    "start_time": "2022-09-16T19:27:22.933Z"
   },
   {
    "duration": 5,
    "start_time": "2022-09-16T19:27:22.950Z"
   },
   {
    "duration": 7,
    "start_time": "2022-09-16T19:27:22.957Z"
   },
   {
    "duration": 57,
    "start_time": "2022-09-16T19:27:22.966Z"
   },
   {
    "duration": 18,
    "start_time": "2022-09-16T19:27:23.024Z"
   },
   {
    "duration": 1572,
    "start_time": "2022-09-16T19:27:23.044Z"
   },
   {
    "duration": 1105,
    "start_time": "2022-09-16T19:27:24.618Z"
   },
   {
    "duration": 11,
    "start_time": "2022-09-16T19:27:25.724Z"
   },
   {
    "duration": 19,
    "start_time": "2022-09-16T19:27:25.737Z"
   },
   {
    "duration": 34,
    "start_time": "2022-09-16T19:27:25.758Z"
   },
   {
    "duration": 27,
    "start_time": "2022-09-16T19:27:25.794Z"
   },
   {
    "duration": 16,
    "start_time": "2022-09-16T19:27:25.823Z"
   },
   {
    "duration": 7,
    "start_time": "2022-09-16T19:27:25.841Z"
   },
   {
    "duration": 52,
    "start_time": "2022-09-16T19:27:25.850Z"
   },
   {
    "duration": 10,
    "start_time": "2022-09-16T19:30:07.677Z"
   },
   {
    "duration": 56,
    "start_time": "2022-09-16T19:30:07.692Z"
   },
   {
    "duration": 17,
    "start_time": "2022-09-16T19:30:07.750Z"
   },
   {
    "duration": 28,
    "start_time": "2022-09-16T19:30:07.769Z"
   },
   {
    "duration": 37,
    "start_time": "2022-09-16T19:30:07.800Z"
   },
   {
    "duration": 6,
    "start_time": "2022-09-16T19:30:07.839Z"
   },
   {
    "duration": 5,
    "start_time": "2022-09-16T19:30:07.847Z"
   },
   {
    "duration": 59,
    "start_time": "2022-09-16T19:30:07.854Z"
   },
   {
    "duration": 16,
    "start_time": "2022-09-16T19:30:07.915Z"
   },
   {
    "duration": 1533,
    "start_time": "2022-09-16T19:30:07.932Z"
   },
   {
    "duration": 1053,
    "start_time": "2022-09-16T19:30:09.467Z"
   },
   {
    "duration": 9076,
    "start_time": "2022-09-16T19:30:10.522Z"
   },
   {
    "duration": 0,
    "start_time": "2022-09-16T19:30:19.599Z"
   },
   {
    "duration": 0,
    "start_time": "2022-09-16T19:30:19.600Z"
   },
   {
    "duration": 0,
    "start_time": "2022-09-16T19:30:19.601Z"
   },
   {
    "duration": 0,
    "start_time": "2022-09-16T19:30:19.602Z"
   },
   {
    "duration": 0,
    "start_time": "2022-09-16T19:30:19.603Z"
   },
   {
    "duration": 0,
    "start_time": "2022-09-16T19:30:19.604Z"
   },
   {
    "duration": 4,
    "start_time": "2022-09-16T19:30:51.324Z"
   },
   {
    "duration": 40,
    "start_time": "2022-09-16T19:30:51.331Z"
   },
   {
    "duration": 13,
    "start_time": "2022-09-16T19:30:51.373Z"
   },
   {
    "duration": 14,
    "start_time": "2022-09-16T19:30:51.388Z"
   },
   {
    "duration": 13,
    "start_time": "2022-09-16T19:30:51.404Z"
   },
   {
    "duration": 5,
    "start_time": "2022-09-16T19:30:51.418Z"
   },
   {
    "duration": 4,
    "start_time": "2022-09-16T19:30:51.425Z"
   },
   {
    "duration": 61,
    "start_time": "2022-09-16T19:30:51.431Z"
   },
   {
    "duration": 14,
    "start_time": "2022-09-16T19:30:51.494Z"
   },
   {
    "duration": 1336,
    "start_time": "2022-09-16T19:30:51.510Z"
   },
   {
    "duration": 1055,
    "start_time": "2022-09-16T19:30:52.848Z"
   },
   {
    "duration": 9,
    "start_time": "2022-09-16T19:30:53.905Z"
   },
   {
    "duration": 16,
    "start_time": "2022-09-16T19:30:53.916Z"
   },
   {
    "duration": 11,
    "start_time": "2022-09-16T19:30:53.934Z"
   },
   {
    "duration": 33,
    "start_time": "2022-09-16T19:30:53.947Z"
   },
   {
    "duration": 1498,
    "start_time": "2022-09-16T19:30:53.981Z"
   },
   {
    "duration": 0,
    "start_time": "2022-09-16T19:30:55.481Z"
   },
   {
    "duration": 0,
    "start_time": "2022-09-16T19:30:55.482Z"
   },
   {
    "duration": 14,
    "start_time": "2022-09-16T19:33:35.988Z"
   },
   {
    "duration": 7,
    "start_time": "2022-09-16T19:33:39.877Z"
   },
   {
    "duration": 28,
    "start_time": "2022-09-16T19:33:49.069Z"
   },
   {
    "duration": 24,
    "start_time": "2022-09-16T19:48:15.136Z"
   },
   {
    "duration": 5,
    "start_time": "2022-09-16T19:48:38.164Z"
   },
   {
    "duration": 41,
    "start_time": "2022-09-16T19:48:38.171Z"
   },
   {
    "duration": 13,
    "start_time": "2022-09-16T19:48:38.214Z"
   },
   {
    "duration": 16,
    "start_time": "2022-09-16T19:48:38.228Z"
   },
   {
    "duration": 15,
    "start_time": "2022-09-16T19:48:38.245Z"
   },
   {
    "duration": 5,
    "start_time": "2022-09-16T19:48:38.262Z"
   },
   {
    "duration": 6,
    "start_time": "2022-09-16T19:48:38.268Z"
   },
   {
    "duration": 41,
    "start_time": "2022-09-16T19:48:38.275Z"
   },
   {
    "duration": 15,
    "start_time": "2022-09-16T19:48:38.318Z"
   },
   {
    "duration": 1471,
    "start_time": "2022-09-16T19:48:38.334Z"
   },
   {
    "duration": 955,
    "start_time": "2022-09-16T19:48:39.806Z"
   },
   {
    "duration": 17,
    "start_time": "2022-09-16T19:48:40.763Z"
   },
   {
    "duration": 13,
    "start_time": "2022-09-16T19:48:40.781Z"
   },
   {
    "duration": 12,
    "start_time": "2022-09-16T19:48:40.795Z"
   },
   {
    "duration": 19,
    "start_time": "2022-09-16T19:48:40.808Z"
   },
   {
    "duration": 12,
    "start_time": "2022-09-16T19:48:40.829Z"
   },
   {
    "duration": 7,
    "start_time": "2022-09-16T19:48:40.842Z"
   },
   {
    "duration": 49,
    "start_time": "2022-09-16T19:48:40.850Z"
   },
   {
    "duration": 121,
    "start_time": "2022-09-16T19:58:31.390Z"
   },
   {
    "duration": 98,
    "start_time": "2022-09-16T20:02:40.964Z"
   },
   {
    "duration": 102,
    "start_time": "2022-09-16T20:04:05.156Z"
   },
   {
    "duration": 116,
    "start_time": "2022-09-16T20:04:31.357Z"
   },
   {
    "duration": 250,
    "start_time": "2022-09-16T20:15:37.972Z"
   },
   {
    "duration": 227,
    "start_time": "2022-09-16T20:15:58.456Z"
   },
   {
    "duration": 108,
    "start_time": "2022-09-16T20:16:19.493Z"
   },
   {
    "duration": 155,
    "start_time": "2022-09-16T20:16:36.266Z"
   },
   {
    "duration": 7378,
    "start_time": "2022-09-16T20:30:45.907Z"
   },
   {
    "duration": 42,
    "start_time": "2022-09-16T20:31:15.644Z"
   },
   {
    "duration": 4,
    "start_time": "2022-09-16T20:33:19.190Z"
   },
   {
    "duration": 186,
    "start_time": "2022-09-16T20:33:27.394Z"
   },
   {
    "duration": 188,
    "start_time": "2022-09-16T20:34:03.390Z"
   },
   {
    "duration": 158,
    "start_time": "2022-09-16T20:34:13.228Z"
   },
   {
    "duration": 317,
    "start_time": "2022-09-16T20:34:27.164Z"
   },
   {
    "duration": 2418,
    "start_time": "2022-09-16T20:36:23.226Z"
   },
   {
    "duration": 16269,
    "start_time": "2022-09-16T20:36:35.835Z"
   },
   {
    "duration": 2287,
    "start_time": "2022-09-16T20:37:00.117Z"
   },
   {
    "duration": 2364,
    "start_time": "2022-09-16T20:38:05.735Z"
   },
   {
    "duration": 2329,
    "start_time": "2022-09-16T20:38:39.692Z"
   },
   {
    "duration": 7930,
    "start_time": "2022-09-16T20:41:51.093Z"
   },
   {
    "duration": 405,
    "start_time": "2022-09-16T20:43:05.364Z"
   },
   {
    "duration": 188,
    "start_time": "2022-09-16T20:48:37.192Z"
   },
   {
    "duration": 85,
    "start_time": "2022-09-16T20:54:31.393Z"
   },
   {
    "duration": 25,
    "start_time": "2022-09-16T20:56:59.122Z"
   },
   {
    "duration": 13,
    "start_time": "2022-09-16T21:01:01.885Z"
   },
   {
    "duration": 37,
    "start_time": "2022-09-16T21:01:06.462Z"
   },
   {
    "duration": 3986,
    "start_time": "2022-09-16T21:01:10.036Z"
   },
   {
    "duration": 6383,
    "start_time": "2022-09-16T21:01:58.564Z"
   },
   {
    "duration": 3965,
    "start_time": "2022-09-16T21:02:11.541Z"
   },
   {
    "duration": 11,
    "start_time": "2022-09-16T21:02:55.454Z"
   },
   {
    "duration": 1459,
    "start_time": "2022-09-17T15:57:44.076Z"
   },
   {
    "duration": 163,
    "start_time": "2022-09-17T15:57:45.536Z"
   },
   {
    "duration": 18,
    "start_time": "2022-09-17T15:57:45.701Z"
   },
   {
    "duration": 13,
    "start_time": "2022-09-17T15:57:45.720Z"
   },
   {
    "duration": 13,
    "start_time": "2022-09-17T15:57:45.735Z"
   },
   {
    "duration": 4,
    "start_time": "2022-09-17T15:57:45.749Z"
   },
   {
    "duration": 6,
    "start_time": "2022-09-17T15:57:45.755Z"
   },
   {
    "duration": 38,
    "start_time": "2022-09-17T15:57:45.762Z"
   },
   {
    "duration": 33,
    "start_time": "2022-09-17T15:57:45.801Z"
   },
   {
    "duration": 1449,
    "start_time": "2022-09-17T15:57:45.835Z"
   },
   {
    "duration": 1030,
    "start_time": "2022-09-17T15:57:47.286Z"
   },
   {
    "duration": 11,
    "start_time": "2022-09-17T15:57:48.317Z"
   },
   {
    "duration": 20,
    "start_time": "2022-09-17T15:57:48.330Z"
   },
   {
    "duration": 14,
    "start_time": "2022-09-17T15:57:48.353Z"
   },
   {
    "duration": 19,
    "start_time": "2022-09-17T15:57:48.368Z"
   },
   {
    "duration": 12,
    "start_time": "2022-09-17T15:57:48.388Z"
   },
   {
    "duration": 25,
    "start_time": "2022-09-17T15:57:48.401Z"
   },
   {
    "duration": 25,
    "start_time": "2022-09-17T15:57:48.428Z"
   },
   {
    "duration": 114,
    "start_time": "2022-09-17T15:57:48.454Z"
   },
   {
    "duration": 386,
    "start_time": "2022-09-17T15:57:48.569Z"
   },
   {
    "duration": 7181,
    "start_time": "2022-09-17T15:57:48.956Z"
   },
   {
    "duration": 190,
    "start_time": "2022-09-17T15:57:56.139Z"
   },
   {
    "duration": 2276,
    "start_time": "2022-09-17T15:57:56.330Z"
   },
   {
    "duration": 220,
    "start_time": "2022-09-17T15:57:58.608Z"
   },
   {
    "duration": 113,
    "start_time": "2022-09-17T15:57:58.830Z"
   },
   {
    "duration": 85,
    "start_time": "2022-09-17T15:57:58.944Z"
   },
   {
    "duration": 3983,
    "start_time": "2022-09-17T15:57:59.031Z"
   },
   {
    "duration": 12,
    "start_time": "2022-09-17T15:58:03.016Z"
   },
   {
    "duration": 93,
    "start_time": "2022-09-17T15:58:03.029Z"
   },
   {
    "duration": 4061,
    "start_time": "2022-09-17T15:58:03.124Z"
   },
   {
    "duration": 1536,
    "start_time": "2022-09-17T19:37:19.243Z"
   },
   {
    "duration": 106,
    "start_time": "2022-09-17T19:37:20.781Z"
   },
   {
    "duration": 17,
    "start_time": "2022-09-17T19:37:20.888Z"
   },
   {
    "duration": 34,
    "start_time": "2022-09-17T19:37:20.907Z"
   },
   {
    "duration": 16,
    "start_time": "2022-09-17T19:37:20.943Z"
   },
   {
    "duration": 8,
    "start_time": "2022-09-17T19:37:20.961Z"
   },
   {
    "duration": 5,
    "start_time": "2022-09-17T19:37:20.970Z"
   },
   {
    "duration": 52,
    "start_time": "2022-09-17T19:37:20.976Z"
   },
   {
    "duration": 19,
    "start_time": "2022-09-17T19:37:21.031Z"
   },
   {
    "duration": 1439,
    "start_time": "2022-09-17T19:37:21.052Z"
   },
   {
    "duration": 1160,
    "start_time": "2022-09-17T19:37:22.493Z"
   },
   {
    "duration": 11,
    "start_time": "2022-09-17T19:37:23.655Z"
   },
   {
    "duration": 15,
    "start_time": "2022-09-17T19:37:23.668Z"
   },
   {
    "duration": 13,
    "start_time": "2022-09-17T19:37:23.685Z"
   },
   {
    "duration": 19,
    "start_time": "2022-09-17T19:37:23.700Z"
   },
   {
    "duration": 30,
    "start_time": "2022-09-17T19:37:23.720Z"
   },
   {
    "duration": 6,
    "start_time": "2022-09-17T19:37:23.752Z"
   },
   {
    "duration": 24,
    "start_time": "2022-09-17T19:37:23.759Z"
   },
   {
    "duration": 114,
    "start_time": "2022-09-17T19:37:23.785Z"
   },
   {
    "duration": 709,
    "start_time": "2022-09-17T19:37:23.901Z"
   },
   {
    "duration": 566,
    "start_time": "2022-09-17T19:37:24.612Z"
   },
   {
    "duration": 8995,
    "start_time": "2022-09-17T19:37:25.179Z"
   },
   {
    "duration": 2691,
    "start_time": "2022-09-17T19:37:34.176Z"
   },
   {
    "duration": 651,
    "start_time": "2022-09-17T19:37:36.869Z"
   },
   {
    "duration": 93,
    "start_time": "2022-09-17T19:37:37.522Z"
   },
   {
    "duration": 114,
    "start_time": "2022-09-17T19:37:37.617Z"
   },
   {
    "duration": 4565,
    "start_time": "2022-09-17T19:37:37.733Z"
   },
   {
    "duration": 23,
    "start_time": "2022-09-17T19:37:42.300Z"
   },
   {
    "duration": 15,
    "start_time": "2022-09-17T19:37:42.336Z"
   },
   {
    "duration": 4794,
    "start_time": "2022-09-17T19:37:42.353Z"
   },
   {
    "duration": 5,
    "start_time": "2022-09-17T19:47:48.122Z"
   },
   {
    "duration": 46,
    "start_time": "2022-09-17T19:47:48.130Z"
   },
   {
    "duration": 13,
    "start_time": "2022-09-17T19:47:48.178Z"
   },
   {
    "duration": 14,
    "start_time": "2022-09-17T19:47:48.193Z"
   },
   {
    "duration": 15,
    "start_time": "2022-09-17T19:47:48.212Z"
   },
   {
    "duration": 4,
    "start_time": "2022-09-17T19:47:48.229Z"
   },
   {
    "duration": 7,
    "start_time": "2022-09-17T19:47:48.234Z"
   },
   {
    "duration": 37,
    "start_time": "2022-09-17T19:47:48.242Z"
   },
   {
    "duration": 14,
    "start_time": "2022-09-17T19:47:48.281Z"
   },
   {
    "duration": 1376,
    "start_time": "2022-09-17T19:47:48.312Z"
   },
   {
    "duration": 977,
    "start_time": "2022-09-17T19:47:49.689Z"
   },
   {
    "duration": 9,
    "start_time": "2022-09-17T19:47:50.667Z"
   },
   {
    "duration": 17,
    "start_time": "2022-09-17T19:47:50.678Z"
   },
   {
    "duration": 27,
    "start_time": "2022-09-17T19:47:50.696Z"
   },
   {
    "duration": 17,
    "start_time": "2022-09-17T19:47:50.726Z"
   },
   {
    "duration": 11,
    "start_time": "2022-09-17T19:47:50.744Z"
   },
   {
    "duration": 6,
    "start_time": "2022-09-17T19:47:50.756Z"
   },
   {
    "duration": 25,
    "start_time": "2022-09-17T19:47:50.763Z"
   },
   {
    "duration": 135,
    "start_time": "2022-09-17T19:47:50.789Z"
   },
   {
    "duration": 403,
    "start_time": "2022-09-17T19:47:50.925Z"
   },
   {
    "duration": 631,
    "start_time": "2022-09-17T19:47:51.330Z"
   },
   {
    "duration": 2,
    "start_time": "2022-09-17T19:47:51.963Z"
   },
   {
    "duration": 8753,
    "start_time": "2022-09-17T19:47:51.967Z"
   },
   {
    "duration": 2,
    "start_time": "2022-09-17T19:48:00.724Z"
   },
   {
    "duration": 2619,
    "start_time": "2022-09-17T19:48:00.728Z"
   },
   {
    "duration": 2,
    "start_time": "2022-09-17T19:48:03.348Z"
   },
   {
    "duration": 672,
    "start_time": "2022-09-17T19:48:03.351Z"
   },
   {
    "duration": 102,
    "start_time": "2022-09-17T19:48:04.025Z"
   },
   {
    "duration": 98,
    "start_time": "2022-09-17T19:48:04.129Z"
   },
   {
    "duration": 872,
    "start_time": "2022-09-17T19:48:04.229Z"
   },
   {
    "duration": 15983,
    "start_time": "2022-09-17T19:48:05.103Z"
   },
   {
    "duration": 4339,
    "start_time": "2022-09-17T19:48:21.087Z"
   },
   {
    "duration": 9,
    "start_time": "2022-09-17T19:48:25.428Z"
   },
   {
    "duration": 76,
    "start_time": "2022-09-17T19:48:25.439Z"
   },
   {
    "duration": 1565,
    "start_time": "2022-09-17T19:48:25.517Z"
   },
   {
    "duration": 3580,
    "start_time": "2022-09-17T19:48:27.083Z"
   },
   {
    "duration": 3,
    "start_time": "2022-09-17T19:48:30.664Z"
   },
   {
    "duration": 191,
    "start_time": "2022-09-17T19:48:30.668Z"
   },
   {
    "duration": 4,
    "start_time": "2022-09-17T19:59:11.462Z"
   },
   {
    "duration": 55,
    "start_time": "2022-09-17T19:59:11.468Z"
   },
   {
    "duration": 12,
    "start_time": "2022-09-17T19:59:11.525Z"
   },
   {
    "duration": 13,
    "start_time": "2022-09-17T19:59:11.540Z"
   },
   {
    "duration": 11,
    "start_time": "2022-09-17T19:59:11.555Z"
   },
   {
    "duration": 4,
    "start_time": "2022-09-17T19:59:11.568Z"
   },
   {
    "duration": 5,
    "start_time": "2022-09-17T19:59:11.573Z"
   },
   {
    "duration": 70,
    "start_time": "2022-09-17T19:59:11.579Z"
   },
   {
    "duration": 17,
    "start_time": "2022-09-17T19:59:11.652Z"
   },
   {
    "duration": 1557,
    "start_time": "2022-09-17T19:59:11.672Z"
   },
   {
    "duration": 978,
    "start_time": "2022-09-17T19:59:13.230Z"
   },
   {
    "duration": 19,
    "start_time": "2022-09-17T19:59:14.220Z"
   },
   {
    "duration": 13,
    "start_time": "2022-09-17T19:59:14.241Z"
   },
   {
    "duration": 14,
    "start_time": "2022-09-17T19:59:14.256Z"
   },
   {
    "duration": 25,
    "start_time": "2022-09-17T19:59:14.271Z"
   },
   {
    "duration": 27,
    "start_time": "2022-09-17T19:59:14.298Z"
   },
   {
    "duration": 24,
    "start_time": "2022-09-17T19:59:14.326Z"
   },
   {
    "duration": 28,
    "start_time": "2022-09-17T19:59:14.352Z"
   },
   {
    "duration": 105,
    "start_time": "2022-09-17T19:59:14.381Z"
   },
   {
    "duration": 532,
    "start_time": "2022-09-17T19:59:14.488Z"
   },
   {
    "duration": 636,
    "start_time": "2022-09-17T19:59:15.022Z"
   },
   {
    "duration": 8858,
    "start_time": "2022-09-17T19:59:15.660Z"
   },
   {
    "duration": 2626,
    "start_time": "2022-09-17T19:59:24.523Z"
   },
   {
    "duration": 468,
    "start_time": "2022-09-17T19:59:27.151Z"
   },
   {
    "duration": 94,
    "start_time": "2022-09-17T19:59:27.621Z"
   },
   {
    "duration": 107,
    "start_time": "2022-09-17T19:59:27.720Z"
   },
   {
    "duration": 966,
    "start_time": "2022-09-17T19:59:27.829Z"
   },
   {
    "duration": 16724,
    "start_time": "2022-09-17T19:59:28.796Z"
   },
   {
    "duration": 4472,
    "start_time": "2022-09-17T19:59:45.522Z"
   },
   {
    "duration": 27,
    "start_time": "2022-09-17T19:59:49.995Z"
   },
   {
    "duration": 91,
    "start_time": "2022-09-17T19:59:50.024Z"
   },
   {
    "duration": 1641,
    "start_time": "2022-09-17T19:59:50.117Z"
   },
   {
    "duration": 3700,
    "start_time": "2022-09-17T19:59:51.760Z"
   },
   {
    "duration": 196,
    "start_time": "2022-09-17T19:59:55.462Z"
   },
   {
    "duration": 6,
    "start_time": "2022-09-17T20:04:10.845Z"
   },
   {
    "duration": 70,
    "start_time": "2022-09-17T20:04:10.853Z"
   },
   {
    "duration": 19,
    "start_time": "2022-09-17T20:04:10.926Z"
   },
   {
    "duration": 33,
    "start_time": "2022-09-17T20:04:10.947Z"
   },
   {
    "duration": 23,
    "start_time": "2022-09-17T20:04:10.983Z"
   },
   {
    "duration": 29,
    "start_time": "2022-09-17T20:04:11.008Z"
   },
   {
    "duration": 6,
    "start_time": "2022-09-17T20:04:11.039Z"
   },
   {
    "duration": 51,
    "start_time": "2022-09-17T20:04:11.046Z"
   },
   {
    "duration": 31,
    "start_time": "2022-09-17T20:04:11.098Z"
   },
   {
    "duration": 1628,
    "start_time": "2022-09-17T20:04:11.131Z"
   },
   {
    "duration": 1130,
    "start_time": "2022-09-17T20:04:12.761Z"
   },
   {
    "duration": 10,
    "start_time": "2022-09-17T20:04:13.893Z"
   },
   {
    "duration": 20,
    "start_time": "2022-09-17T20:04:13.912Z"
   },
   {
    "duration": 13,
    "start_time": "2022-09-17T20:04:13.936Z"
   },
   {
    "duration": 17,
    "start_time": "2022-09-17T20:04:13.951Z"
   },
   {
    "duration": 17,
    "start_time": "2022-09-17T20:04:13.970Z"
   },
   {
    "duration": 15,
    "start_time": "2022-09-17T20:04:14.008Z"
   },
   {
    "duration": 29,
    "start_time": "2022-09-17T20:04:14.025Z"
   },
   {
    "duration": 125,
    "start_time": "2022-09-17T20:04:14.055Z"
   },
   {
    "duration": 447,
    "start_time": "2022-09-17T20:04:14.181Z"
   },
   {
    "duration": 653,
    "start_time": "2022-09-17T20:04:14.633Z"
   },
   {
    "duration": 9247,
    "start_time": "2022-09-17T20:04:15.287Z"
   },
   {
    "duration": 2742,
    "start_time": "2022-09-17T20:04:24.536Z"
   },
   {
    "duration": 351,
    "start_time": "2022-09-17T20:04:27.280Z"
   },
   {
    "duration": 83,
    "start_time": "2022-09-17T20:04:27.635Z"
   },
   {
    "duration": 187,
    "start_time": "2022-09-17T20:04:27.723Z"
   },
   {
    "duration": 922,
    "start_time": "2022-09-17T20:04:27.912Z"
   },
   {
    "duration": 17234,
    "start_time": "2022-09-17T20:04:28.836Z"
   },
   {
    "duration": 4819,
    "start_time": "2022-09-17T20:04:46.072Z"
   },
   {
    "duration": 34,
    "start_time": "2022-09-17T20:04:50.892Z"
   },
   {
    "duration": 188,
    "start_time": "2022-09-17T20:04:50.929Z"
   },
   {
    "duration": 1752,
    "start_time": "2022-09-17T20:04:51.119Z"
   },
   {
    "duration": 3993,
    "start_time": "2022-09-17T20:04:52.873Z"
   },
   {
    "duration": 201,
    "start_time": "2022-09-17T20:04:56.868Z"
   },
   {
    "duration": 5,
    "start_time": "2022-09-17T20:08:58.492Z"
   },
   {
    "duration": 51,
    "start_time": "2022-09-17T20:08:58.499Z"
   },
   {
    "duration": 13,
    "start_time": "2022-09-17T20:08:58.552Z"
   },
   {
    "duration": 15,
    "start_time": "2022-09-17T20:08:58.566Z"
   },
   {
    "duration": 13,
    "start_time": "2022-09-17T20:08:58.583Z"
   },
   {
    "duration": 4,
    "start_time": "2022-09-17T20:08:58.598Z"
   },
   {
    "duration": 18,
    "start_time": "2022-09-17T20:08:58.613Z"
   },
   {
    "duration": 51,
    "start_time": "2022-09-17T20:08:58.633Z"
   },
   {
    "duration": 16,
    "start_time": "2022-09-17T20:08:58.685Z"
   },
   {
    "duration": 1426,
    "start_time": "2022-09-17T20:08:58.703Z"
   },
   {
    "duration": 1169,
    "start_time": "2022-09-17T20:09:00.131Z"
   },
   {
    "duration": 22,
    "start_time": "2022-09-17T20:09:01.301Z"
   },
   {
    "duration": 18,
    "start_time": "2022-09-17T20:09:01.329Z"
   },
   {
    "duration": 27,
    "start_time": "2022-09-17T20:09:01.349Z"
   },
   {
    "duration": 34,
    "start_time": "2022-09-17T20:09:01.378Z"
   },
   {
    "duration": 20,
    "start_time": "2022-09-17T20:09:01.423Z"
   },
   {
    "duration": 8,
    "start_time": "2022-09-17T20:09:01.446Z"
   },
   {
    "duration": 34,
    "start_time": "2022-09-17T20:09:01.456Z"
   },
   {
    "duration": 163,
    "start_time": "2022-09-17T20:09:01.492Z"
   },
   {
    "duration": 667,
    "start_time": "2022-09-17T20:09:01.656Z"
   },
   {
    "duration": 3323,
    "start_time": "2022-09-17T20:09:02.325Z"
   },
   {
    "duration": 34693,
    "start_time": "2022-09-17T20:09:05.650Z"
   },
   {
    "duration": 18837,
    "start_time": "2022-09-17T20:09:40.345Z"
   },
   {
    "duration": 1535,
    "start_time": "2022-09-17T20:09:59.184Z"
   },
   {
    "duration": 95,
    "start_time": "2022-09-17T20:10:00.722Z"
   },
   {
    "duration": 106,
    "start_time": "2022-09-17T20:10:00.821Z"
   },
   {
    "duration": 5216,
    "start_time": "2022-09-17T20:10:00.929Z"
   },
   {
    "duration": 64345,
    "start_time": "2022-09-17T20:10:06.147Z"
   },
   {
    "duration": 31965,
    "start_time": "2022-09-17T20:11:10.494Z"
   },
   {
    "duration": 12,
    "start_time": "2022-09-17T20:11:42.460Z"
   },
   {
    "duration": 51,
    "start_time": "2022-09-17T20:11:42.474Z"
   },
   {
    "duration": 10303,
    "start_time": "2022-09-17T20:11:42.527Z"
   },
   {
    "duration": 13875,
    "start_time": "2022-09-17T20:11:52.831Z"
   },
   {
    "duration": 1013,
    "start_time": "2022-09-17T20:12:06.708Z"
   },
   {
    "duration": 6,
    "start_time": "2022-09-17T20:16:34.042Z"
   },
   {
    "duration": 51,
    "start_time": "2022-09-17T20:16:34.049Z"
   },
   {
    "duration": 28,
    "start_time": "2022-09-17T20:16:34.103Z"
   },
   {
    "duration": 20,
    "start_time": "2022-09-17T20:16:34.138Z"
   },
   {
    "duration": 35,
    "start_time": "2022-09-17T20:16:34.160Z"
   },
   {
    "duration": 9,
    "start_time": "2022-09-17T20:16:34.196Z"
   },
   {
    "duration": 30,
    "start_time": "2022-09-17T20:16:34.207Z"
   },
   {
    "duration": 40,
    "start_time": "2022-09-17T20:16:34.239Z"
   },
   {
    "duration": 25,
    "start_time": "2022-09-17T20:16:34.282Z"
   },
   {
    "duration": 1411,
    "start_time": "2022-09-17T20:16:34.308Z"
   },
   {
    "duration": 1037,
    "start_time": "2022-09-17T20:16:35.721Z"
   },
   {
    "duration": 11,
    "start_time": "2022-09-17T20:16:36.760Z"
   },
   {
    "duration": 54,
    "start_time": "2022-09-17T20:16:36.772Z"
   },
   {
    "duration": 27,
    "start_time": "2022-09-17T20:16:36.827Z"
   },
   {
    "duration": 41,
    "start_time": "2022-09-17T20:16:36.856Z"
   },
   {
    "duration": 29,
    "start_time": "2022-09-17T20:16:36.899Z"
   },
   {
    "duration": 12,
    "start_time": "2022-09-17T20:16:36.930Z"
   },
   {
    "duration": 42,
    "start_time": "2022-09-17T20:16:36.944Z"
   },
   {
    "duration": 139,
    "start_time": "2022-09-17T20:16:36.988Z"
   },
   {
    "duration": 905,
    "start_time": "2022-09-17T20:16:37.129Z"
   },
   {
    "duration": 3417,
    "start_time": "2022-09-17T20:16:38.040Z"
   },
   {
    "duration": 36586,
    "start_time": "2022-09-17T20:16:41.459Z"
   },
   {
    "duration": 18886,
    "start_time": "2022-09-17T20:17:18.046Z"
   },
   {
    "duration": 96,
    "start_time": "2022-09-17T20:17:36.935Z"
   },
   {
    "duration": 191,
    "start_time": "2022-09-17T20:17:37.033Z"
   },
   {
    "duration": 93,
    "start_time": "2022-09-17T20:17:37.226Z"
   },
   {
    "duration": 3864,
    "start_time": "2022-09-17T20:17:37.322Z"
   },
   {
    "duration": 47765,
    "start_time": "2022-09-17T20:17:41.189Z"
   },
   {
    "duration": 23121,
    "start_time": "2022-09-17T20:18:28.956Z"
   },
   {
    "duration": 13,
    "start_time": "2022-09-17T20:18:52.078Z"
   },
   {
    "duration": 236,
    "start_time": "2022-09-17T20:18:52.092Z"
   },
   {
    "duration": 18057,
    "start_time": "2022-09-17T20:18:52.335Z"
   },
   {
    "duration": 31548,
    "start_time": "2022-09-17T20:19:10.394Z"
   },
   {
    "duration": 2700,
    "start_time": "2022-09-17T20:19:41.944Z"
   },
   {
    "duration": 863,
    "start_time": "2022-09-17T20:39:46.742Z"
   },
   {
    "duration": 174,
    "start_time": "2022-09-17T20:53:08.582Z"
   },
   {
    "duration": 125,
    "start_time": "2022-09-17T20:56:21.446Z"
   },
   {
    "duration": 187,
    "start_time": "2022-09-17T20:56:44.489Z"
   },
   {
    "duration": 5,
    "start_time": "2022-09-17T20:58:05.936Z"
   },
   {
    "duration": 42,
    "start_time": "2022-09-17T20:58:05.943Z"
   },
   {
    "duration": 14,
    "start_time": "2022-09-17T20:58:05.987Z"
   },
   {
    "duration": 26,
    "start_time": "2022-09-17T20:58:06.003Z"
   },
   {
    "duration": 14,
    "start_time": "2022-09-17T20:58:06.033Z"
   },
   {
    "duration": 4,
    "start_time": "2022-09-17T20:58:06.048Z"
   },
   {
    "duration": 7,
    "start_time": "2022-09-17T20:58:06.054Z"
   },
   {
    "duration": 60,
    "start_time": "2022-09-17T20:58:06.063Z"
   },
   {
    "duration": 15,
    "start_time": "2022-09-17T20:58:06.126Z"
   },
   {
    "duration": 1543,
    "start_time": "2022-09-17T20:58:06.143Z"
   },
   {
    "duration": 1039,
    "start_time": "2022-09-17T20:58:07.688Z"
   },
   {
    "duration": 11,
    "start_time": "2022-09-17T20:58:08.730Z"
   },
   {
    "duration": 11,
    "start_time": "2022-09-17T20:58:08.742Z"
   },
   {
    "duration": 26,
    "start_time": "2022-09-17T20:58:08.756Z"
   },
   {
    "duration": 41,
    "start_time": "2022-09-17T20:58:08.784Z"
   },
   {
    "duration": 13,
    "start_time": "2022-09-17T20:58:08.827Z"
   },
   {
    "duration": 23,
    "start_time": "2022-09-17T20:58:08.841Z"
   },
   {
    "duration": 36,
    "start_time": "2022-09-17T20:58:08.865Z"
   },
   {
    "duration": 132,
    "start_time": "2022-09-17T20:58:08.903Z"
   },
   {
    "duration": 1391,
    "start_time": "2022-09-17T20:58:09.037Z"
   },
   {
    "duration": 3151,
    "start_time": "2022-09-17T20:58:10.431Z"
   },
   {
    "duration": 33962,
    "start_time": "2022-09-17T20:58:13.584Z"
   },
   {
    "duration": 18500,
    "start_time": "2022-09-17T20:58:47.549Z"
   },
   {
    "duration": 781,
    "start_time": "2022-09-17T20:59:06.050Z"
   },
   {
    "duration": 81,
    "start_time": "2022-09-17T20:59:06.833Z"
   },
   {
    "duration": 199,
    "start_time": "2022-09-17T20:59:06.921Z"
   },
   {
    "duration": 3651,
    "start_time": "2022-09-17T20:59:07.122Z"
   },
   {
    "duration": 46910,
    "start_time": "2022-09-17T20:59:10.774Z"
   },
   {
    "duration": 22794,
    "start_time": "2022-09-17T20:59:57.686Z"
   },
   {
    "duration": 13,
    "start_time": "2022-09-17T21:00:20.482Z"
   },
   {
    "duration": 222,
    "start_time": "2022-09-17T21:00:20.496Z"
   },
   {
    "duration": 17515,
    "start_time": "2022-09-17T21:00:20.724Z"
   },
   {
    "duration": 30348,
    "start_time": "2022-09-17T21:00:38.241Z"
   },
   {
    "duration": 2641,
    "start_time": "2022-09-17T21:01:08.591Z"
   },
   {
    "duration": 957,
    "start_time": "2022-09-17T21:01:11.234Z"
   },
   {
    "duration": 197,
    "start_time": "2022-09-17T21:01:12.193Z"
   },
   {
    "duration": 1629,
    "start_time": "2022-09-19T08:59:55.235Z"
   },
   {
    "duration": 155,
    "start_time": "2022-09-19T08:59:56.867Z"
   },
   {
    "duration": 18,
    "start_time": "2022-09-19T08:59:57.024Z"
   },
   {
    "duration": 16,
    "start_time": "2022-09-19T08:59:57.044Z"
   },
   {
    "duration": 16,
    "start_time": "2022-09-19T08:59:57.062Z"
   },
   {
    "duration": 5,
    "start_time": "2022-09-19T08:59:57.079Z"
   },
   {
    "duration": 5,
    "start_time": "2022-09-19T08:59:57.085Z"
   },
   {
    "duration": 41,
    "start_time": "2022-09-19T08:59:57.091Z"
   },
   {
    "duration": 16,
    "start_time": "2022-09-19T08:59:57.133Z"
   },
   {
    "duration": 1517,
    "start_time": "2022-09-19T08:59:57.151Z"
   },
   {
    "duration": 1139,
    "start_time": "2022-09-19T08:59:58.670Z"
   },
   {
    "duration": 117,
    "start_time": "2022-09-19T09:00:13.713Z"
   },
   {
    "duration": 4,
    "start_time": "2022-09-19T09:00:53.724Z"
   },
   {
    "duration": 53,
    "start_time": "2022-09-19T09:00:53.730Z"
   },
   {
    "duration": 13,
    "start_time": "2022-09-19T09:00:53.785Z"
   },
   {
    "duration": 19,
    "start_time": "2022-09-19T09:00:53.799Z"
   },
   {
    "duration": 17,
    "start_time": "2022-09-19T09:00:53.820Z"
   },
   {
    "duration": 9,
    "start_time": "2022-09-19T09:00:53.838Z"
   },
   {
    "duration": 24,
    "start_time": "2022-09-19T09:00:53.848Z"
   },
   {
    "duration": 52,
    "start_time": "2022-09-19T09:00:53.873Z"
   },
   {
    "duration": 16,
    "start_time": "2022-09-19T09:00:53.927Z"
   },
   {
    "duration": 1555,
    "start_time": "2022-09-19T09:00:53.945Z"
   },
   {
    "duration": 1035,
    "start_time": "2022-09-19T09:00:55.501Z"
   },
   {
    "duration": 8,
    "start_time": "2022-09-19T09:01:11.021Z"
   },
   {
    "duration": 22,
    "start_time": "2022-09-19T09:01:25.104Z"
   },
   {
    "duration": 18,
    "start_time": "2022-09-19T09:01:55.407Z"
   },
   {
    "duration": 4,
    "start_time": "2022-09-19T09:02:07.554Z"
   },
   {
    "duration": 51,
    "start_time": "2022-09-19T09:02:07.560Z"
   },
   {
    "duration": 15,
    "start_time": "2022-09-19T09:02:07.613Z"
   },
   {
    "duration": 49,
    "start_time": "2022-09-19T09:02:07.630Z"
   },
   {
    "duration": 31,
    "start_time": "2022-09-19T09:02:07.681Z"
   },
   {
    "duration": 23,
    "start_time": "2022-09-19T09:02:07.713Z"
   },
   {
    "duration": 21,
    "start_time": "2022-09-19T09:02:07.737Z"
   },
   {
    "duration": 62,
    "start_time": "2022-09-19T09:02:07.759Z"
   },
   {
    "duration": 17,
    "start_time": "2022-09-19T09:02:07.823Z"
   },
   {
    "duration": 1557,
    "start_time": "2022-09-19T09:02:07.842Z"
   },
   {
    "duration": 1121,
    "start_time": "2022-09-19T09:02:09.401Z"
   },
   {
    "duration": 7,
    "start_time": "2022-09-19T09:02:10.525Z"
   },
   {
    "duration": 14,
    "start_time": "2022-09-19T09:02:30.414Z"
   },
   {
    "duration": 5,
    "start_time": "2022-09-19T09:02:39.912Z"
   },
   {
    "duration": 45,
    "start_time": "2022-09-19T09:02:39.919Z"
   },
   {
    "duration": 15,
    "start_time": "2022-09-19T09:02:39.966Z"
   },
   {
    "duration": 16,
    "start_time": "2022-09-19T09:02:39.983Z"
   },
   {
    "duration": 16,
    "start_time": "2022-09-19T09:02:40.001Z"
   },
   {
    "duration": 5,
    "start_time": "2022-09-19T09:02:40.019Z"
   },
   {
    "duration": 8,
    "start_time": "2022-09-19T09:02:40.026Z"
   },
   {
    "duration": 190,
    "start_time": "2022-09-19T09:02:40.036Z"
   },
   {
    "duration": 20,
    "start_time": "2022-09-19T09:02:40.228Z"
   },
   {
    "duration": 1487,
    "start_time": "2022-09-19T09:02:40.250Z"
   },
   {
    "duration": 1155,
    "start_time": "2022-09-19T09:02:41.739Z"
   },
   {
    "duration": 7,
    "start_time": "2022-09-19T09:02:42.896Z"
   },
   {
    "duration": 18,
    "start_time": "2022-09-19T09:02:42.904Z"
   },
   {
    "duration": 12,
    "start_time": "2022-09-19T09:02:42.924Z"
   },
   {
    "duration": 22,
    "start_time": "2022-09-19T09:02:42.937Z"
   },
   {
    "duration": 35,
    "start_time": "2022-09-19T09:02:42.961Z"
   },
   {
    "duration": 8,
    "start_time": "2022-09-19T09:02:42.998Z"
   },
   {
    "duration": 44,
    "start_time": "2022-09-19T09:02:43.008Z"
   },
   {
    "duration": 129,
    "start_time": "2022-09-19T09:02:43.054Z"
   },
   {
    "duration": 303,
    "start_time": "2022-09-19T09:02:43.188Z"
   },
   {
    "duration": 2927,
    "start_time": "2022-09-19T09:02:43.493Z"
   },
   {
    "duration": 33390,
    "start_time": "2022-09-19T09:02:46.421Z"
   },
   {
    "duration": 19176,
    "start_time": "2022-09-19T09:03:19.813Z"
   },
   {
    "duration": 301,
    "start_time": "2022-09-19T09:03:38.990Z"
   },
   {
    "duration": 100,
    "start_time": "2022-09-19T09:03:39.293Z"
   },
   {
    "duration": 101,
    "start_time": "2022-09-19T09:03:39.395Z"
   },
   {
    "duration": 3770,
    "start_time": "2022-09-19T09:03:39.498Z"
   },
   {
    "duration": 46182,
    "start_time": "2022-09-19T09:03:43.270Z"
   },
   {
    "duration": 25001,
    "start_time": "2022-09-19T09:04:29.456Z"
   },
   {
    "duration": 12,
    "start_time": "2022-09-19T09:04:54.459Z"
   },
   {
    "duration": 118,
    "start_time": "2022-09-19T09:04:54.473Z"
   },
   {
    "duration": 18047,
    "start_time": "2022-09-19T09:04:54.593Z"
   },
   {
    "duration": 29798,
    "start_time": "2022-09-19T09:05:12.642Z"
   },
   {
    "duration": 2457,
    "start_time": "2022-09-19T09:05:42.442Z"
   },
   {
    "duration": 890,
    "start_time": "2022-09-19T09:05:44.900Z"
   },
   {
    "duration": 185,
    "start_time": "2022-09-19T09:05:45.792Z"
   },
   {
    "duration": 19,
    "start_time": "2022-09-19T09:44:26.834Z"
   },
   {
    "duration": 3,
    "start_time": "2022-09-19T09:45:14.700Z"
   },
   {
    "duration": 13,
    "start_time": "2022-09-19T09:45:17.332Z"
   },
   {
    "duration": 13,
    "start_time": "2022-09-19T09:45:25.484Z"
   },
   {
    "duration": 14,
    "start_time": "2022-09-19T09:46:54.657Z"
   },
   {
    "duration": 30,
    "start_time": "2022-09-19T09:50:57.004Z"
   },
   {
    "duration": 17,
    "start_time": "2022-09-19T09:51:56.792Z"
   },
   {
    "duration": 24,
    "start_time": "2022-09-19T09:52:03.950Z"
   },
   {
    "duration": 9,
    "start_time": "2022-09-19T09:52:58.524Z"
   },
   {
    "duration": 27,
    "start_time": "2022-09-19T09:53:03.330Z"
   },
   {
    "duration": 109,
    "start_time": "2022-09-19T09:54:56.287Z"
   },
   {
    "duration": 581,
    "start_time": "2022-09-19T10:56:22.072Z"
   },
   {
    "duration": 429,
    "start_time": "2022-09-19T10:57:05.306Z"
   },
   {
    "duration": 85,
    "start_time": "2022-09-19T10:57:22.224Z"
   },
   {
    "duration": 597,
    "start_time": "2022-09-19T10:57:28.507Z"
   },
   {
    "duration": 437,
    "start_time": "2022-09-19T10:57:39.430Z"
   },
   {
    "duration": 12928,
    "start_time": "2022-09-19T10:58:07.409Z"
   },
   {
    "duration": 391,
    "start_time": "2022-09-19T11:06:31.013Z"
   },
   {
    "duration": 382,
    "start_time": "2022-09-19T11:07:13.028Z"
   },
   {
    "duration": 5,
    "start_time": "2022-09-19T11:07:56.421Z"
   },
   {
    "duration": 40,
    "start_time": "2022-09-19T11:07:56.428Z"
   },
   {
    "duration": 15,
    "start_time": "2022-09-19T11:07:56.470Z"
   },
   {
    "duration": 17,
    "start_time": "2022-09-19T11:07:56.487Z"
   },
   {
    "duration": 17,
    "start_time": "2022-09-19T11:07:56.506Z"
   },
   {
    "duration": 6,
    "start_time": "2022-09-19T11:07:56.526Z"
   },
   {
    "duration": 11,
    "start_time": "2022-09-19T11:07:56.534Z"
   },
   {
    "duration": 71,
    "start_time": "2022-09-19T11:07:56.547Z"
   },
   {
    "duration": 24,
    "start_time": "2022-09-19T11:07:56.620Z"
   },
   {
    "duration": 1774,
    "start_time": "2022-09-19T11:07:56.646Z"
   },
   {
    "duration": 1160,
    "start_time": "2022-09-19T11:07:58.421Z"
   },
   {
    "duration": 9,
    "start_time": "2022-09-19T11:07:59.588Z"
   },
   {
    "duration": 6,
    "start_time": "2022-09-19T11:07:59.600Z"
   },
   {
    "duration": 18,
    "start_time": "2022-09-19T11:07:59.607Z"
   },
   {
    "duration": 14,
    "start_time": "2022-09-19T11:07:59.626Z"
   },
   {
    "duration": 5,
    "start_time": "2022-09-19T11:07:59.642Z"
   },
   {
    "duration": 57,
    "start_time": "2022-09-19T11:07:59.649Z"
   },
   {
    "duration": 17,
    "start_time": "2022-09-19T11:07:59.708Z"
   },
   {
    "duration": 20,
    "start_time": "2022-09-19T11:07:59.727Z"
   },
   {
    "duration": 51,
    "start_time": "2022-09-19T11:07:59.749Z"
   },
   {
    "duration": 8,
    "start_time": "2022-09-19T11:07:59.803Z"
   },
   {
    "duration": 26,
    "start_time": "2022-09-19T11:07:59.813Z"
   },
   {
    "duration": 148,
    "start_time": "2022-09-19T11:07:59.841Z"
   },
   {
    "duration": 411,
    "start_time": "2022-09-19T11:07:59.991Z"
   },
   {
    "duration": 0,
    "start_time": "2022-09-19T11:08:00.404Z"
   },
   {
    "duration": 0,
    "start_time": "2022-09-19T11:08:00.404Z"
   },
   {
    "duration": 0,
    "start_time": "2022-09-19T11:08:00.405Z"
   },
   {
    "duration": 0,
    "start_time": "2022-09-19T11:08:00.406Z"
   },
   {
    "duration": 0,
    "start_time": "2022-09-19T11:08:00.406Z"
   },
   {
    "duration": 0,
    "start_time": "2022-09-19T11:08:00.407Z"
   },
   {
    "duration": 0,
    "start_time": "2022-09-19T11:08:00.489Z"
   },
   {
    "duration": 0,
    "start_time": "2022-09-19T11:08:00.490Z"
   },
   {
    "duration": 0,
    "start_time": "2022-09-19T11:08:00.491Z"
   },
   {
    "duration": 0,
    "start_time": "2022-09-19T11:08:00.492Z"
   },
   {
    "duration": 0,
    "start_time": "2022-09-19T11:08:00.492Z"
   },
   {
    "duration": 0,
    "start_time": "2022-09-19T11:08:00.493Z"
   },
   {
    "duration": 0,
    "start_time": "2022-09-19T11:08:00.494Z"
   },
   {
    "duration": 0,
    "start_time": "2022-09-19T11:08:00.497Z"
   },
   {
    "duration": 0,
    "start_time": "2022-09-19T11:08:00.499Z"
   },
   {
    "duration": 0,
    "start_time": "2022-09-19T11:08:00.501Z"
   },
   {
    "duration": 171,
    "start_time": "2022-09-19T11:16:48.523Z"
   },
   {
    "duration": 4,
    "start_time": "2022-09-19T11:16:53.681Z"
   },
   {
    "duration": 45,
    "start_time": "2022-09-19T11:16:53.687Z"
   },
   {
    "duration": 14,
    "start_time": "2022-09-19T11:16:53.734Z"
   },
   {
    "duration": 16,
    "start_time": "2022-09-19T11:16:53.750Z"
   },
   {
    "duration": 14,
    "start_time": "2022-09-19T11:16:53.768Z"
   },
   {
    "duration": 5,
    "start_time": "2022-09-19T11:16:53.783Z"
   },
   {
    "duration": 5,
    "start_time": "2022-09-19T11:16:53.789Z"
   },
   {
    "duration": 44,
    "start_time": "2022-09-19T11:16:53.796Z"
   },
   {
    "duration": 17,
    "start_time": "2022-09-19T11:16:53.841Z"
   },
   {
    "duration": 1472,
    "start_time": "2022-09-19T11:16:53.860Z"
   },
   {
    "duration": 1241,
    "start_time": "2022-09-19T11:16:55.334Z"
   },
   {
    "duration": 12,
    "start_time": "2022-09-19T11:16:56.577Z"
   },
   {
    "duration": 3,
    "start_time": "2022-09-19T11:16:56.591Z"
   },
   {
    "duration": 16,
    "start_time": "2022-09-19T11:16:56.596Z"
   },
   {
    "duration": 13,
    "start_time": "2022-09-19T11:16:56.613Z"
   },
   {
    "duration": 7,
    "start_time": "2022-09-19T11:16:56.628Z"
   },
   {
    "duration": 15,
    "start_time": "2022-09-19T11:16:56.636Z"
   },
   {
    "duration": 37,
    "start_time": "2022-09-19T11:16:56.653Z"
   },
   {
    "duration": 17,
    "start_time": "2022-09-19T11:16:56.692Z"
   },
   {
    "duration": 17,
    "start_time": "2022-09-19T11:16:56.710Z"
   },
   {
    "duration": 9,
    "start_time": "2022-09-19T11:16:56.729Z"
   },
   {
    "duration": 59,
    "start_time": "2022-09-19T11:16:56.739Z"
   },
   {
    "duration": 128,
    "start_time": "2022-09-19T11:16:56.799Z"
   },
   {
    "duration": 262,
    "start_time": "2022-09-19T11:16:56.929Z"
   },
   {
    "duration": 543,
    "start_time": "2022-09-19T11:16:57.193Z"
   },
   {
    "duration": 13736,
    "start_time": "2022-09-19T11:16:57.738Z"
   },
   {
    "duration": 19956,
    "start_time": "2022-09-19T11:17:11.475Z"
   },
   {
    "duration": 257,
    "start_time": "2022-09-19T11:17:31.433Z"
   },
   {
    "duration": 104,
    "start_time": "2022-09-19T11:17:31.695Z"
   },
   {
    "duration": 96,
    "start_time": "2022-09-19T11:17:31.801Z"
   },
   {
    "duration": 3771,
    "start_time": "2022-09-19T11:17:31.899Z"
   },
   {
    "duration": 48245,
    "start_time": "2022-09-19T11:17:35.672Z"
   },
   {
    "duration": 27081,
    "start_time": "2022-09-19T11:18:23.918Z"
   },
   {
    "duration": 12,
    "start_time": "2022-09-19T11:18:51.001Z"
   },
   {
    "duration": 278,
    "start_time": "2022-09-19T11:18:51.016Z"
   },
   {
    "duration": 19085,
    "start_time": "2022-09-19T11:18:51.298Z"
   },
   {
    "duration": 31314,
    "start_time": "2022-09-19T11:19:10.385Z"
   },
   {
    "duration": 2620,
    "start_time": "2022-09-19T11:19:41.701Z"
   },
   {
    "duration": 921,
    "start_time": "2022-09-19T11:19:44.323Z"
   },
   {
    "duration": 229,
    "start_time": "2022-09-19T11:19:45.245Z"
   },
   {
    "duration": 5304,
    "start_time": "2022-09-19T11:21:48.622Z"
   },
   {
    "duration": 2924,
    "start_time": "2022-09-19T11:22:06.130Z"
   },
   {
    "duration": 4452,
    "start_time": "2022-09-19T11:22:40.180Z"
   },
   {
    "duration": 2051,
    "start_time": "2022-09-19T11:23:25.317Z"
   },
   {
    "duration": 978,
    "start_time": "2022-09-19T11:23:43.036Z"
   },
   {
    "duration": 5,
    "start_time": "2022-09-19T11:31:16.336Z"
   },
   {
    "duration": 42,
    "start_time": "2022-09-19T11:31:16.343Z"
   },
   {
    "duration": 14,
    "start_time": "2022-09-19T11:31:16.388Z"
   },
   {
    "duration": 18,
    "start_time": "2022-09-19T11:31:16.404Z"
   },
   {
    "duration": 16,
    "start_time": "2022-09-19T11:31:16.425Z"
   },
   {
    "duration": 6,
    "start_time": "2022-09-19T11:31:16.443Z"
   },
   {
    "duration": 6,
    "start_time": "2022-09-19T11:31:16.450Z"
   },
   {
    "duration": 65,
    "start_time": "2022-09-19T11:31:16.457Z"
   },
   {
    "duration": 15,
    "start_time": "2022-09-19T11:31:16.524Z"
   },
   {
    "duration": 1452,
    "start_time": "2022-09-19T11:31:16.541Z"
   },
   {
    "duration": 1081,
    "start_time": "2022-09-19T11:31:17.996Z"
   },
   {
    "duration": 12,
    "start_time": "2022-09-19T11:31:19.079Z"
   },
   {
    "duration": 5,
    "start_time": "2022-09-19T11:31:19.093Z"
   },
   {
    "duration": 13,
    "start_time": "2022-09-19T11:31:19.099Z"
   },
   {
    "duration": 11,
    "start_time": "2022-09-19T11:31:19.114Z"
   },
   {
    "duration": 4,
    "start_time": "2022-09-19T11:31:19.126Z"
   },
   {
    "duration": 14,
    "start_time": "2022-09-19T11:31:19.132Z"
   },
   {
    "duration": 43,
    "start_time": "2022-09-19T11:31:19.147Z"
   },
   {
    "duration": 16,
    "start_time": "2022-09-19T11:31:19.192Z"
   },
   {
    "duration": 16,
    "start_time": "2022-09-19T11:31:19.209Z"
   },
   {
    "duration": 39,
    "start_time": "2022-09-19T11:31:19.227Z"
   },
   {
    "duration": 28,
    "start_time": "2022-09-19T11:31:19.268Z"
   },
   {
    "duration": 111,
    "start_time": "2022-09-19T11:31:19.298Z"
   },
   {
    "duration": 281,
    "start_time": "2022-09-19T11:31:19.411Z"
   },
   {
    "duration": 539,
    "start_time": "2022-09-19T11:31:19.693Z"
   },
   {
    "duration": 13300,
    "start_time": "2022-09-19T11:31:20.234Z"
   },
   {
    "duration": 968,
    "start_time": "2022-09-19T11:31:33.536Z"
   },
   {
    "duration": 294,
    "start_time": "2022-09-19T11:31:34.505Z"
   },
   {
    "duration": 101,
    "start_time": "2022-09-19T11:31:34.894Z"
   },
   {
    "duration": 194,
    "start_time": "2022-09-19T11:31:34.996Z"
   },
   {
    "duration": 3640,
    "start_time": "2022-09-19T11:31:35.193Z"
   },
   {
    "duration": 46378,
    "start_time": "2022-09-19T11:31:38.835Z"
   },
   {
    "duration": 25928,
    "start_time": "2022-09-19T11:32:25.216Z"
   },
   {
    "duration": 10,
    "start_time": "2022-09-19T11:32:51.145Z"
   },
   {
    "duration": 5,
    "start_time": "2022-09-19T11:39:41.772Z"
   },
   {
    "duration": 55,
    "start_time": "2022-09-19T11:39:41.779Z"
   },
   {
    "duration": 20,
    "start_time": "2022-09-19T11:39:41.837Z"
   },
   {
    "duration": 22,
    "start_time": "2022-09-19T11:39:41.859Z"
   },
   {
    "duration": 22,
    "start_time": "2022-09-19T11:39:41.883Z"
   },
   {
    "duration": 16,
    "start_time": "2022-09-19T11:39:41.906Z"
   },
   {
    "duration": 16,
    "start_time": "2022-09-19T11:39:41.923Z"
   },
   {
    "duration": 54,
    "start_time": "2022-09-19T11:39:41.941Z"
   },
   {
    "duration": 21,
    "start_time": "2022-09-19T11:39:41.997Z"
   },
   {
    "duration": 1572,
    "start_time": "2022-09-19T11:39:42.020Z"
   },
   {
    "duration": 1014,
    "start_time": "2022-09-19T11:39:43.594Z"
   },
   {
    "duration": 8,
    "start_time": "2022-09-19T11:39:44.610Z"
   },
   {
    "duration": 6,
    "start_time": "2022-09-19T11:39:44.620Z"
   },
   {
    "duration": 13,
    "start_time": "2022-09-19T11:39:44.628Z"
   },
   {
    "duration": 11,
    "start_time": "2022-09-19T11:39:44.643Z"
   },
   {
    "duration": 5,
    "start_time": "2022-09-19T11:39:44.655Z"
   },
   {
    "duration": 38,
    "start_time": "2022-09-19T11:39:44.661Z"
   },
   {
    "duration": 16,
    "start_time": "2022-09-19T11:39:44.701Z"
   },
   {
    "duration": 16,
    "start_time": "2022-09-19T11:39:44.719Z"
   },
   {
    "duration": 16,
    "start_time": "2022-09-19T11:39:44.737Z"
   },
   {
    "duration": 34,
    "start_time": "2022-09-19T11:39:44.755Z"
   },
   {
    "duration": 26,
    "start_time": "2022-09-19T11:39:44.791Z"
   },
   {
    "duration": 121,
    "start_time": "2022-09-19T11:39:44.819Z"
   },
   {
    "duration": 450,
    "start_time": "2022-09-19T11:39:44.941Z"
   },
   {
    "duration": 530,
    "start_time": "2022-09-19T11:39:45.394Z"
   },
   {
    "duration": 12872,
    "start_time": "2022-09-19T11:39:45.926Z"
   },
   {
    "duration": 945,
    "start_time": "2022-09-19T11:39:58.799Z"
   },
   {
    "duration": 345,
    "start_time": "2022-09-19T11:39:59.746Z"
   },
   {
    "duration": 102,
    "start_time": "2022-09-19T11:40:00.096Z"
   },
   {
    "duration": 191,
    "start_time": "2022-09-19T11:40:00.199Z"
   },
   {
    "duration": 3631,
    "start_time": "2022-09-19T11:40:00.392Z"
   },
   {
    "duration": 45854,
    "start_time": "2022-09-19T11:40:04.025Z"
   },
   {
    "duration": 25636,
    "start_time": "2022-09-19T11:40:49.881Z"
   },
   {
    "duration": 11,
    "start_time": "2022-09-19T11:41:15.518Z"
   },
   {
    "duration": 159,
    "start_time": "2022-09-19T11:41:15.530Z"
   },
   {
    "duration": 13565,
    "start_time": "2022-09-19T11:41:15.692Z"
   },
   {
    "duration": 19376,
    "start_time": "2022-09-19T11:41:29.259Z"
   },
   {
    "duration": 1464,
    "start_time": "2022-09-19T11:41:48.637Z"
   },
   {
    "duration": 909,
    "start_time": "2022-09-19T11:41:50.103Z"
   },
   {
    "duration": 202,
    "start_time": "2022-09-19T11:41:51.014Z"
   },
   {
    "duration": 5,
    "start_time": "2022-09-19T11:46:32.173Z"
   },
   {
    "duration": 42,
    "start_time": "2022-09-19T11:46:32.180Z"
   },
   {
    "duration": 14,
    "start_time": "2022-09-19T11:46:32.224Z"
   },
   {
    "duration": 21,
    "start_time": "2022-09-19T11:46:32.240Z"
   },
   {
    "duration": 14,
    "start_time": "2022-09-19T11:46:32.264Z"
   },
   {
    "duration": 4,
    "start_time": "2022-09-19T11:46:32.288Z"
   },
   {
    "duration": 10,
    "start_time": "2022-09-19T11:46:32.294Z"
   },
   {
    "duration": 49,
    "start_time": "2022-09-19T11:46:32.305Z"
   },
   {
    "duration": 42,
    "start_time": "2022-09-19T11:46:32.356Z"
   },
   {
    "duration": 1536,
    "start_time": "2022-09-19T11:46:32.400Z"
   },
   {
    "duration": 1219,
    "start_time": "2022-09-19T11:46:33.939Z"
   },
   {
    "duration": 8,
    "start_time": "2022-09-19T11:46:35.160Z"
   },
   {
    "duration": 20,
    "start_time": "2022-09-19T11:46:35.169Z"
   },
   {
    "duration": 13,
    "start_time": "2022-09-19T11:46:35.191Z"
   },
   {
    "duration": 14,
    "start_time": "2022-09-19T11:46:35.206Z"
   },
   {
    "duration": 5,
    "start_time": "2022-09-19T11:46:35.222Z"
   },
   {
    "duration": 16,
    "start_time": "2022-09-19T11:46:35.229Z"
   },
   {
    "duration": 53,
    "start_time": "2022-09-19T11:46:35.247Z"
   },
   {
    "duration": 21,
    "start_time": "2022-09-19T11:46:35.302Z"
   },
   {
    "duration": 23,
    "start_time": "2022-09-19T11:46:35.325Z"
   },
   {
    "duration": 11,
    "start_time": "2022-09-19T11:46:35.350Z"
   },
   {
    "duration": 62,
    "start_time": "2022-09-19T11:46:35.363Z"
   },
   {
    "duration": 140,
    "start_time": "2022-09-19T11:46:35.427Z"
   },
   {
    "duration": 321,
    "start_time": "2022-09-19T11:46:35.569Z"
   },
   {
    "duration": 545,
    "start_time": "2022-09-19T11:46:35.892Z"
   },
   {
    "duration": 13491,
    "start_time": "2022-09-19T11:46:36.439Z"
   },
   {
    "duration": 1049,
    "start_time": "2022-09-19T11:46:49.932Z"
   },
   {
    "duration": 215,
    "start_time": "2022-09-19T11:46:50.982Z"
   },
   {
    "duration": 100,
    "start_time": "2022-09-19T11:46:51.201Z"
   },
   {
    "duration": 199,
    "start_time": "2022-09-19T11:46:51.303Z"
   },
   {
    "duration": 721,
    "start_time": "2022-09-19T11:46:51.591Z"
   },
   {
    "duration": 18695,
    "start_time": "2022-09-19T11:46:52.313Z"
   },
   {
    "duration": 1373,
    "start_time": "2022-09-19T11:47:11.010Z"
   },
   {
    "duration": 16,
    "start_time": "2022-09-19T11:47:12.385Z"
   },
   {
    "duration": 95,
    "start_time": "2022-09-19T11:47:12.403Z"
   },
   {
    "duration": 692,
    "start_time": "2022-09-19T11:47:12.591Z"
   },
   {
    "duration": 5596,
    "start_time": "2022-09-19T11:47:13.285Z"
   },
   {
    "duration": 195,
    "start_time": "2022-09-19T11:47:18.883Z"
   },
   {
    "duration": 890,
    "start_time": "2022-09-19T11:47:19.080Z"
   },
   {
    "duration": 202,
    "start_time": "2022-09-19T11:47:19.972Z"
   },
   {
    "duration": 1863,
    "start_time": "2022-09-19T11:52:06.930Z"
   },
   {
    "duration": 5,
    "start_time": "2022-09-19T12:14:54.658Z"
   },
   {
    "duration": 53,
    "start_time": "2022-09-19T12:14:54.665Z"
   },
   {
    "duration": 15,
    "start_time": "2022-09-19T12:14:54.719Z"
   },
   {
    "duration": 47,
    "start_time": "2022-09-19T12:14:54.736Z"
   },
   {
    "duration": 38,
    "start_time": "2022-09-19T12:14:54.784Z"
   },
   {
    "duration": 4,
    "start_time": "2022-09-19T12:14:54.824Z"
   },
   {
    "duration": 13,
    "start_time": "2022-09-19T12:14:54.830Z"
   },
   {
    "duration": 59,
    "start_time": "2022-09-19T12:14:54.845Z"
   },
   {
    "duration": 19,
    "start_time": "2022-09-19T12:14:54.907Z"
   },
   {
    "duration": 1788,
    "start_time": "2022-09-19T12:14:54.928Z"
   },
   {
    "duration": 1121,
    "start_time": "2022-09-19T12:14:56.718Z"
   },
   {
    "duration": 8,
    "start_time": "2022-09-19T12:14:57.841Z"
   },
   {
    "duration": 16,
    "start_time": "2022-09-19T12:14:57.850Z"
   },
   {
    "duration": 18,
    "start_time": "2022-09-19T12:14:57.867Z"
   },
   {
    "duration": 16,
    "start_time": "2022-09-19T12:14:57.889Z"
   },
   {
    "duration": 12,
    "start_time": "2022-09-19T12:14:57.907Z"
   },
   {
    "duration": 16,
    "start_time": "2022-09-19T12:14:57.920Z"
   },
   {
    "duration": 21,
    "start_time": "2022-09-19T12:14:57.937Z"
   },
   {
    "duration": 35,
    "start_time": "2022-09-19T12:14:57.960Z"
   },
   {
    "duration": 20,
    "start_time": "2022-09-19T12:14:57.998Z"
   },
   {
    "duration": 8,
    "start_time": "2022-09-19T12:14:58.019Z"
   },
   {
    "duration": 24,
    "start_time": "2022-09-19T12:14:58.029Z"
   },
   {
    "duration": 151,
    "start_time": "2022-09-19T12:14:58.055Z"
   },
   {
    "duration": 1194,
    "start_time": "2022-09-19T12:14:58.212Z"
   },
   {
    "duration": 551,
    "start_time": "2022-09-19T12:14:59.408Z"
   },
   {
    "duration": 14153,
    "start_time": "2022-09-19T12:14:59.961Z"
   },
   {
    "duration": 1139,
    "start_time": "2022-09-19T12:15:14.116Z"
   },
   {
    "duration": 451,
    "start_time": "2022-09-19T12:15:15.257Z"
   },
   {
    "duration": 182,
    "start_time": "2022-09-19T12:15:15.710Z"
   },
   {
    "duration": 98,
    "start_time": "2022-09-19T12:15:15.894Z"
   },
   {
    "duration": 678,
    "start_time": "2022-09-19T12:15:15.994Z"
   },
   {
    "duration": 19338,
    "start_time": "2022-09-19T12:15:16.673Z"
   },
   {
    "duration": 1363,
    "start_time": "2022-09-19T12:15:36.014Z"
   },
   {
    "duration": 30,
    "start_time": "2022-09-19T12:15:37.379Z"
   },
   {
    "duration": 178,
    "start_time": "2022-09-19T12:15:37.411Z"
   },
   {
    "duration": 743,
    "start_time": "2022-09-19T12:15:37.596Z"
   },
   {
    "duration": 6140,
    "start_time": "2022-09-19T12:15:38.340Z"
   },
   {
    "duration": 217,
    "start_time": "2022-09-19T12:15:44.482Z"
   },
   {
    "duration": 2032,
    "start_time": "2022-09-19T12:15:44.702Z"
   },
   {
    "duration": 199,
    "start_time": "2022-09-19T12:15:46.736Z"
   },
   {
    "duration": 121,
    "start_time": "2022-09-19T12:15:46.937Z"
   },
   {
    "duration": 3299,
    "start_time": "2022-09-19T12:41:58.703Z"
   },
   {
    "duration": 156,
    "start_time": "2022-09-19T12:42:02.004Z"
   },
   {
    "duration": 26,
    "start_time": "2022-09-19T12:42:02.163Z"
   },
   {
    "duration": 30,
    "start_time": "2022-09-19T12:42:02.191Z"
   },
   {
    "duration": 32,
    "start_time": "2022-09-19T12:42:02.224Z"
   },
   {
    "duration": 9,
    "start_time": "2022-09-19T12:42:02.258Z"
   },
   {
    "duration": 17,
    "start_time": "2022-09-19T12:42:02.269Z"
   },
   {
    "duration": 65,
    "start_time": "2022-09-19T12:42:02.288Z"
   },
   {
    "duration": 19,
    "start_time": "2022-09-19T12:42:02.355Z"
   },
   {
    "duration": 1080,
    "start_time": "2022-09-19T12:42:02.376Z"
   },
   {
    "duration": 0,
    "start_time": "2022-09-19T12:42:03.460Z"
   },
   {
    "duration": 0,
    "start_time": "2022-09-19T12:42:03.462Z"
   },
   {
    "duration": 0,
    "start_time": "2022-09-19T12:42:03.463Z"
   },
   {
    "duration": 0,
    "start_time": "2022-09-19T12:42:03.465Z"
   },
   {
    "duration": 0,
    "start_time": "2022-09-19T12:42:03.467Z"
   },
   {
    "duration": 0,
    "start_time": "2022-09-19T12:42:03.468Z"
   },
   {
    "duration": 0,
    "start_time": "2022-09-19T12:42:03.469Z"
   },
   {
    "duration": 0,
    "start_time": "2022-09-19T12:42:03.470Z"
   },
   {
    "duration": 0,
    "start_time": "2022-09-19T12:42:03.496Z"
   },
   {
    "duration": 0,
    "start_time": "2022-09-19T12:42:03.497Z"
   },
   {
    "duration": 0,
    "start_time": "2022-09-19T12:42:03.498Z"
   },
   {
    "duration": 0,
    "start_time": "2022-09-19T12:42:03.499Z"
   },
   {
    "duration": 0,
    "start_time": "2022-09-19T12:42:03.501Z"
   },
   {
    "duration": 0,
    "start_time": "2022-09-19T12:42:03.503Z"
   },
   {
    "duration": 0,
    "start_time": "2022-09-19T12:42:03.611Z"
   },
   {
    "duration": 0,
    "start_time": "2022-09-19T12:42:03.612Z"
   },
   {
    "duration": 0,
    "start_time": "2022-09-19T12:42:03.614Z"
   },
   {
    "duration": 0,
    "start_time": "2022-09-19T12:42:03.615Z"
   },
   {
    "duration": 0,
    "start_time": "2022-09-19T12:42:03.616Z"
   },
   {
    "duration": 0,
    "start_time": "2022-09-19T12:42:03.617Z"
   },
   {
    "duration": 0,
    "start_time": "2022-09-19T12:42:03.619Z"
   },
   {
    "duration": 0,
    "start_time": "2022-09-19T12:42:03.620Z"
   },
   {
    "duration": 0,
    "start_time": "2022-09-19T12:42:03.621Z"
   },
   {
    "duration": 0,
    "start_time": "2022-09-19T12:42:03.622Z"
   },
   {
    "duration": 0,
    "start_time": "2022-09-19T12:42:03.623Z"
   },
   {
    "duration": 0,
    "start_time": "2022-09-19T12:42:03.625Z"
   },
   {
    "duration": 0,
    "start_time": "2022-09-19T12:42:03.625Z"
   },
   {
    "duration": 0,
    "start_time": "2022-09-19T12:42:03.627Z"
   },
   {
    "duration": 0,
    "start_time": "2022-09-19T12:42:03.628Z"
   },
   {
    "duration": 0,
    "start_time": "2022-09-19T12:42:03.629Z"
   },
   {
    "duration": 7,
    "start_time": "2022-09-19T12:50:16.477Z"
   },
   {
    "duration": 69,
    "start_time": "2022-09-19T12:50:16.487Z"
   },
   {
    "duration": 27,
    "start_time": "2022-09-19T12:50:16.558Z"
   },
   {
    "duration": 59,
    "start_time": "2022-09-19T12:50:16.587Z"
   },
   {
    "duration": 16,
    "start_time": "2022-09-19T12:50:16.650Z"
   },
   {
    "duration": 6,
    "start_time": "2022-09-19T12:50:16.669Z"
   },
   {
    "duration": 12,
    "start_time": "2022-09-19T12:50:16.677Z"
   },
   {
    "duration": 62,
    "start_time": "2022-09-19T12:50:16.691Z"
   },
   {
    "duration": 21,
    "start_time": "2022-09-19T12:50:16.756Z"
   },
   {
    "duration": 1687,
    "start_time": "2022-09-19T12:50:16.779Z"
   },
   {
    "duration": 1234,
    "start_time": "2022-09-19T12:50:18.469Z"
   },
   {
    "duration": 9,
    "start_time": "2022-09-19T12:50:19.705Z"
   },
   {
    "duration": 6,
    "start_time": "2022-09-19T12:50:30.141Z"
   },
   {
    "duration": 5,
    "start_time": "2022-09-19T12:50:32.241Z"
   },
   {
    "duration": 7,
    "start_time": "2022-09-19T12:50:33.141Z"
   },
   {
    "duration": 16,
    "start_time": "2022-09-19T12:50:36.092Z"
   },
   {
    "duration": 1620,
    "start_time": "2022-09-19T13:32:29.919Z"
   },
   {
    "duration": 163,
    "start_time": "2022-09-19T13:32:31.540Z"
   },
   {
    "duration": 20,
    "start_time": "2022-09-19T13:32:31.704Z"
   },
   {
    "duration": 14,
    "start_time": "2022-09-19T13:32:31.733Z"
   },
   {
    "duration": 24,
    "start_time": "2022-09-19T13:32:31.749Z"
   },
   {
    "duration": 4,
    "start_time": "2022-09-19T13:32:31.775Z"
   },
   {
    "duration": 10,
    "start_time": "2022-09-19T13:32:31.780Z"
   },
   {
    "duration": 48,
    "start_time": "2022-09-19T13:32:31.791Z"
   },
   {
    "duration": 15,
    "start_time": "2022-09-19T13:32:31.842Z"
   },
   {
    "duration": 1479,
    "start_time": "2022-09-19T13:32:31.859Z"
   },
   {
    "duration": 1175,
    "start_time": "2022-09-19T13:32:33.340Z"
   },
   {
    "duration": 9,
    "start_time": "2022-09-19T13:32:34.517Z"
   },
   {
    "duration": 23,
    "start_time": "2022-09-19T13:32:34.527Z"
   },
   {
    "duration": 19,
    "start_time": "2022-09-19T13:32:34.552Z"
   },
   {
    "duration": 12,
    "start_time": "2022-09-19T13:32:34.573Z"
   },
   {
    "duration": 10,
    "start_time": "2022-09-19T13:32:34.586Z"
   },
   {
    "duration": 19,
    "start_time": "2022-09-19T13:32:34.597Z"
   },
   {
    "duration": 23,
    "start_time": "2022-09-19T13:32:34.617Z"
   },
   {
    "duration": 17,
    "start_time": "2022-09-19T13:32:34.641Z"
   },
   {
    "duration": 21,
    "start_time": "2022-09-19T13:32:34.659Z"
   },
   {
    "duration": 9,
    "start_time": "2022-09-19T13:32:34.681Z"
   },
   {
    "duration": 54,
    "start_time": "2022-09-19T13:32:34.691Z"
   },
   {
    "duration": 122,
    "start_time": "2022-09-19T13:32:34.747Z"
   },
   {
    "duration": 838,
    "start_time": "2022-09-19T13:32:34.871Z"
   },
   {
    "duration": 0,
    "start_time": "2022-09-19T13:32:35.724Z"
   },
   {
    "duration": 0,
    "start_time": "2022-09-19T13:32:35.725Z"
   },
   {
    "duration": 0,
    "start_time": "2022-09-19T13:32:35.725Z"
   },
   {
    "duration": 0,
    "start_time": "2022-09-19T13:32:35.726Z"
   },
   {
    "duration": 0,
    "start_time": "2022-09-19T13:32:35.726Z"
   },
   {
    "duration": 0,
    "start_time": "2022-09-19T13:32:35.728Z"
   },
   {
    "duration": 0,
    "start_time": "2022-09-19T13:32:35.729Z"
   },
   {
    "duration": 0,
    "start_time": "2022-09-19T13:32:35.729Z"
   },
   {
    "duration": 0,
    "start_time": "2022-09-19T13:32:35.730Z"
   },
   {
    "duration": 0,
    "start_time": "2022-09-19T13:32:35.731Z"
   },
   {
    "duration": 0,
    "start_time": "2022-09-19T13:32:35.733Z"
   },
   {
    "duration": 0,
    "start_time": "2022-09-19T13:32:35.734Z"
   },
   {
    "duration": 0,
    "start_time": "2022-09-19T13:32:35.735Z"
   },
   {
    "duration": 1,
    "start_time": "2022-09-19T13:32:35.735Z"
   },
   {
    "duration": 0,
    "start_time": "2022-09-19T13:32:35.737Z"
   },
   {
    "duration": 0,
    "start_time": "2022-09-19T13:32:35.738Z"
   },
   {
    "duration": 11,
    "start_time": "2022-09-19T13:33:07.337Z"
   },
   {
    "duration": 5,
    "start_time": "2022-09-19T13:33:20.597Z"
   },
   {
    "duration": 53,
    "start_time": "2022-09-19T13:33:20.604Z"
   },
   {
    "duration": 15,
    "start_time": "2022-09-19T13:33:20.659Z"
   },
   {
    "duration": 18,
    "start_time": "2022-09-19T13:33:20.676Z"
   },
   {
    "duration": 16,
    "start_time": "2022-09-19T13:33:20.697Z"
   },
   {
    "duration": 12,
    "start_time": "2022-09-19T13:33:20.721Z"
   },
   {
    "duration": 13,
    "start_time": "2022-09-19T13:33:20.735Z"
   },
   {
    "duration": 46,
    "start_time": "2022-09-19T13:33:20.750Z"
   },
   {
    "duration": 29,
    "start_time": "2022-09-19T13:33:20.798Z"
   },
   {
    "duration": 1654,
    "start_time": "2022-09-19T13:33:20.829Z"
   },
   {
    "duration": 1127,
    "start_time": "2022-09-19T13:33:22.485Z"
   },
   {
    "duration": 21,
    "start_time": "2022-09-19T13:33:23.614Z"
   },
   {
    "duration": 18,
    "start_time": "2022-09-19T13:33:23.644Z"
   },
   {
    "duration": 21,
    "start_time": "2022-09-19T13:33:23.664Z"
   },
   {
    "duration": 15,
    "start_time": "2022-09-19T13:33:23.687Z"
   },
   {
    "duration": 6,
    "start_time": "2022-09-19T13:33:23.704Z"
   },
   {
    "duration": 42,
    "start_time": "2022-09-19T13:33:23.712Z"
   },
   {
    "duration": 21,
    "start_time": "2022-09-19T13:33:23.756Z"
   },
   {
    "duration": 36,
    "start_time": "2022-09-19T13:33:23.779Z"
   },
   {
    "duration": 24,
    "start_time": "2022-09-19T13:33:23.816Z"
   },
   {
    "duration": 114,
    "start_time": "2022-09-19T13:33:23.842Z"
   },
   {
    "duration": 40,
    "start_time": "2022-09-19T13:33:23.958Z"
   },
   {
    "duration": 105,
    "start_time": "2022-09-19T13:33:24.000Z"
   },
   {
    "duration": 834,
    "start_time": "2022-09-19T13:33:24.107Z"
   },
   {
    "duration": 0,
    "start_time": "2022-09-19T13:33:24.946Z"
   },
   {
    "duration": 0,
    "start_time": "2022-09-19T13:33:25.021Z"
   },
   {
    "duration": 0,
    "start_time": "2022-09-19T13:33:25.026Z"
   },
   {
    "duration": 0,
    "start_time": "2022-09-19T13:33:25.029Z"
   },
   {
    "duration": 0,
    "start_time": "2022-09-19T13:33:25.030Z"
   },
   {
    "duration": 0,
    "start_time": "2022-09-19T13:33:25.032Z"
   },
   {
    "duration": 0,
    "start_time": "2022-09-19T13:33:25.034Z"
   },
   {
    "duration": 0,
    "start_time": "2022-09-19T13:33:25.035Z"
   },
   {
    "duration": 0,
    "start_time": "2022-09-19T13:33:25.037Z"
   },
   {
    "duration": 0,
    "start_time": "2022-09-19T13:33:25.038Z"
   },
   {
    "duration": 0,
    "start_time": "2022-09-19T13:33:25.040Z"
   },
   {
    "duration": 0,
    "start_time": "2022-09-19T13:33:25.041Z"
   },
   {
    "duration": 0,
    "start_time": "2022-09-19T13:33:25.043Z"
   },
   {
    "duration": 0,
    "start_time": "2022-09-19T13:33:25.045Z"
   },
   {
    "duration": 0,
    "start_time": "2022-09-19T13:33:25.047Z"
   },
   {
    "duration": 0,
    "start_time": "2022-09-19T13:33:25.048Z"
   },
   {
    "duration": 0,
    "start_time": "2022-09-19T13:33:25.049Z"
   },
   {
    "duration": 5,
    "start_time": "2022-09-19T13:34:06.074Z"
   },
   {
    "duration": 56,
    "start_time": "2022-09-19T13:34:06.082Z"
   },
   {
    "duration": 18,
    "start_time": "2022-09-19T13:34:06.140Z"
   },
   {
    "duration": 26,
    "start_time": "2022-09-19T13:34:06.160Z"
   },
   {
    "duration": 15,
    "start_time": "2022-09-19T13:34:06.188Z"
   },
   {
    "duration": 22,
    "start_time": "2022-09-19T13:34:06.205Z"
   },
   {
    "duration": 14,
    "start_time": "2022-09-19T13:34:06.230Z"
   },
   {
    "duration": 66,
    "start_time": "2022-09-19T13:34:06.246Z"
   },
   {
    "duration": 23,
    "start_time": "2022-09-19T13:34:06.315Z"
   },
   {
    "duration": 1378,
    "start_time": "2022-09-19T13:34:06.340Z"
   },
   {
    "duration": 1143,
    "start_time": "2022-09-19T13:34:07.719Z"
   },
   {
    "duration": 8,
    "start_time": "2022-09-19T13:34:08.864Z"
   },
   {
    "duration": 6,
    "start_time": "2022-09-19T13:34:08.873Z"
   },
   {
    "duration": 13,
    "start_time": "2022-09-19T13:34:08.881Z"
   },
   {
    "duration": 31,
    "start_time": "2022-09-19T13:34:08.895Z"
   },
   {
    "duration": 11,
    "start_time": "2022-09-19T13:34:08.931Z"
   },
   {
    "duration": 15,
    "start_time": "2022-09-19T13:34:08.943Z"
   },
   {
    "duration": 16,
    "start_time": "2022-09-19T13:34:08.959Z"
   },
   {
    "duration": 14,
    "start_time": "2022-09-19T13:34:08.977Z"
   },
   {
    "duration": 29,
    "start_time": "2022-09-19T13:34:08.993Z"
   },
   {
    "duration": 13,
    "start_time": "2022-09-19T13:34:09.024Z"
   },
   {
    "duration": 28,
    "start_time": "2022-09-19T13:34:09.038Z"
   },
   {
    "duration": 119,
    "start_time": "2022-09-19T13:34:09.067Z"
   },
   {
    "duration": 435,
    "start_time": "2022-09-19T13:34:09.188Z"
   },
   {
    "duration": 509,
    "start_time": "2022-09-19T13:34:09.627Z"
   },
   {
    "duration": 12905,
    "start_time": "2022-09-19T13:34:10.139Z"
   },
   {
    "duration": 973,
    "start_time": "2022-09-19T13:34:23.046Z"
   },
   {
    "duration": 411,
    "start_time": "2022-09-19T13:34:24.021Z"
   },
   {
    "duration": 87,
    "start_time": "2022-09-19T13:34:24.435Z"
   },
   {
    "duration": 99,
    "start_time": "2022-09-19T13:34:24.523Z"
   },
   {
    "duration": 597,
    "start_time": "2022-09-19T13:34:24.633Z"
   },
   {
    "duration": 17272,
    "start_time": "2022-09-19T13:34:25.233Z"
   },
   {
    "duration": 1369,
    "start_time": "2022-09-19T13:34:42.508Z"
   },
   {
    "duration": 11,
    "start_time": "2022-09-19T13:34:43.879Z"
   },
   {
    "duration": 16,
    "start_time": "2022-09-19T13:34:43.892Z"
   },
   {
    "duration": 130,
    "start_time": "2022-09-19T13:34:43.910Z"
   },
   {
    "duration": 691,
    "start_time": "2022-09-19T13:34:44.121Z"
   },
   {
    "duration": 7087,
    "start_time": "2022-09-19T13:34:44.813Z"
   },
   {
    "duration": 249,
    "start_time": "2022-09-19T13:34:51.902Z"
   },
   {
    "duration": 1817,
    "start_time": "2022-09-19T13:34:52.152Z"
   },
   {
    "duration": 188,
    "start_time": "2022-09-19T13:34:53.970Z"
   },
   {
    "duration": 595,
    "start_time": "2022-09-19T13:45:32.860Z"
   },
   {
    "duration": 4,
    "start_time": "2022-09-19T13:46:39.700Z"
   },
   {
    "duration": 72,
    "start_time": "2022-09-19T13:46:39.706Z"
   },
   {
    "duration": 13,
    "start_time": "2022-09-19T13:46:39.779Z"
   },
   {
    "duration": 16,
    "start_time": "2022-09-19T13:46:39.794Z"
   },
   {
    "duration": 21,
    "start_time": "2022-09-19T13:46:39.812Z"
   },
   {
    "duration": 29,
    "start_time": "2022-09-19T13:46:39.834Z"
   },
   {
    "duration": 8,
    "start_time": "2022-09-19T13:46:39.864Z"
   },
   {
    "duration": 40,
    "start_time": "2022-09-19T13:46:39.873Z"
   },
   {
    "duration": 26,
    "start_time": "2022-09-19T13:46:39.914Z"
   },
   {
    "duration": 1502,
    "start_time": "2022-09-19T13:46:39.946Z"
   },
   {
    "duration": 1094,
    "start_time": "2022-09-19T13:46:41.452Z"
   },
   {
    "duration": 7,
    "start_time": "2022-09-19T13:46:42.552Z"
   },
   {
    "duration": 7,
    "start_time": "2022-09-19T13:46:42.560Z"
   },
   {
    "duration": 12,
    "start_time": "2022-09-19T13:46:42.571Z"
   },
   {
    "duration": 12,
    "start_time": "2022-09-19T13:46:42.584Z"
   },
   {
    "duration": 4,
    "start_time": "2022-09-19T13:46:42.598Z"
   },
   {
    "duration": 28,
    "start_time": "2022-09-19T13:46:42.603Z"
   },
   {
    "duration": 45,
    "start_time": "2022-09-19T13:46:42.632Z"
   },
   {
    "duration": 16,
    "start_time": "2022-09-19T13:46:42.679Z"
   },
   {
    "duration": 18,
    "start_time": "2022-09-19T13:46:42.697Z"
   },
   {
    "duration": 13,
    "start_time": "2022-09-19T13:46:42.717Z"
   },
   {
    "duration": 49,
    "start_time": "2022-09-19T13:46:42.735Z"
   },
   {
    "duration": 131,
    "start_time": "2022-09-19T13:46:42.787Z"
   },
   {
    "duration": 925,
    "start_time": "2022-09-19T13:46:42.921Z"
   },
   {
    "duration": 441,
    "start_time": "2022-09-19T13:46:43.925Z"
   },
   {
    "duration": 14113,
    "start_time": "2022-09-19T13:46:44.367Z"
   },
   {
    "duration": 1008,
    "start_time": "2022-09-19T13:46:58.481Z"
   },
   {
    "duration": 534,
    "start_time": "2022-09-19T13:46:59.491Z"
   },
   {
    "duration": 19,
    "start_time": "2022-09-19T13:47:00.027Z"
   },
   {
    "duration": 180,
    "start_time": "2022-09-19T13:47:00.050Z"
   },
   {
    "duration": 638,
    "start_time": "2022-09-19T13:47:00.232Z"
   },
   {
    "duration": 18520,
    "start_time": "2022-09-19T13:47:00.871Z"
   },
   {
    "duration": 1405,
    "start_time": "2022-09-19T13:47:19.392Z"
   },
   {
    "duration": 12,
    "start_time": "2022-09-19T13:47:20.799Z"
   },
   {
    "duration": 20,
    "start_time": "2022-09-19T13:47:20.821Z"
   },
   {
    "duration": 92,
    "start_time": "2022-09-19T13:47:20.842Z"
   },
   {
    "duration": 882,
    "start_time": "2022-09-19T13:47:20.936Z"
   },
   {
    "duration": 6988,
    "start_time": "2022-09-19T13:47:21.823Z"
   },
   {
    "duration": 238,
    "start_time": "2022-09-19T13:47:28.812Z"
   },
   {
    "duration": 598,
    "start_time": "2022-09-19T13:47:29.052Z"
   },
   {
    "duration": 553,
    "start_time": "2022-09-19T13:47:29.654Z"
   },
   {
    "duration": 190,
    "start_time": "2022-09-19T13:47:30.208Z"
   },
   {
    "duration": 5,
    "start_time": "2022-09-19T13:48:52.283Z"
   },
   {
    "duration": 50,
    "start_time": "2022-09-19T13:48:52.290Z"
   },
   {
    "duration": 18,
    "start_time": "2022-09-19T13:48:52.342Z"
   },
   {
    "duration": 14,
    "start_time": "2022-09-19T13:48:52.362Z"
   },
   {
    "duration": 12,
    "start_time": "2022-09-19T13:48:52.377Z"
   },
   {
    "duration": 4,
    "start_time": "2022-09-19T13:48:52.391Z"
   },
   {
    "duration": 28,
    "start_time": "2022-09-19T13:48:52.396Z"
   },
   {
    "duration": 61,
    "start_time": "2022-09-19T13:48:52.427Z"
   },
   {
    "duration": 14,
    "start_time": "2022-09-19T13:48:52.490Z"
   },
   {
    "duration": 1394,
    "start_time": "2022-09-19T13:48:52.505Z"
   },
   {
    "duration": 1068,
    "start_time": "2022-09-19T13:48:53.901Z"
   },
   {
    "duration": 7,
    "start_time": "2022-09-19T13:48:54.970Z"
   },
   {
    "duration": 6,
    "start_time": "2022-09-19T13:48:54.979Z"
   },
   {
    "duration": 13,
    "start_time": "2022-09-19T13:48:54.986Z"
   },
   {
    "duration": 10,
    "start_time": "2022-09-19T13:48:55.000Z"
   },
   {
    "duration": 5,
    "start_time": "2022-09-19T13:48:55.025Z"
   },
   {
    "duration": 32,
    "start_time": "2022-09-19T13:48:55.031Z"
   },
   {
    "duration": 21,
    "start_time": "2022-09-19T13:48:55.065Z"
   },
   {
    "duration": 19,
    "start_time": "2022-09-19T13:48:55.087Z"
   },
   {
    "duration": 24,
    "start_time": "2022-09-19T13:48:55.108Z"
   },
   {
    "duration": 19,
    "start_time": "2022-09-19T13:48:55.136Z"
   },
   {
    "duration": 27,
    "start_time": "2022-09-19T13:48:55.156Z"
   },
   {
    "duration": 108,
    "start_time": "2022-09-19T13:48:55.185Z"
   },
   {
    "duration": 552,
    "start_time": "2022-09-19T13:48:55.296Z"
   },
   {
    "duration": 611,
    "start_time": "2022-09-19T13:48:55.850Z"
   },
   {
    "duration": 12605,
    "start_time": "2022-09-19T13:48:56.463Z"
   },
   {
    "duration": 993,
    "start_time": "2022-09-19T13:49:09.070Z"
   },
   {
    "duration": 567,
    "start_time": "2022-09-19T13:49:10.065Z"
   },
   {
    "duration": 101,
    "start_time": "2022-09-19T13:49:10.640Z"
   },
   {
    "duration": 89,
    "start_time": "2022-09-19T13:49:10.748Z"
   },
   {
    "duration": 643,
    "start_time": "2022-09-19T13:49:10.921Z"
   },
   {
    "duration": 19923,
    "start_time": "2022-09-19T13:49:11.566Z"
   },
   {
    "duration": 1283,
    "start_time": "2022-09-19T13:49:31.491Z"
   },
   {
    "duration": 10,
    "start_time": "2022-09-19T13:49:32.776Z"
   },
   {
    "duration": 5,
    "start_time": "2022-09-19T13:49:32.787Z"
   },
   {
    "duration": 41,
    "start_time": "2022-09-19T13:49:32.794Z"
   },
   {
    "duration": 852,
    "start_time": "2022-09-19T13:49:32.836Z"
   },
   {
    "duration": 7095,
    "start_time": "2022-09-19T13:49:33.690Z"
   },
   {
    "duration": 244,
    "start_time": "2022-09-19T13:49:40.787Z"
   },
   {
    "duration": 528,
    "start_time": "2022-09-19T13:49:41.037Z"
   },
   {
    "duration": 781,
    "start_time": "2022-09-19T13:49:41.567Z"
   },
   {
    "duration": 514,
    "start_time": "2022-09-19T13:49:42.350Z"
   },
   {
    "duration": 183,
    "start_time": "2022-09-19T13:55:44.476Z"
   },
   {
    "duration": 5,
    "start_time": "2022-09-19T14:01:14.807Z"
   },
   {
    "duration": 66,
    "start_time": "2022-09-19T14:01:14.814Z"
   },
   {
    "duration": 12,
    "start_time": "2022-09-19T14:01:14.882Z"
   },
   {
    "duration": 14,
    "start_time": "2022-09-19T14:01:14.896Z"
   },
   {
    "duration": 22,
    "start_time": "2022-09-19T14:01:14.911Z"
   },
   {
    "duration": 15,
    "start_time": "2022-09-19T14:01:14.936Z"
   },
   {
    "duration": 11,
    "start_time": "2022-09-19T14:01:14.957Z"
   },
   {
    "duration": 38,
    "start_time": "2022-09-19T14:01:14.969Z"
   },
   {
    "duration": 30,
    "start_time": "2022-09-19T14:01:15.011Z"
   },
   {
    "duration": 1751,
    "start_time": "2022-09-19T14:01:15.042Z"
   },
   {
    "duration": 1126,
    "start_time": "2022-09-19T14:01:16.795Z"
   },
   {
    "duration": 15,
    "start_time": "2022-09-19T14:01:17.928Z"
   },
   {
    "duration": 25,
    "start_time": "2022-09-19T14:01:17.950Z"
   },
   {
    "duration": 20,
    "start_time": "2022-09-19T14:01:17.977Z"
   },
   {
    "duration": 12,
    "start_time": "2022-09-19T14:01:17.998Z"
   },
   {
    "duration": 5,
    "start_time": "2022-09-19T14:01:18.011Z"
   },
   {
    "duration": 62,
    "start_time": "2022-09-19T14:01:18.018Z"
   },
   {
    "duration": 18,
    "start_time": "2022-09-19T14:01:18.081Z"
   },
   {
    "duration": 14,
    "start_time": "2022-09-19T14:01:18.100Z"
   },
   {
    "duration": 29,
    "start_time": "2022-09-19T14:01:18.116Z"
   },
   {
    "duration": 20,
    "start_time": "2022-09-19T14:01:18.152Z"
   },
   {
    "duration": 31,
    "start_time": "2022-09-19T14:01:18.173Z"
   },
   {
    "duration": 108,
    "start_time": "2022-09-19T14:01:18.205Z"
   },
   {
    "duration": 537,
    "start_time": "2022-09-19T14:01:18.316Z"
   },
   {
    "duration": 580,
    "start_time": "2022-09-19T14:01:18.855Z"
   },
   {
    "duration": 13695,
    "start_time": "2022-09-19T14:01:19.436Z"
   },
   {
    "duration": 1104,
    "start_time": "2022-09-19T14:01:33.141Z"
   },
   {
    "duration": 571,
    "start_time": "2022-09-19T14:01:34.252Z"
   },
   {
    "duration": 17,
    "start_time": "2022-09-19T14:01:34.825Z"
   },
   {
    "duration": 191,
    "start_time": "2022-09-19T14:01:34.849Z"
   },
   {
    "duration": 690,
    "start_time": "2022-09-19T14:01:35.045Z"
   },
   {
    "duration": 20219,
    "start_time": "2022-09-19T14:01:35.737Z"
   },
   {
    "duration": 2083,
    "start_time": "2022-09-19T14:01:55.958Z"
   },
   {
    "duration": 18,
    "start_time": "2022-09-19T14:01:58.048Z"
   },
   {
    "duration": 10,
    "start_time": "2022-09-19T14:01:58.068Z"
   },
   {
    "duration": 71,
    "start_time": "2022-09-19T14:01:58.079Z"
   },
   {
    "duration": 791,
    "start_time": "2022-09-19T14:01:58.226Z"
   },
   {
    "duration": 9721,
    "start_time": "2022-09-19T14:01:59.019Z"
   },
   {
    "duration": 248,
    "start_time": "2022-09-19T14:02:08.741Z"
   },
   {
    "duration": 320,
    "start_time": "2022-09-19T14:02:08.991Z"
   },
   {
    "duration": 196,
    "start_time": "2022-09-19T14:02:09.313Z"
   },
   {
    "duration": 7799,
    "start_time": "2022-09-19T14:05:14.948Z"
   },
   {
    "duration": 978,
    "start_time": "2022-09-19T14:06:36.031Z"
   },
   {
    "duration": 211,
    "start_time": "2022-09-19T14:07:02.372Z"
   },
   {
    "duration": 115,
    "start_time": "2022-09-19T14:10:13.330Z"
   },
   {
    "duration": 123,
    "start_time": "2022-09-19T14:11:05.309Z"
   },
   {
    "duration": 113,
    "start_time": "2022-09-19T14:11:36.840Z"
   }
  ],
  "kernelspec": {
   "display_name": "Python 3 (ipykernel)",
   "language": "python",
   "name": "python3"
  },
  "language_info": {
   "codemirror_mode": {
    "name": "ipython",
    "version": 3
   },
   "file_extension": ".py",
   "mimetype": "text/x-python",
   "name": "python",
   "nbconvert_exporter": "python",
   "pygments_lexer": "ipython3",
   "version": "3.9.12"
  },
  "toc": {
   "base_numbering": 1,
   "nav_menu": {},
   "number_sections": true,
   "sideBar": true,
   "skip_h1_title": true,
   "title_cell": "Содержание",
   "title_sidebar": "Contents",
   "toc_cell": true,
   "toc_position": {},
   "toc_section_display": true,
   "toc_window_display": true
  }
 },
 "nbformat": 4,
 "nbformat_minor": 2
}
