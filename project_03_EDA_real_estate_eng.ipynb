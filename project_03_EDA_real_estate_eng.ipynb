{
 "cells": [
  {
   "cell_type": "markdown",
   "id": "6d38b247",
   "metadata": {},
   "source": [
    "# Research of ads for the sale of apartments\n",
    "\n",
    "The Yandex service data is at your disposal.Real estate — archive of ads for the sale of apartments in St. Petersburg and neighboring settlements for several years. You need to learn how to determine the market value of real estate. Your task is to set the parameters. This will allow you to build an automated system: it will track anomalies and fraudulent activity.\n",
    "\n",
    "There are two types of data available for each apartment for sale. The first ones are entered by the user, the second ones are obtained automatically based on cartographic data. For example, the distance to the center, the airport, the nearest park and reservoir."
   ]
  },
  {
   "cell_type": "markdown",
   "id": "9a5b6881",
   "metadata": {},
   "source": [
    "### Stage 1. Getting to know the data"
   ]
  },
  {
   "cell_type": "code",
   "execution_count": 208,
   "id": "df05b0e8",
   "metadata": {},
   "outputs": [
    {
     "name": "stdout",
     "output_type": "stream",
     "text": [
      "       total_images  last_price  total_area first_day_exposition  rooms  \\\n",
      "2867              6   4500000.0       46.00  2015-01-22T00:00:00      1   \n",
      "14475            13  10440000.0       70.81  2018-12-18T00:00:00      2   \n",
      "6677             15   6050000.0       64.10  2018-08-29T00:00:00      3   \n",
      "11534            20   5400000.0       55.00  2019-03-18T00:00:00      3   \n",
      "8477              7   9500000.0       93.00  2017-01-23T00:00:00      3   \n",
      "10280            20   3950000.0       61.10  2017-07-05T00:00:00      2   \n",
      "19799            12   7500000.0       59.00  2019-02-19T00:00:00      3   \n",
      "4424             11   6350000.0       43.40  2019-04-16T00:00:00      1   \n",
      "16661             2   1249000.0       34.00  2018-01-21T00:00:00      1   \n",
      "6851              4    700000.0       33.00  2018-09-11T00:00:00      1   \n",
      "5529             13   2250000.0       28.70  2017-04-17T00:00:00      1   \n",
      "10661             7   2600000.0       34.40  2016-12-19T00:00:00      1   \n",
      "2791             11   2500000.0       63.00  2018-02-04T00:00:00      3   \n",
      "7777              9   4100000.0       41.50  2018-03-30T00:00:00      1   \n",
      "21505             9   4100000.0       35.30  2018-01-10T00:00:00      1   \n",
      "20468            13  13000000.0       77.00  2018-02-01T00:00:00      3   \n",
      "12438             8   4600000.0       59.00  2017-09-26T00:00:00      3   \n",
      "5435              3   6799000.0       50.90  2015-05-28T00:00:00      1   \n",
      "6645              4   4620000.0       35.33  2017-08-07T00:00:00      1   \n",
      "12199            13  10250000.0       82.00  2017-02-03T00:00:00      3   \n",
      "\n",
      "       ceiling_height  floors_total  living_area  floor is_apartment  ...  \\\n",
      "2867             2.80          22.0        18.00     18        False  ...   \n",
      "14475            2.87          16.0          NaN      7          NaN  ...   \n",
      "6677              NaN          26.0        28.00     18          NaN  ...   \n",
      "11534            2.75           5.0        41.00      1          NaN  ...   \n",
      "8477             3.05          15.0        56.80      3          NaN  ...   \n",
      "10280            2.57          10.0        35.10      2          NaN  ...   \n",
      "19799            2.60           9.0        35.00      4          NaN  ...   \n",
      "4424             2.60          22.0        17.90      7        False  ...   \n",
      "16661             NaN           5.0          NaN      5          NaN  ...   \n",
      "6851             2.50           5.0        17.00      3          NaN  ...   \n",
      "5529              NaN           7.0        13.40      5          NaN  ...   \n",
      "10661            2.70          18.0        15.04     14          NaN  ...   \n",
      "2791              NaN           5.0        41.00      4          NaN  ...   \n",
      "7777             2.60          23.0        21.40     22          NaN  ...   \n",
      "21505            2.75          27.0         8.50     11          NaN  ...   \n",
      "20468            2.60          14.0        45.00      4          NaN  ...   \n",
      "12438            2.50           9.0        41.00      5          NaN  ...   \n",
      "5435             2.85           9.0        19.70      4        False  ...   \n",
      "6645              NaN          22.0        16.00     11          NaN  ...   \n",
      "12199            3.95           3.0        54.00      2          NaN  ...   \n",
      "\n",
      "       kitchen_area  balcony       locality_name  airports_nearest  \\\n",
      "2867          12.00      2.0     Санкт-Петербург           35257.0   \n",
      "14475           NaN      2.0     Санкт-Петербург           20956.0   \n",
      "6677          10.00      NaN     Санкт-Петербург           20028.0   \n",
      "11534          6.00      1.0     Санкт-Петербург           11919.0   \n",
      "8477          10.40      0.0     Санкт-Петербург           18518.0   \n",
      "10280         10.80      2.0            Коммунар               NaN   \n",
      "19799          6.50      NaN     Санкт-Петербург           18459.0   \n",
      "4424          11.90      2.0     Санкт-Петербург           35274.0   \n",
      "16661           NaN      NaN              Тихвин               NaN   \n",
      "6851           7.00      NaN              Сланцы               NaN   \n",
      "5529           6.80      0.0  деревня Кузьмолово               NaN   \n",
      "10661          9.16      1.0      посёлок Мурино               NaN   \n",
      "2791           9.00      NaN              Волхов               NaN   \n",
      "7777          10.50      2.0     Санкт-Петербург           30187.0   \n",
      "21505         16.10      2.0     Санкт-Петербург           33977.0   \n",
      "20468         10.50      2.0     Санкт-Петербург           13450.0   \n",
      "12438          7.00      2.0     Санкт-Петербург           51397.0   \n",
      "5435          12.20      1.0     Санкт-Петербург           21635.0   \n",
      "6645          10.00      NaN     Санкт-Петербург           35715.0   \n",
      "12199         11.00      NaN     Санкт-Петербург           22107.0   \n",
      "\n",
      "      cityCenters_nearest  parks_around3000  parks_nearest  ponds_around3000  \\\n",
      "2867              14772.0               0.0            NaN               1.0   \n",
      "14475             22668.0               0.0            NaN               0.0   \n",
      "6677              21740.0               0.0            NaN               1.0   \n",
      "11534              9967.0               1.0          612.0               1.0   \n",
      "8477              14636.0               0.0            NaN               0.0   \n",
      "10280                 NaN               NaN            NaN               NaN   \n",
      "19799             13487.0               0.0            NaN               0.0   \n",
      "4424              14806.0               0.0            NaN               1.0   \n",
      "16661                 NaN               NaN            NaN               NaN   \n",
      "6851                  NaN               NaN            NaN               NaN   \n",
      "5529                  NaN               NaN            NaN               NaN   \n",
      "10661                 NaN               NaN            NaN               NaN   \n",
      "2791                  NaN               NaN            NaN               NaN   \n",
      "7777              11313.0               1.0          401.0               1.0   \n",
      "21505             15076.0               0.0            NaN               0.0   \n",
      "20468             11479.0               0.0            NaN               1.0   \n",
      "12438             15387.0               0.0            NaN               0.0   \n",
      "5435               6027.0               0.0            NaN               1.0   \n",
      "6645               9238.0               0.0            NaN               1.0   \n",
      "12199              4894.0               1.0          204.0               0.0   \n",
      "\n",
      "       ponds_nearest  days_exposition  \n",
      "2867           865.0            557.0  \n",
      "14475            NaN              NaN  \n",
      "6677           400.0            202.0  \n",
      "11534          712.0              NaN  \n",
      "8477             NaN            149.0  \n",
      "10280            NaN            162.0  \n",
      "19799            NaN              NaN  \n",
      "4424           744.0              NaN  \n",
      "16661            NaN             45.0  \n",
      "6851             NaN            155.0  \n",
      "5529             NaN            107.0  \n",
      "10661            NaN            571.0  \n",
      "2791             NaN            303.0  \n",
      "7777           699.0             45.0  \n",
      "21505            NaN             60.0  \n",
      "20468          492.0             85.0  \n",
      "12438            NaN             63.0  \n",
      "5435           460.0            568.0  \n",
      "6645           293.0            444.0  \n",
      "12199            NaN              NaN  \n",
      "\n",
      "[20 rows x 22 columns]\n",
      "<class 'pandas.core.frame.DataFrame'>\n",
      "RangeIndex: 23699 entries, 0 to 23698\n",
      "Data columns (total 22 columns):\n",
      " #   Column                Non-Null Count  Dtype  \n",
      "---  ------                --------------  -----  \n",
      " 0   total_images          23699 non-null  int64  \n",
      " 1   last_price            23699 non-null  float64\n",
      " 2   total_area            23699 non-null  float64\n",
      " 3   first_day_exposition  23699 non-null  object \n",
      " 4   rooms                 23699 non-null  int64  \n",
      " 5   ceiling_height        14504 non-null  float64\n",
      " 6   floors_total          23613 non-null  float64\n",
      " 7   living_area           21796 non-null  float64\n",
      " 8   floor                 23699 non-null  int64  \n",
      " 9   is_apartment          2775 non-null   object \n",
      " 10  studio                23699 non-null  bool   \n",
      " 11  open_plan             23699 non-null  bool   \n",
      " 12  kitchen_area          21421 non-null  float64\n",
      " 13  balcony               12180 non-null  float64\n",
      " 14  locality_name         23650 non-null  object \n",
      " 15  airports_nearest      18157 non-null  float64\n",
      " 16  cityCenters_nearest   18180 non-null  float64\n",
      " 17  parks_around3000      18181 non-null  float64\n",
      " 18  parks_nearest         8079 non-null   float64\n",
      " 19  ponds_around3000      18181 non-null  float64\n",
      " 20  ponds_nearest         9110 non-null   float64\n",
      " 21  days_exposition       20518 non-null  float64\n",
      "dtypes: bool(2), float64(14), int64(3), object(3)\n",
      "memory usage: 3.7+ MB\n"
     ]
    },
    {
     "data": {
      "text/plain": [
       "array([[<AxesSubplot:title={'center':'total_images'}>,\n",
       "        <AxesSubplot:title={'center':'last_price'}>,\n",
       "        <AxesSubplot:title={'center':'total_area'}>,\n",
       "        <AxesSubplot:title={'center':'rooms'}>],\n",
       "       [<AxesSubplot:title={'center':'ceiling_height'}>,\n",
       "        <AxesSubplot:title={'center':'floors_total'}>,\n",
       "        <AxesSubplot:title={'center':'living_area'}>,\n",
       "        <AxesSubplot:title={'center':'floor'}>],\n",
       "       [<AxesSubplot:title={'center':'kitchen_area'}>,\n",
       "        <AxesSubplot:title={'center':'balcony'}>,\n",
       "        <AxesSubplot:title={'center':'airports_nearest'}>,\n",
       "        <AxesSubplot:title={'center':'cityCenters_nearest'}>],\n",
       "       [<AxesSubplot:title={'center':'parks_around3000'}>,\n",
       "        <AxesSubplot:title={'center':'parks_nearest'}>,\n",
       "        <AxesSubplot:title={'center':'ponds_around3000'}>,\n",
       "        <AxesSubplot:title={'center':'ponds_nearest'}>],\n",
       "       [<AxesSubplot:title={'center':'days_exposition'}>, <AxesSubplot:>,\n",
       "        <AxesSubplot:>, <AxesSubplot:>]], dtype=object)"
      ]
     },
     "execution_count": 208,
     "metadata": {},
     "output_type": "execute_result"
    },
    {
     "data": {
      "image/png": "[encoded data removed]",
      "text/plain": [
       "<Figure size 1080x1440 with 20 Axes>"
      ]
     },
     "metadata": {},
     "output_type": "display_data"
    }
   ],
   "source": [
    "#import libraries and look at a random selection based on data\n",
    "import pandas as pd\n",
    "import numpy as np\n",
    "import seaborn as sns\n",
    "from datetime import datetime\n",
    "import matplotlib.pyplot as plt\n",
    "import matplotlib.mlab as mlab\n",
    "import matplotlib\n",
    "plt.style.use('ggplot')\n",
    "from matplotlib.pyplot import figure\n",
    "\n",
    "\n",
    "data = pd.read_csv('real_estate_data.csv', sep = '\\t')\n",
    "print(data.sample(20))\n",
    "data.info()\n",
    "\n",
    "data.hist(figsize=(15, 20))"
   ]
  },
  {
   "cell_type": "markdown",
   "id": "e1fe444e",
   "metadata": {},
   "source": [
    "**Main conclusions on stage 1**\n",
    "\n",
    "There are some problems visible right away:\n",
    "\n",
    "- missing values;\n",
    "- low-quality column names;\n",
    "- incorrect data types"
   ]
  },
  {
   "cell_type": "markdown",
   "id": "c485ce6e",
   "metadata": {},
   "source": [
    "### Data preprocessing"
   ]
  },
  {
   "cell_type": "code",
   "execution_count": 209,
   "id": "5603d86f",
   "metadata": {},
   "outputs": [
    {
     "name": "stdout",
     "output_type": "stream",
     "text": [
      "total_images                0\n",
      "last_price                  0\n",
      "total_area                  0\n",
      "first_day_exposition        0\n",
      "rooms                       0\n",
      "ceiling_height           9195\n",
      "floors_total               86\n",
      "living_area              1903\n",
      "floor                       0\n",
      "is_apartment            20924\n",
      "studio                      0\n",
      "open_plan                   0\n",
      "kitchen_area             2278\n",
      "balcony                 11519\n",
      "locality_name              49\n",
      "airports_nearest         5542\n",
      "city_centers_nearest     5519\n",
      "parks_around3000         5518\n",
      "parks_nearest           15620\n",
      "ponds_around3000         5518\n",
      "ponds_nearest           14589\n",
      "days_exposition          3181\n",
      "dtype: int64\n"
     ]
    }
   ],
   "source": [
    "data = data.rename(columns = {'cityCenters_nearest': 'city_centers_nearest'})\n",
    "print(data.isna().sum()) "
   ]
  },
  {
   "cell_type": "markdown",
   "id": "aaa2d2f9",
   "metadata": {},
   "source": [
    "A large number of omissions were detected in the following columns: is_apartment, balcony, park_nearest, points_nearest. Probably, zero values are missing in the columns 'balcony' and 'is_apartment': there is no balcony in the apartments and these are not apartments. Some of the missing values can be filled with median values: the living area, for example, depends on the number of rooms. \n",
    "Data with omissions in 'floors_total', 'locality_name' can be removed: there are not so many of them, but the absence will not give us anything."
   ]
  },
  {
   "cell_type": "code",
   "execution_count": 210,
   "id": "a26a38b3",
   "metadata": {},
   "outputs": [
    {
     "name": "stdout",
     "output_type": "stream",
     "text": [
      "<class 'pandas.core.frame.DataFrame'>\n",
      "RangeIndex: 23565 entries, 0 to 23564\n",
      "Data columns (total 22 columns):\n",
      " #   Column                Non-Null Count  Dtype  \n",
      "---  ------                --------------  -----  \n",
      " 0   total_images          23565 non-null  int64  \n",
      " 1   last_price            23565 non-null  float64\n",
      " 2   total_area            23565 non-null  float64\n",
      " 3   first_day_exposition  23565 non-null  object \n",
      " 4   rooms                 23565 non-null  int64  \n",
      " 5   ceiling_height        14481 non-null  float64\n",
      " 6   floors_total          23565 non-null  float64\n",
      " 7   living_area           21700 non-null  float64\n",
      " 8   floor                 23565 non-null  int64  \n",
      " 9   is_apartment          23565 non-null  bool   \n",
      " 10  studio                23565 non-null  bool   \n",
      " 11  open_plan             23565 non-null  bool   \n",
      " 12  kitchen_area          21343 non-null  float64\n",
      " 13  balcony               23565 non-null  float64\n",
      " 14  locality_name         23565 non-null  object \n",
      " 15  airports_nearest      18041 non-null  float64\n",
      " 16  city_centers_nearest  18064 non-null  float64\n",
      " 17  parks_around3000      18065 non-null  float64\n",
      " 18  parks_nearest         8030 non-null   float64\n",
      " 19  ponds_around3000      18065 non-null  float64\n",
      " 20  ponds_nearest         9036 non-null   float64\n",
      " 21  days_exposition       20394 non-null  float64\n",
      "dtypes: bool(3), float64(14), int64(3), object(2)\n",
      "memory usage: 3.5+ MB\n"
     ]
    }
   ],
   "source": [
    "data['balcony'] = data['balcony'].fillna(0)\n",
    "data['is_apartment'] = data['is_apartment'].fillna(False)\n",
    "\n",
    "data= data.dropna(subset=['locality_name']).reset_index(drop=True)\n",
    "data= data.dropna(subset=['floors_total']).reset_index(drop=True)\n",
    "data.info()"
   ]
  },
  {
   "cell_type": "code",
   "execution_count": 211,
   "id": "25dc3265",
   "metadata": {},
   "outputs": [
    {
     "name": "stdout",
     "output_type": "stream",
     "text": [
      "total_images                0\n",
      "last_price                  0\n",
      "total_area                  0\n",
      "first_day_exposition        0\n",
      "rooms                       0\n",
      "ceiling_height           9084\n",
      "floors_total                0\n",
      "living_area                 0\n",
      "floor                       0\n",
      "is_apartment                0\n",
      "studio                      0\n",
      "open_plan                   0\n",
      "kitchen_area              194\n",
      "balcony                     0\n",
      "locality_name               0\n",
      "airports_nearest         5516\n",
      "city_centers_nearest     5492\n",
      "parks_around3000         5492\n",
      "parks_nearest           14386\n",
      "ponds_around3000         5492\n",
      "ponds_nearest           13232\n",
      "days_exposition          3171\n",
      "dtype: int64\n"
     ]
    }
   ],
   "source": [
    "number_rooms = list(data['rooms'].unique()) # we determine the unique values of the rooms for the next cycle\n",
    "\n",
    "#fill in the gaps in the living area and kitchen area depending on the number of rooms\n",
    "for room in number_rooms:\n",
    "    median_living_area = data[data['rooms'] == room]['living_area'].median()\n",
    "    data.loc[(data['rooms'] == room)&(data['living_area'].isna()), 'living_area'] = median_living_area\n",
    "    \n",
    "    median_kitchen_area = data[data['rooms'] == room]['kitchen_area'].median()\n",
    "    data.loc[(data['rooms'] == room)&(data['kitchen_area'].isna()), 'kitchen_area'] = median_kitchen_area\n",
    "    \n",
    "    \n",
    "locality_name_unique = list(data['locality_name'].unique()) # we determine the unique values of localities for the next cycle\n",
    "\n",
    "#fill in the gaps depending on the name of the locality (with the exception of St. Petersburg)\n",
    "for locality in locality_name_unique:\n",
    "    if locality!='Санкт-Петербург':\n",
    "        median_airports_nearest = data[data['locality_name'] == locality]['airports_nearest'].median()\n",
    "        data.loc[(data['locality_name'] == locality)&(data['airports_nearest'].isna()), 'airports_nearest'] = median_airports_nearest\n",
    "        \n",
    "        median_city_centers_nearest = data[data['locality_name'] == locality]['city_centers_nearest'].median()\n",
    "        data.loc[(data['locality_name'] == locality)&(data['city_centers_nearest'].isna()), 'city_centers_nearest'] = median_city_centers_nearest\n",
    "        \n",
    "        median_parks_around3000 = data[data['locality_name'] == locality]['parks_around3000'].median()\n",
    "        data.loc[(data['locality_name'] == locality)&(data['parks_around3000'].isna()), 'parks_around3000'] = median_parks_around3000\n",
    "        \n",
    "        median_parks_nearest = data[data['locality_name'] == locality]['parks_nearest'].median()\n",
    "        data.loc[(data['locality_name'] == locality)&(data['parks_nearest'].isna()), 'parks_nearest'] = median_parks_nearest\n",
    "        \n",
    "        median_ponds_around3000 = data[data['locality_name'] == locality]['ponds_around3000'].median()\n",
    "        data.loc[(data['locality_name'] == locality)&(data['ponds_around3000'].isna()), 'ponds_around3000'] = median_ponds_around3000\n",
    "        \n",
    "        median_ponds_nearest = data[data['locality_name'] == locality]['ponds_nearest'].median()\n",
    "        data.loc[(data['locality_name'] == locality)&(data['ponds_nearest'].isna()), 'ponds_nearest'] = median_ponds_nearest\n",
    "print(data.isna().sum()) #number of gaps by columns"
   ]
  },
  {
   "cell_type": "markdown",
   "id": "af272ae4",
   "metadata": {},
   "source": [
    "Some gaps were filled in, but not all: most likely, there are a lot of missing values in the dataset in St. Petersburg, as well as in localities that are rare and with Nan (which makes it difficult to determine the median value).\n",
    "Mostly cartographic data is missing, not information added by the owner of the property. Such data is detected automatically, so omissions most likely mean that the automatic detection did not work"
   ]
  },
  {
   "cell_type": "code",
   "execution_count": 212,
   "id": "c76bdb42",
   "metadata": {},
   "outputs": [
    {
     "name": "stdout",
     "output_type": "stream",
     "text": [
      "<class 'pandas.core.frame.DataFrame'>\n",
      "RangeIndex: 23565 entries, 0 to 23564\n",
      "Data columns (total 22 columns):\n",
      " #   Column                Non-Null Count  Dtype  \n",
      "---  ------                --------------  -----  \n",
      " 0   total_images          23565 non-null  int64  \n",
      " 1   last_price            23565 non-null  float64\n",
      " 2   total_area            23565 non-null  float64\n",
      " 3   first_day_exposition  23565 non-null  object \n",
      " 4   rooms                 23565 non-null  int64  \n",
      " 5   ceiling_height        14481 non-null  float64\n",
      " 6   floors_total          23565 non-null  float64\n",
      " 7   living_area           23565 non-null  float64\n",
      " 8   floor                 23565 non-null  int64  \n",
      " 9   is_apartment          23565 non-null  bool   \n",
      " 10  studio                23565 non-null  bool   \n",
      " 11  open_plan             23565 non-null  bool   \n",
      " 12  kitchen_area          23371 non-null  float64\n",
      " 13  balcony               23565 non-null  float64\n",
      " 14  locality_name         23565 non-null  object \n",
      " 15  airports_nearest      18049 non-null  float64\n",
      " 16  city_centers_nearest  18073 non-null  float64\n",
      " 17  parks_around3000      18073 non-null  float64\n",
      " 18  parks_nearest         9179 non-null   float64\n",
      " 19  ponds_around3000      18073 non-null  float64\n",
      " 20  ponds_nearest         10333 non-null  float64\n",
      " 21  days_exposition       20394 non-null  float64\n",
      "dtypes: bool(3), float64(14), int64(3), object(2)\n",
      "memory usage: 3.5+ MB\n"
     ]
    }
   ],
   "source": [
    "data.info()  #let's print the information about the data types in the columns again"
   ]
  },
  {
   "cell_type": "markdown",
   "id": "981921cb",
   "metadata": {},
   "source": [
    "### Changing data types \n",
    "Dates are written as strings. You need to change and also make the number of balconies integer"
   ]
  },
  {
   "cell_type": "code",
   "execution_count": 213,
   "id": "f33713f6",
   "metadata": {},
   "outputs": [
    {
     "name": "stdout",
     "output_type": "stream",
     "text": [
      "<class 'pandas.core.frame.DataFrame'>\n",
      "RangeIndex: 23565 entries, 0 to 23564\n",
      "Data columns (total 22 columns):\n",
      " #   Column                Non-Null Count  Dtype         \n",
      "---  ------                --------------  -----         \n",
      " 0   total_images          23565 non-null  int64         \n",
      " 1   last_price            23565 non-null  float64       \n",
      " 2   total_area            23565 non-null  float64       \n",
      " 3   first_day_exposition  23565 non-null  datetime64[ns]\n",
      " 4   rooms                 23565 non-null  int64         \n",
      " 5   ceiling_height        14481 non-null  float64       \n",
      " 6   floors_total          23565 non-null  float64       \n",
      " 7   living_area           23565 non-null  float64       \n",
      " 8   floor                 23565 non-null  int64         \n",
      " 9   is_apartment          23565 non-null  bool          \n",
      " 10  studio                23565 non-null  bool          \n",
      " 11  open_plan             23565 non-null  bool          \n",
      " 12  kitchen_area          23371 non-null  float64       \n",
      " 13  balcony               23565 non-null  int32         \n",
      " 14  locality_name         23565 non-null  object        \n",
      " 15  airports_nearest      18049 non-null  float64       \n",
      " 16  city_centers_nearest  18073 non-null  float64       \n",
      " 17  parks_around3000      18073 non-null  float64       \n",
      " 18  parks_nearest         9179 non-null   float64       \n",
      " 19  ponds_around3000      18073 non-null  float64       \n",
      " 20  ponds_nearest         10333 non-null  float64       \n",
      " 21  days_exposition       20394 non-null  float64       \n",
      "dtypes: bool(3), datetime64[ns](1), float64(13), int32(1), int64(3), object(1)\n",
      "memory usage: 3.4+ MB\n"
     ]
    }
   ],
   "source": [
    "data['first_day_exposition'] = pd.to_datetime(data['first_day_exposition'], format='%Y-%m-%dT%H:%M:%S')\n",
    "\n",
    "data ['balcony'] = data ['balcony'].astype('int')\n",
    "\n",
    "\n",
    "data.info()"
   ]
  },
  {
   "cell_type": "markdown",
   "id": "bc197d89",
   "metadata": {},
   "source": [
    "### duplicates"
   ]
  },
  {
   "cell_type": "code",
   "execution_count": 214,
   "id": "55e7ce59",
   "metadata": {},
   "outputs": [
    {
     "name": "stdout",
     "output_type": "stream",
     "text": [
      "0\n",
      "['бокситогорск' 'волосово' 'волхов' 'всеволожск' 'выборг' 'высоцк'\n",
      " 'гатчина' 'городской поселок большая ижора' 'городской поселок янино-1'\n",
      " 'городской посёлок будогощь' 'городской посёлок виллози'\n",
      " 'городской посёлок лесогорский' 'городской посёлок мга'\n",
      " 'городской посёлок назия' 'городской посёлок новоселье'\n",
      " 'городской посёлок павлово' 'городской посёлок рощино'\n",
      " 'городской посёлок свирьстрой' 'городской посёлок советский'\n",
      " 'городской посёлок фёдоровское' 'городской посёлок янино-1'\n",
      " 'деревня агалатово' 'деревня аро' 'деревня батово' 'деревня бегуницы'\n",
      " 'деревня белогорка' 'деревня большая вруда' 'деревня большая пустомержа'\n",
      " 'деревня большие колпаны' 'деревня большое рейзино'\n",
      " 'деревня большой сабск' 'деревня бор' 'деревня борисова грива'\n",
      " 'деревня ваганово' 'деревня вартемяги' 'деревня вахнова кара'\n",
      " 'деревня выскатка' 'деревня гарболово' 'деревня глинка'\n",
      " 'деревня горбунки' 'деревня гостилицы' 'деревня заклинье'\n",
      " 'деревня заневка' 'деревня зимитицы' 'деревня извара' 'деревня иссад'\n",
      " 'деревня калитино' 'деревня кальтино' 'деревня камышовка'\n",
      " 'деревня каськово' 'деревня келози' 'деревня кипень' 'деревня кисельня'\n",
      " 'деревня колтуши' 'деревня коркино' 'деревня котлы' 'деревня кривко'\n",
      " 'деревня кудрово' 'деревня кузьмолово' 'деревня курковицы'\n",
      " 'деревня куровицы' 'деревня куттузи' 'деревня лаврики' 'деревня лаголово'\n",
      " 'деревня лампово' 'деревня лесколово' 'деревня лопухинка'\n",
      " 'деревня лупполово' 'деревня малая романовка' 'деревня малое верево'\n",
      " 'деревня малое карлино' 'деревня малые колпаны' 'деревня мануйлово'\n",
      " 'деревня меньково' 'деревня мины' 'деревня мистолово' 'деревня ненимяки'\n",
      " 'деревня нижние осельки' 'деревня нижняя' 'деревня низино'\n",
      " 'деревня новое девяткино' 'деревня новолисино' 'деревня нурма'\n",
      " 'деревня оржицы' 'деревня парицы' 'деревня пельгора' 'деревня пеники'\n",
      " 'деревня пижма' 'деревня пикколово' 'деревня пудомяги' 'деревня пустынка'\n",
      " 'деревня пчева' 'деревня рабитицы' 'деревня разбегаево'\n",
      " 'деревня раздолье' 'деревня разметелево' 'деревня рапполово'\n",
      " 'деревня реброво' 'деревня русско' 'деревня сижно' 'деревня снегирёвка'\n",
      " 'деревня старая' 'деревня старая пустошь' 'деревня старое хинколово'\n",
      " 'деревня старополье' 'деревня старосиверская' 'деревня старые бегуницы'\n",
      " 'деревня суоранда' 'деревня сяськелево' 'деревня тарасово'\n",
      " 'деревня терпилицы' 'деревня тихковицы' 'деревня тойворово'\n",
      " 'деревня торосово' 'деревня торошковичи' 'деревня трубников бор'\n",
      " 'деревня фалилеево' 'деревня фёдоровское' 'деревня хапо-ое'\n",
      " 'деревня хязельки' 'деревня чудской бор' 'деревня шпаньково'\n",
      " 'деревня щеглово' 'деревня юкки' 'деревня ялгино' 'деревня яльгелево'\n",
      " 'деревня ям-тесово' 'зеленогорск' 'ивангород' 'каменногорск' 'кингисепп'\n",
      " 'кириши' 'кировск' 'колпино' 'коммунар'\n",
      " 'коттеджный поселок кивеннапа север' 'коттеджный поселок счастье'\n",
      " 'коттеджный посёлок лесное' 'красное село' 'кронштадт' 'кудрово'\n",
      " 'лодейное поле' 'ломоносов' 'луга' 'любань' 'мурино' 'никольское'\n",
      " 'новая ладога' 'отрадное' 'павловск' 'петергоф' 'пикалёво' 'подпорожье'\n",
      " 'поселок аннино' 'поселок барышево' 'поселок бугры' 'поселок возрождение'\n",
      " 'поселок войсковицы' 'поселок володарское' 'поселок гаврилово'\n",
      " 'поселок гарболово' 'поселок гладкое' 'поселок глажево'\n",
      " 'поселок глебычево' 'поселок гончарово'\n",
      " 'поселок городского типа большая ижора' 'поселок городского типа вырица'\n",
      " 'поселок городского типа дружная горка'\n",
      " 'поселок городского типа дубровка' 'поселок городского типа ефимовский'\n",
      " 'поселок городского типа имени свердлова'\n",
      " 'поселок городского типа кондратьево'\n",
      " 'поселок городского типа красный бор'\n",
      " 'поселок городского типа кузьмоловский' 'поселок городского типа лебяжье'\n",
      " 'поселок городского типа лесогорский' 'поселок городского типа назия'\n",
      " 'поселок городского типа никольский'\n",
      " 'поселок городского типа приладожский' 'поселок городского типа рахья'\n",
      " 'поселок городского типа рощино' 'поселок городского типа рябово'\n",
      " 'поселок городского типа синявино' 'поселок городского типа советский'\n",
      " 'поселок городского типа токсово' 'поселок городского типа форносово'\n",
      " 'поселок громово' 'поселок дружноселье' 'поселок елизаветино'\n",
      " 'поселок жилгородок' 'поселок жилпосёлок' 'поселок житково'\n",
      " 'поселок заводской' 'поселок запорожское' 'поселок зимитицы'\n",
      " 'поселок ильичёво' 'поселок калитино' 'поселок каложицы'\n",
      " 'поселок кингисеппский' 'поселок кирпичное' 'поселок кобралово'\n",
      " 'поселок кобринское' 'поселок коммунары' 'поселок коробицыно'\n",
      " 'поселок котельский' 'поселок красная долина' 'поселок красносельское'\n",
      " 'поселок лесное' 'поселок лисий нос' 'поселок лукаши' 'поселок любань'\n",
      " 'поселок мельниково' 'поселок мичуринское' 'поселок молодцово'\n",
      " 'поселок мурино' 'поселок новый свет' 'поселок новый учхоз'\n",
      " 'поселок оредеж' 'поселок пансионат зелёный бор' 'поселок первомайское'\n",
      " 'поселок перово' 'поселок петровское' 'поселок победа' 'поселок поляны'\n",
      " 'поселок почап' 'поселок починок' 'поселок пушное' 'поселок пчевжа'\n",
      " 'поселок рабитицы' 'поселок романовка' 'поселок ромашки' 'поселок рябово'\n",
      " 'поселок севастьяново' 'поселок селезнёво' 'поселок сельцо'\n",
      " 'поселок семиозерье' 'поселок семрино' 'поселок серебрянский'\n",
      " 'поселок совхозный' 'поселок станции вещево' 'поселок станции корнево'\n",
      " 'поселок станции лужайка' 'поселок станции приветнинское'\n",
      " 'поселок старая малукса' 'поселок стеклянный' 'поселок сумино'\n",
      " 'поселок суходолье' 'поселок тельмана' 'поселок терволово'\n",
      " 'поселок торковичи' 'поселок тёсово-4' 'поселок углово'\n",
      " 'поселок усть-луга' 'поселок ушаки' 'поселок цвелодубово'\n",
      " 'поселок цвылёво' 'посёлок александровская' 'посёлок алексеевка'\n",
      " 'посёлок аннино' 'посёлок белоостров' 'посёлок бугры'\n",
      " 'посёлок возрождение' 'посёлок войскорово' 'посёлок высокоключевой'\n",
      " 'посёлок гаврилово' 'посёлок городского типа важины'\n",
      " 'посёлок городского типа вознесенье' 'посёлок городского типа вырица'\n",
      " 'посёлок городского типа имени морозова'\n",
      " 'посёлок городского типа имени свердлова'\n",
      " 'посёлок городского типа красный бор' 'посёлок городского типа кузнечное'\n",
      " 'посёлок городского типа кузьмоловский' 'посёлок городского типа лебяжье'\n",
      " 'посёлок городского типа мга' 'посёлок городского типа павлово'\n",
      " 'посёлок городского типа рощино' 'посёлок городского типа рябово'\n",
      " 'посёлок городского типа сиверский' 'посёлок городского типа тайцы'\n",
      " 'посёлок городского типа токсово' 'посёлок городского типа ульяновка'\n",
      " 'посёлок городского типа форносово' 'посёлок дзержинского'\n",
      " 'посёлок жилгородок' 'посёлок ильичёво' 'посёлок кикерино'\n",
      " 'посёлок кобралово' 'посёлок коробицыно' 'посёлок левашово'\n",
      " 'посёлок ленинское' 'посёлок лисий нос' 'посёлок мельниково'\n",
      " 'посёлок металлострой' 'посёлок мичуринское' 'посёлок молодёжное'\n",
      " 'посёлок мурино' 'посёлок мыза-ивановка' 'посёлок новогорелово'\n",
      " 'посёлок новый свет' 'посёлок пансионат зелёный бор' 'посёлок парголово'\n",
      " 'посёлок перово' 'посёлок песочный' 'посёлок петро-славянка'\n",
      " 'посёлок петровское' 'посёлок платформа 69-й километр' 'посёлок плодовое'\n",
      " 'посёлок плоское' 'посёлок победа' 'посёлок поляны' 'посёлок понтонный'\n",
      " 'посёлок при железнодорожной станции вещево'\n",
      " 'посёлок при железнодорожной станции приветнинское' 'посёлок пригородный'\n",
      " 'посёлок пудость' 'посёлок репино' 'посёлок ропша' 'посёлок сапёрное'\n",
      " 'посёлок сапёрный' 'посёлок сосново' 'посёлок станции громово'\n",
      " 'посёлок станции свирь' 'посёлок старая малукса' 'посёлок стеклянный'\n",
      " 'посёлок стрельна' 'посёлок суйда' 'посёлок сумино' 'посёлок тельмана'\n",
      " 'посёлок терволово' 'посёлок торфяное' 'посёлок усть-ижора'\n",
      " 'посёлок усть-луга' 'посёлок форт красная горка' 'посёлок шугозеро'\n",
      " 'посёлок шушары' 'посёлок щеглово' 'приморск' 'приозерск' 'пушкин'\n",
      " 'садоводческое некоммерческое товарищество лесная поляна'\n",
      " 'садовое товарищество новая ропша' 'садовое товарищество приладожский'\n",
      " 'садовое товарищество рахья' 'садовое товарищество садко'\n",
      " 'санкт-петербург' 'светогорск' 'село копорье' 'село никольское'\n",
      " 'село павлово' 'село паша' 'село путилово' 'село рождествено'\n",
      " 'село русско-высоцкое' 'село старая ладога' 'село шум' 'сертолово'\n",
      " 'сестрорецк' 'сланцы' 'сосновый бор' 'сясьстрой' 'тихвин' 'тосно'\n",
      " 'шлиссельбург']\n",
      "Number of localities: 364\n"
     ]
    }
   ],
   "source": [
    "print(data.duplicated().sum())# counting explicit duplicates\n",
    "data['locality_name'] = data['locality_name'].str.lower()  #analysis of implicit duplicates\n",
    "print(data['locality_name'].sort_values().unique())\n",
    "\n",
    "print('Number of localities:', len(data['locality_name'].sort_values().unique()))\n"
   ]
  },
  {
   "cell_type": "markdown",
   "id": "2e4e6ba5",
   "metadata": {},
   "source": [
    "There are many unique localities (364), there are obvious duplicates associated with the use of the letters Е, Ё, however, there are doubts that it makes sense to manually select duplicates, given the number and purpose of the study. Let's check the distribution by city"
   ]
  },
  {
   "cell_type": "code",
   "execution_count": 215,
   "id": "c3254ed9",
   "metadata": {},
   "outputs": [
    {
     "name": "stdout",
     "output_type": "stream",
     "text": [
      "санкт-петербург                     15651\n",
      "поселок мурино                        552\n",
      "поселок шушары                        439\n",
      "всеволожск                            398\n",
      "пушкин                                369\n",
      "                                    ...  \n",
      "поселок левашово                        1\n",
      "садовое товарищество новая ропша        1\n",
      "деревня шпаньково                       1\n",
      "деревня курковицы                       1\n",
      "поселок дзержинского                    1\n",
      "Name: locality_name, Length: 330, dtype: int64\n",
      "Number of localities 330\n"
     ]
    }
   ],
   "source": [
    "data['locality_name'] = data['locality_name'].str.replace('ё', 'е', regex=True)\n",
    "\n",
    "print(data['locality_name'].value_counts()) #checking the distribution of data by city\n",
    "print('Number of localities', len(data['locality_name'].sort_values().unique()))"
   ]
  },
  {
   "cell_type": "markdown",
   "id": "878217da",
   "metadata": {},
   "source": [
    "A little more than 30 takes were removed. It makes sense to add a new column, given the type of locality (city, town, etc.)"
   ]
  },
  {
   "cell_type": "code",
   "execution_count": 216,
   "id": "537b5a77",
   "metadata": {},
   "outputs": [
    {
     "name": "stdout",
     "output_type": "stream",
     "text": [
      "city       15651\n",
      "town        4992\n",
      "village     2922\n",
      "Name: classification_locality, dtype: int64\n"
     ]
    }
   ],
   "source": [
    "def classification_locality (row):  \n",
    "    if 'санкт-петербург' in row:\n",
    "        return 'city'\n",
    "    elif 'сел' in row or 'товарищ' in row:\n",
    "        return 'village'\n",
    "    else:\n",
    "        return 'town'\n",
    "data['classification_locality'] = data['locality_name'].apply(classification_locality)\n",
    "\n",
    "print(data['classification_locality'].value_counts())  "
   ]
  },
  {
   "cell_type": "markdown",
   "id": "27fe1566",
   "metadata": {},
   "source": [
    "#### Let's analyze the anomalies in the columns"
   ]
  },
  {
   "cell_type": "code",
   "execution_count": 217,
   "id": "87674343",
   "metadata": {},
   "outputs": [
    {
     "data": {
      "image/png": "[encoded data removed]",
      "text/plain": [
       "<Figure size 432x288 with 1 Axes>"
      ]
     },
     "metadata": {},
     "output_type": "display_data"
    },
    {
     "data": {
      "text/plain": [
       "<AxesSubplot:>"
      ]
     },
     "execution_count": 217,
     "metadata": {},
     "output_type": "execute_result"
    },
    {
     "data": {
      "image/png": "[encoded data removed]",
      "text/plain": [
       "<Figure size 432x288 with 1 Axes>"
      ]
     },
     "metadata": {},
     "output_type": "display_data"
    }
   ],
   "source": [
    "plt.xlim(0, 3)\n",
    "plt.ylim(0, 10)\n",
    "data.boxplot(['ceiling_height'])\n",
    "plt.show()\n",
    "\n",
    "\n",
    "data['ceiling_height'].hist(bins=100, range=(2,4))"
   ]
  },
  {
   "cell_type": "markdown",
   "id": "30ac151c",
   "metadata": {},
   "source": [
    "the ceiling height variation from 1 m to 100 suggests anomalies, but the good news is that there are not so many of them, judging by the quartiles. The boxplot shows that there are outliers from above and below."
   ]
  },
  {
   "cell_type": "code",
   "execution_count": 218,
   "id": "c24debe0",
   "metadata": {},
   "outputs": [
    {
     "data": {
      "text/html": [
       "<div>\n",
       "<style scoped>\n",
       "    .dataframe tbody tr th:only-of-type {\n",
       "        vertical-align: middle;\n",
       "    }\n",
       "\n",
       "    .dataframe tbody tr th {\n",
       "        vertical-align: top;\n",
       "    }\n",
       "\n",
       "    .dataframe thead th {\n",
       "        text-align: right;\n",
       "    }\n",
       "</style>\n",
       "<table border=\"1\" class=\"dataframe\">\n",
       "  <thead>\n",
       "    <tr style=\"text-align: right;\">\n",
       "      <th></th>\n",
       "      <th>total_images</th>\n",
       "      <th>last_price</th>\n",
       "      <th>total_area</th>\n",
       "      <th>rooms</th>\n",
       "      <th>ceiling_height</th>\n",
       "      <th>floors_total</th>\n",
       "      <th>living_area</th>\n",
       "      <th>floor</th>\n",
       "      <th>kitchen_area</th>\n",
       "      <th>balcony</th>\n",
       "      <th>airports_nearest</th>\n",
       "      <th>city_centers_nearest</th>\n",
       "      <th>parks_around3000</th>\n",
       "      <th>parks_nearest</th>\n",
       "      <th>ponds_around3000</th>\n",
       "      <th>ponds_nearest</th>\n",
       "      <th>days_exposition</th>\n",
       "    </tr>\n",
       "  </thead>\n",
       "  <tbody>\n",
       "    <tr>\n",
       "      <th>count</th>\n",
       "      <td>23565.000000</td>\n",
       "      <td>2.356500e+04</td>\n",
       "      <td>23565.000000</td>\n",
       "      <td>23565.000000</td>\n",
       "      <td>14481.000000</td>\n",
       "      <td>23565.000000</td>\n",
       "      <td>23565.000000</td>\n",
       "      <td>23565.000000</td>\n",
       "      <td>23371.000000</td>\n",
       "      <td>23565.000000</td>\n",
       "      <td>18049.000000</td>\n",
       "      <td>18073.000000</td>\n",
       "      <td>18073.000000</td>\n",
       "      <td>9179.000000</td>\n",
       "      <td>18073.000000</td>\n",
       "      <td>10333.000000</td>\n",
       "      <td>20394.000000</td>\n",
       "    </tr>\n",
       "    <tr>\n",
       "      <th>mean</th>\n",
       "      <td>9.878421</td>\n",
       "      <td>6.540058e+06</td>\n",
       "      <td>60.322824</td>\n",
       "      <td>2.070656</td>\n",
       "      <td>2.771283</td>\n",
       "      <td>10.675875</td>\n",
       "      <td>34.324899</td>\n",
       "      <td>5.878124</td>\n",
       "      <td>10.454371</td>\n",
       "      <td>0.593677</td>\n",
       "      <td>28797.960801</td>\n",
       "      <td>14201.752476</td>\n",
       "      <td>0.611409</td>\n",
       "      <td>490.441497</td>\n",
       "      <td>0.769380</td>\n",
       "      <td>515.566680</td>\n",
       "      <td>180.741395</td>\n",
       "    </tr>\n",
       "    <tr>\n",
       "      <th>std</th>\n",
       "      <td>5.681156</td>\n",
       "      <td>1.091093e+07</td>\n",
       "      <td>35.657060</td>\n",
       "      <td>1.078591</td>\n",
       "      <td>1.261983</td>\n",
       "      <td>6.594823</td>\n",
       "      <td>21.722006</td>\n",
       "      <td>4.871485</td>\n",
       "      <td>5.665974</td>\n",
       "      <td>0.960660</td>\n",
       "      <td>12634.794938</td>\n",
       "      <td>8623.758031</td>\n",
       "      <td>0.802067</td>\n",
       "      <td>324.514221</td>\n",
       "      <td>0.938597</td>\n",
       "      <td>264.045707</td>\n",
       "      <td>219.732782</td>\n",
       "    </tr>\n",
       "    <tr>\n",
       "      <th>min</th>\n",
       "      <td>0.000000</td>\n",
       "      <td>1.219000e+04</td>\n",
       "      <td>12.000000</td>\n",
       "      <td>0.000000</td>\n",
       "      <td>1.000000</td>\n",
       "      <td>1.000000</td>\n",
       "      <td>2.000000</td>\n",
       "      <td>1.000000</td>\n",
       "      <td>1.300000</td>\n",
       "      <td>0.000000</td>\n",
       "      <td>0.000000</td>\n",
       "      <td>181.000000</td>\n",
       "      <td>0.000000</td>\n",
       "      <td>1.000000</td>\n",
       "      <td>0.000000</td>\n",
       "      <td>13.000000</td>\n",
       "      <td>1.000000</td>\n",
       "    </tr>\n",
       "    <tr>\n",
       "      <th>25%</th>\n",
       "      <td>6.000000</td>\n",
       "      <td>3.400000e+06</td>\n",
       "      <td>40.000000</td>\n",
       "      <td>1.000000</td>\n",
       "      <td>2.510000</td>\n",
       "      <td>5.000000</td>\n",
       "      <td>18.400000</td>\n",
       "      <td>2.000000</td>\n",
       "      <td>7.300000</td>\n",
       "      <td>0.000000</td>\n",
       "      <td>18557.000000</td>\n",
       "      <td>9238.000000</td>\n",
       "      <td>0.000000</td>\n",
       "      <td>307.500000</td>\n",
       "      <td>0.000000</td>\n",
       "      <td>311.000000</td>\n",
       "      <td>45.000000</td>\n",
       "    </tr>\n",
       "    <tr>\n",
       "      <th>50%</th>\n",
       "      <td>9.000000</td>\n",
       "      <td>4.646000e+06</td>\n",
       "      <td>52.000000</td>\n",
       "      <td>2.000000</td>\n",
       "      <td>2.650000</td>\n",
       "      <td>9.000000</td>\n",
       "      <td>30.300000</td>\n",
       "      <td>4.000000</td>\n",
       "      <td>9.000000</td>\n",
       "      <td>0.000000</td>\n",
       "      <td>26755.000000</td>\n",
       "      <td>13101.000000</td>\n",
       "      <td>0.000000</td>\n",
       "      <td>440.000000</td>\n",
       "      <td>1.000000</td>\n",
       "      <td>509.000000</td>\n",
       "      <td>95.000000</td>\n",
       "    </tr>\n",
       "    <tr>\n",
       "      <th>75%</th>\n",
       "      <td>14.000000</td>\n",
       "      <td>6.790000e+06</td>\n",
       "      <td>69.700000</td>\n",
       "      <td>3.000000</td>\n",
       "      <td>2.800000</td>\n",
       "      <td>16.000000</td>\n",
       "      <td>42.700000</td>\n",
       "      <td>8.000000</td>\n",
       "      <td>11.500000</td>\n",
       "      <td>1.000000</td>\n",
       "      <td>37273.000000</td>\n",
       "      <td>16293.000000</td>\n",
       "      <td>1.000000</td>\n",
       "      <td>618.000000</td>\n",
       "      <td>1.000000</td>\n",
       "      <td>692.000000</td>\n",
       "      <td>231.000000</td>\n",
       "    </tr>\n",
       "    <tr>\n",
       "      <th>max</th>\n",
       "      <td>50.000000</td>\n",
       "      <td>7.630000e+08</td>\n",
       "      <td>900.000000</td>\n",
       "      <td>19.000000</td>\n",
       "      <td>100.000000</td>\n",
       "      <td>60.000000</td>\n",
       "      <td>409.700000</td>\n",
       "      <td>33.000000</td>\n",
       "      <td>112.000000</td>\n",
       "      <td>5.000000</td>\n",
       "      <td>84869.000000</td>\n",
       "      <td>65968.000000</td>\n",
       "      <td>3.000000</td>\n",
       "      <td>3190.000000</td>\n",
       "      <td>3.000000</td>\n",
       "      <td>1344.000000</td>\n",
       "      <td>1580.000000</td>\n",
       "    </tr>\n",
       "  </tbody>\n",
       "</table>\n",
       "</div>"
      ],
      "text/plain": [
       "       total_images    last_price    total_area         rooms  ceiling_height  \\\n",
       "count  23565.000000  2.356500e+04  23565.000000  23565.000000    14481.000000   \n",
       "mean       9.878421  6.540058e+06     60.322824      2.070656        2.771283   \n",
       "std        5.681156  1.091093e+07     35.657060      1.078591        1.261983   \n",
       "min        0.000000  1.219000e+04     12.000000      0.000000        1.000000   \n",
       "25%        6.000000  3.400000e+06     40.000000      1.000000        2.510000   \n",
       "50%        9.000000  4.646000e+06     52.000000      2.000000        2.650000   \n",
       "75%       14.000000  6.790000e+06     69.700000      3.000000        2.800000   \n",
       "max       50.000000  7.630000e+08    900.000000     19.000000      100.000000   \n",
       "\n",
       "       floors_total   living_area         floor  kitchen_area       balcony  \\\n",
       "count  23565.000000  23565.000000  23565.000000  23371.000000  23565.000000   \n",
       "mean      10.675875     34.324899      5.878124     10.454371      0.593677   \n",
       "std        6.594823     21.722006      4.871485      5.665974      0.960660   \n",
       "min        1.000000      2.000000      1.000000      1.300000      0.000000   \n",
       "25%        5.000000     18.400000      2.000000      7.300000      0.000000   \n",
       "50%        9.000000     30.300000      4.000000      9.000000      0.000000   \n",
       "75%       16.000000     42.700000      8.000000     11.500000      1.000000   \n",
       "max       60.000000    409.700000     33.000000    112.000000      5.000000   \n",
       "\n",
       "       airports_nearest  city_centers_nearest  parks_around3000  \\\n",
       "count      18049.000000          18073.000000      18073.000000   \n",
       "mean       28797.960801          14201.752476          0.611409   \n",
       "std        12634.794938           8623.758031          0.802067   \n",
       "min            0.000000            181.000000          0.000000   \n",
       "25%        18557.000000           9238.000000          0.000000   \n",
       "50%        26755.000000          13101.000000          0.000000   \n",
       "75%        37273.000000          16293.000000          1.000000   \n",
       "max        84869.000000          65968.000000          3.000000   \n",
       "\n",
       "       parks_nearest  ponds_around3000  ponds_nearest  days_exposition  \n",
       "count    9179.000000      18073.000000   10333.000000     20394.000000  \n",
       "mean      490.441497          0.769380     515.566680       180.741395  \n",
       "std       324.514221          0.938597     264.045707       219.732782  \n",
       "min         1.000000          0.000000      13.000000         1.000000  \n",
       "25%       307.500000          0.000000     311.000000        45.000000  \n",
       "50%       440.000000          1.000000     509.000000        95.000000  \n",
       "75%       618.000000          1.000000     692.000000       231.000000  \n",
       "max      3190.000000          3.000000    1344.000000      1580.000000  "
      ]
     },
     "metadata": {},
     "output_type": "display_data"
    }
   ],
   "source": [
    "#let's look at outliers across all columns, \n",
    "# paying special attention to the data provided by customers (not cartographic data)\n",
    "display(data.describe())\n"
   ]
  },
  {
   "cell_type": "code",
   "execution_count": 219,
   "id": "ceb9f659",
   "metadata": {},
   "outputs": [
    {
     "name": "stdout",
     "output_type": "stream",
     "text": [
      "First quartile: 2.51 Third quartile: 2.8 Interquartile range: 0.29000000000000004 Maximum ceiling height without outliers: 3.235\n"
     ]
    }
   ],
   "source": [
    "# Исправление значений у квартир с выстой потолка более и равной 25 м\n",
    "data.loc[data['ceiling_height'] >= 25, 'ceiling_height'] /= 10\n",
    "q1_ceiling = data['ceiling_height'].quantile(0.25)\n",
    "q3_ceiling = data['ceiling_height'].quantile(0.75)\n",
    "iqr_ceiling = q3_ceiling - q1_ceiling\n",
    "max_ceiling = q3_ceiling + 1.5 * iqr_ceiling\n",
    "\n",
    "print('First quartile:', q1_ceiling, 'Third quartile:',  q3_ceiling, 'Interquartile range:',iqr_ceiling, 'Maximum ceiling height without outliers:', max_ceiling)\n",
    "\n",
    "\n"
   ]
  },
  {
   "cell_type": "markdown",
   "id": "3133062d",
   "metadata": {},
   "source": [
    "We will leave the missing values in the data, because there are a lot of them and those that are between 2.5 (ceilings cannot be smaller in accordance with the construction rules) and 3.3 m"
   ]
  },
  {
   "cell_type": "code",
   "execution_count": 220,
   "id": "ac52c366",
   "metadata": {},
   "outputs": [
    {
     "name": "stdout",
     "output_type": "stream",
     "text": [
      "                         ceiling_height\n",
      "classification_locality                \n",
      "city                               2.68\n",
      "town                               2.60\n",
      "village                            2.60\n"
     ]
    }
   ],
   "source": [
    "data = data.loc[(data['ceiling_height'].isna()) | ((data['ceiling_height'] >= 2.5) \\\n",
    "                              & (data['ceiling_height'] <= 3.3))]\n",
    "\n",
    "print(data.pivot_table(index='classification_locality', values='ceiling_height', aggfunc='median'))\n",
    "\n"
   ]
  },
  {
   "cell_type": "markdown",
   "id": "1c303b13",
   "metadata": {},
   "source": [
    "Fill in the data on missed ceilings with a median value depending on the type of locality"
   ]
  },
  {
   "cell_type": "code",
   "execution_count": 221,
   "id": "ff590d83",
   "metadata": {},
   "outputs": [
    {
     "name": "stdout",
     "output_type": "stream",
     "text": [
      "-0.5001800054147827\n",
      "0.251273015976312\n",
      "0.43460171337149217\n",
      "-0.0751307561853234\n",
      "0.38081143895066\n",
      "0.4008342278619433\n"
     ]
    },
    {
     "data": {
      "text/plain": [
       "<AxesSubplot:xlabel='city_centers_nearest', ylabel='ceiling_height'>"
      ]
     },
     "execution_count": 221,
     "metadata": {},
     "output_type": "execute_result"
    },
    {
     "data": {
      "image/png": "[encoded data removed]",
      "text/plain": [
       "<Figure size 432x288 with 1 Axes>"
      ]
     },
     "metadata": {},
     "output_type": "display_data"
    }
   ],
   "source": [
    "#Let's first check the correlation of the ceiling height in St. Petersburg from other parameters\n",
    "print(data.query('classification_locality==\"city\"')['ceiling_height'].corr(data['city_centers_nearest']))\n",
    "print(data.query('classification_locality==\"city\"')['ceiling_height'].corr(data['rooms']))\n",
    "print(data.query('classification_locality==\"city\"')['ceiling_height'].corr(data['total_area']))\n",
    "print(data.query('classification_locality==\"city\"')['ceiling_height'].corr(data['floors_total']))\n",
    "print(data.query('classification_locality==\"city\"')['ceiling_height'].corr(data['living_area']))\n",
    "print(data.query('classification_locality==\"city\"')['ceiling_height'].corr(data['kitchen_area']))\n",
    "\n",
    "\n",
    "\n",
    "# Visual check of the correlation of the values of the ceiling_height column with the distance from the center\n",
    "data.plot(x='city_centers_nearest', y='ceiling_height', kind='scatter')"
   ]
  },
  {
   "cell_type": "code",
   "execution_count": 222,
   "id": "11699c41",
   "metadata": {},
   "outputs": [
    {
     "data": {
      "text/html": [
       "<div>\n",
       "<style scoped>\n",
       "    .dataframe tbody tr th:only-of-type {\n",
       "        vertical-align: middle;\n",
       "    }\n",
       "\n",
       "    .dataframe tbody tr th {\n",
       "        vertical-align: top;\n",
       "    }\n",
       "\n",
       "    .dataframe thead th {\n",
       "        text-align: right;\n",
       "    }\n",
       "</style>\n",
       "<table border=\"1\" class=\"dataframe\">\n",
       "  <thead>\n",
       "    <tr style=\"text-align: right;\">\n",
       "      <th></th>\n",
       "      <th>city_centers_nearest</th>\n",
       "      <th>ceiling_height</th>\n",
       "    </tr>\n",
       "  </thead>\n",
       "  <tbody>\n",
       "    <tr>\n",
       "      <th>0</th>\n",
       "      <td>181.0</td>\n",
       "      <td>3.28</td>\n",
       "    </tr>\n",
       "    <tr>\n",
       "      <th>1</th>\n",
       "      <td>318.0</td>\n",
       "      <td>3.20</td>\n",
       "    </tr>\n",
       "    <tr>\n",
       "      <th>2</th>\n",
       "      <td>329.0</td>\n",
       "      <td>3.07</td>\n",
       "    </tr>\n",
       "    <tr>\n",
       "      <th>3</th>\n",
       "      <td>387.0</td>\n",
       "      <td>3.20</td>\n",
       "    </tr>\n",
       "    <tr>\n",
       "      <th>4</th>\n",
       "      <td>399.0</td>\n",
       "      <td>2.80</td>\n",
       "    </tr>\n",
       "  </tbody>\n",
       "</table>\n",
       "</div>"
      ],
      "text/plain": [
       "   city_centers_nearest  ceiling_height\n",
       "0                 181.0            3.28\n",
       "1                 318.0            3.20\n",
       "2                 329.0            3.07\n",
       "3                 387.0            3.20\n",
       "4                 399.0            2.80"
      ]
     },
     "execution_count": 222,
     "metadata": {},
     "output_type": "execute_result"
    }
   ],
   "source": [
    "#Let's build a table of the dependence of the median ceiling height on the distance from the center of St. Petersburg\n",
    "df_locality_ceiling_spb = (\n",
    "data\n",
    "    .query('ceiling_height > 2.5 and ceiling_height < 3.3 and classification_locality == \"city\"')\n",
    "    .groupby('city_centers_nearest')['ceiling_height']\n",
    "    .median()\n",
    "    .reset_index()\n",
    ")\n",
    "\n",
    "df_locality_ceiling_spb.head()"
   ]
  },
  {
   "cell_type": "code",
   "execution_count": 223,
   "id": "6b1ff106",
   "metadata": {},
   "outputs": [
    {
     "data": {
      "text/plain": [
       "Text(0.5, 0, 'Distance from the center (km)')"
      ]
     },
     "execution_count": 223,
     "metadata": {},
     "output_type": "execute_result"
    },
    {
     "data": {
      "image/png": "[encoded data removed]",
      "text/plain": [
       "<Figure size 432x288 with 1 Axes>"
      ]
     },
     "metadata": {},
     "output_type": "display_data"
    }
   ],
   "source": [
    "ax = df_locality_ceiling_spb.plot(y='ceiling_height', style='o-')\n",
    "\n",
    "ax.set_title('The correlation of the ceiling height on the distance from the center of St. Petersburg ', ha='center', fontsize='x-large')\n",
    "ax.set_ylabel('Ceiling height', fontsize='large')\n",
    "ax.set_xlabel('Distance from the center (km)', fontsize='large')"
   ]
  },
  {
   "cell_type": "code",
   "execution_count": 224,
   "id": "cafdbd08",
   "metadata": {},
   "outputs": [],
   "source": [
    "# the function returns the median value of the ceiling height for the distance from the center \n",
    "# if there are no ceiling height values in the summary table, return the value 2.68 (median for St. Petersburg)\n",
    "\n",
    "def find_ceiling_height_value(city_centers_nearest)->float:\n",
    "    median_group = df_locality_ceiling_spb.query(\n",
    "        'city_centers_nearest == city_centers_nearest'\n",
    "    )['ceiling_height']\n",
    "    if median_group.empty:\n",
    "        return 2.68\n",
    "    else:\n",
    "        return median_group.values[0]"
   ]
  },
  {
   "cell_type": "code",
   "execution_count": 225,
   "id": "0a178dab",
   "metadata": {},
   "outputs": [
    {
     "data": {
      "text/plain": [
       "9084"
      ]
     },
     "execution_count": 225,
     "metadata": {},
     "output_type": "execute_result"
    }
   ],
   "source": [
    "classification_locality_unique = list(data['classification_locality'].unique()) \n",
    "#fill in the gaps depending on the name of the locality\n",
    "for locality in locality_name_unique:\n",
    "    median_ceiling = data[data['classification_locality'] == locality]['ceiling_height'].median()\n",
    "    data.loc[(data['classification_locality'] == locality)&(data['ceiling_height'].isna()), 'ceiling_height'] = median_ceiling\n",
    "data['ceiling_height'].isnull().sum()"
   ]
  },
  {
   "cell_type": "code",
   "execution_count": 226,
   "id": "29221956",
   "metadata": {},
   "outputs": [],
   "source": [
    "\n",
    "def floor_status(row):\n",
    "    if row['floor'] == 1:\n",
    "        return 'first'\n",
    "    elif row['floor'] == row['floors_total']:\n",
    "        return 'last'\n",
    "    else:\n",
    "        return 'other'\n",
    "data['floor_status'] = data.apply(floor_status, axis=1)"
   ]
  },
  {
   "cell_type": "code",
   "execution_count": 227,
   "id": "0e3c8332",
   "metadata": {},
   "outputs": [
    {
     "name": "stdout",
     "output_type": "stream",
     "text": [
      "   total_images  last_price  total_area first_day_exposition  rooms  \\\n",
      "0            20  13000000.0       108.0           2019-03-07      3   \n",
      "1             7   3350000.0        40.4           2018-12-04      1   \n",
      "2            10   5196000.0        56.0           2015-08-20      2   \n",
      "3             0  64900000.0       159.0           2015-07-24      3   \n",
      "4             2  10000000.0       100.0           2018-06-19      2   \n",
      "\n",
      "   ceiling_height  floors_total  living_area  floor  is_apartment  ...  \\\n",
      "0            2.70          16.0         51.0      8         False  ...   \n",
      "1             NaN          11.0         18.6      1         False  ...   \n",
      "2             NaN           5.0         34.3      4         False  ...   \n",
      "3             NaN          14.0         45.0      9         False  ...   \n",
      "4            3.03          14.0         32.0     13         False  ...   \n",
      "\n",
      "   airports_nearest  city_centers_nearest  parks_around3000  parks_nearest  \\\n",
      "0           18863.0               16028.0               1.0          482.0   \n",
      "1           12817.0               18603.0               0.0            NaN   \n",
      "2           21741.0               13933.0               1.0           90.0   \n",
      "3           28098.0                6800.0               2.0           84.0   \n",
      "4           31856.0                8098.0               2.0          112.0   \n",
      "\n",
      "  ponds_around3000  ponds_nearest  days_exposition  classification_locality  \\\n",
      "0              2.0          755.0              NaN                     city   \n",
      "1              0.0          584.5             81.0                  village   \n",
      "2              2.0          574.0            558.0                     city   \n",
      "3              3.0          234.0            424.0                     city   \n",
      "4              1.0           48.0            121.0                     city   \n",
      "\n",
      "   floor_status  price_per_meter  \n",
      "0         other        120370.37  \n",
      "1         first         82920.79  \n",
      "2         other         92785.71  \n",
      "3         other        408176.10  \n",
      "4         other        100000.00  \n",
      "\n",
      "[5 rows x 25 columns]\n"
     ]
    }
   ],
   "source": [
    "# Add the price per square meter\n",
    "data['price_per_meter'] = data['last_price'] / data['total_area']\n",
    "data['price_per_meter'] = data['price_per_meter'].round(decimals=2)\n",
    "print(data.head())"
   ]
  },
  {
   "cell_type": "code",
   "execution_count": 228,
   "id": "ab01bea4",
   "metadata": {},
   "outputs": [
    {
     "name": "stdout",
     "output_type": "stream",
     "text": [
      "   total_images  last_price  total_area first_day_exposition  rooms  \\\n",
      "0            20  13000000.0      108.00           2019-03-07      3   \n",
      "1             7   3350000.0       40.40           2018-12-04      1   \n",
      "2            10   5196000.0       56.00           2015-08-20      2   \n",
      "3             0  64900000.0      159.00           2015-07-24      3   \n",
      "4             2  10000000.0      100.00           2018-06-19      2   \n",
      "5            10   2890000.0       30.40           2018-09-10      1   \n",
      "6             6   3700000.0       37.30           2017-11-02      1   \n",
      "7             5   7915000.0       71.60           2019-04-18      2   \n",
      "8            20   2900000.0       33.16           2018-05-23      1   \n",
      "9            18   5400000.0       61.00           2017-02-26      3   \n",
      "\n",
      "   ceiling_height  floors_total  living_area  floor  is_apartment  ...  \\\n",
      "0            2.70          16.0        51.00      8         False  ...   \n",
      "1             NaN          11.0        18.60      1         False  ...   \n",
      "2             NaN           5.0        34.30      4         False  ...   \n",
      "3             NaN          14.0        45.00      9         False  ...   \n",
      "4            3.03          14.0        32.00     13         False  ...   \n",
      "5             NaN          12.0        14.40      5         False  ...   \n",
      "6             NaN          26.0        10.60      6         False  ...   \n",
      "7             NaN          24.0        30.50     22         False  ...   \n",
      "8             NaN          27.0        15.43     26         False  ...   \n",
      "9            2.50           9.0        43.60      7         False  ...   \n",
      "\n",
      "   parks_nearest  ponds_around3000  ponds_nearest  days_exposition  \\\n",
      "0          482.0               2.0          755.0              NaN   \n",
      "1            NaN               0.0          584.5             81.0   \n",
      "2           90.0               2.0          574.0            558.0   \n",
      "3           84.0               3.0          234.0            424.0   \n",
      "4          112.0               1.0           48.0            121.0   \n",
      "5            NaN               NaN            NaN             55.0   \n",
      "6          733.0               0.0          593.0            155.0   \n",
      "7            NaN               0.0            NaN              NaN   \n",
      "8            NaN               NaN            NaN            189.0   \n",
      "9            NaN               0.0            NaN            289.0   \n",
      "\n",
      "  classification_locality  floor_status  price_per_meter  \\\n",
      "0                    city         other        120370.37   \n",
      "1                 village         first         82920.79   \n",
      "2                    city         other         92785.71   \n",
      "3                    city         other        408176.10   \n",
      "4                    city         other        100000.00   \n",
      "5                 village         other         95065.79   \n",
      "6                 village         other         99195.71   \n",
      "7                    city         other        110544.69   \n",
      "8                 village         other         87454.76   \n",
      "9                    city         other         88524.59   \n",
      "\n",
      "   day_of_week_exposition  month_exposition  year_exposition  \n",
      "0                Thursday             March             2019  \n",
      "1                 Tuesday          December             2018  \n",
      "2                Thursday            August             2015  \n",
      "3                  Friday              July             2015  \n",
      "4                 Tuesday              June             2018  \n",
      "5                  Monday         September             2018  \n",
      "6                Thursday          November             2017  \n",
      "7                Thursday             April             2019  \n",
      "8               Wednesday               May             2018  \n",
      "9                  Sunday          February             2017  \n",
      "\n",
      "[10 rows x 28 columns]\n"
     ]
    }
   ],
   "source": [
    "# Add columns with day, month and year\n",
    "data['day_of_week_exposition'] = data['first_day_exposition'].dt.day_name()\n",
    "data['month_exposition'] = data['first_day_exposition'].dt.month_name()\n",
    "data['year_exposition'] = data['first_day_exposition'].dt.year\n",
    "print(data.head(10))"
   ]
  },
  {
   "cell_type": "code",
   "execution_count": 229,
   "id": "0ae99319",
   "metadata": {},
   "outputs": [
    {
     "data": {
      "text/html": [
       "<div>\n",
       "<style scoped>\n",
       "    .dataframe tbody tr th:only-of-type {\n",
       "        vertical-align: middle;\n",
       "    }\n",
       "\n",
       "    .dataframe tbody tr th {\n",
       "        vertical-align: top;\n",
       "    }\n",
       "\n",
       "    .dataframe thead th {\n",
       "        text-align: right;\n",
       "    }\n",
       "</style>\n",
       "<table border=\"1\" class=\"dataframe\">\n",
       "  <thead>\n",
       "    <tr style=\"text-align: right;\">\n",
       "      <th></th>\n",
       "      <th>total_images</th>\n",
       "      <th>last_price</th>\n",
       "      <th>total_area</th>\n",
       "      <th>first_day_exposition</th>\n",
       "      <th>rooms</th>\n",
       "      <th>ceiling_height</th>\n",
       "      <th>floors_total</th>\n",
       "      <th>living_area</th>\n",
       "      <th>floor</th>\n",
       "      <th>is_apartment</th>\n",
       "      <th>...</th>\n",
       "      <th>ponds_around3000</th>\n",
       "      <th>ponds_nearest</th>\n",
       "      <th>days_exposition</th>\n",
       "      <th>classification_locality</th>\n",
       "      <th>floor_status</th>\n",
       "      <th>price_per_meter</th>\n",
       "      <th>day_of_week_exposition</th>\n",
       "      <th>month_exposition</th>\n",
       "      <th>year_exposition</th>\n",
       "      <th>days_of_week</th>\n",
       "    </tr>\n",
       "  </thead>\n",
       "  <tbody>\n",
       "    <tr>\n",
       "      <th>0</th>\n",
       "      <td>20</td>\n",
       "      <td>13000000.0</td>\n",
       "      <td>108.0</td>\n",
       "      <td>2019-03-07</td>\n",
       "      <td>3</td>\n",
       "      <td>2.70</td>\n",
       "      <td>16.0</td>\n",
       "      <td>51.0</td>\n",
       "      <td>8</td>\n",
       "      <td>False</td>\n",
       "      <td>...</td>\n",
       "      <td>2.0</td>\n",
       "      <td>755.0</td>\n",
       "      <td>NaN</td>\n",
       "      <td>city</td>\n",
       "      <td>other</td>\n",
       "      <td>120370.37</td>\n",
       "      <td>Thursday</td>\n",
       "      <td>March</td>\n",
       "      <td>2019</td>\n",
       "      <td>3</td>\n",
       "    </tr>\n",
       "    <tr>\n",
       "      <th>1</th>\n",
       "      <td>7</td>\n",
       "      <td>3350000.0</td>\n",
       "      <td>40.4</td>\n",
       "      <td>2018-12-04</td>\n",
       "      <td>1</td>\n",
       "      <td>NaN</td>\n",
       "      <td>11.0</td>\n",
       "      <td>18.6</td>\n",
       "      <td>1</td>\n",
       "      <td>False</td>\n",
       "      <td>...</td>\n",
       "      <td>0.0</td>\n",
       "      <td>584.5</td>\n",
       "      <td>81.0</td>\n",
       "      <td>village</td>\n",
       "      <td>first</td>\n",
       "      <td>82920.79</td>\n",
       "      <td>Tuesday</td>\n",
       "      <td>December</td>\n",
       "      <td>2018</td>\n",
       "      <td>1</td>\n",
       "    </tr>\n",
       "    <tr>\n",
       "      <th>2</th>\n",
       "      <td>10</td>\n",
       "      <td>5196000.0</td>\n",
       "      <td>56.0</td>\n",
       "      <td>2015-08-20</td>\n",
       "      <td>2</td>\n",
       "      <td>NaN</td>\n",
       "      <td>5.0</td>\n",
       "      <td>34.3</td>\n",
       "      <td>4</td>\n",
       "      <td>False</td>\n",
       "      <td>...</td>\n",
       "      <td>2.0</td>\n",
       "      <td>574.0</td>\n",
       "      <td>558.0</td>\n",
       "      <td>city</td>\n",
       "      <td>other</td>\n",
       "      <td>92785.71</td>\n",
       "      <td>Thursday</td>\n",
       "      <td>August</td>\n",
       "      <td>2015</td>\n",
       "      <td>3</td>\n",
       "    </tr>\n",
       "    <tr>\n",
       "      <th>3</th>\n",
       "      <td>0</td>\n",
       "      <td>64900000.0</td>\n",
       "      <td>159.0</td>\n",
       "      <td>2015-07-24</td>\n",
       "      <td>3</td>\n",
       "      <td>NaN</td>\n",
       "      <td>14.0</td>\n",
       "      <td>45.0</td>\n",
       "      <td>9</td>\n",
       "      <td>False</td>\n",
       "      <td>...</td>\n",
       "      <td>3.0</td>\n",
       "      <td>234.0</td>\n",
       "      <td>424.0</td>\n",
       "      <td>city</td>\n",
       "      <td>other</td>\n",
       "      <td>408176.10</td>\n",
       "      <td>Friday</td>\n",
       "      <td>July</td>\n",
       "      <td>2015</td>\n",
       "      <td>4</td>\n",
       "    </tr>\n",
       "    <tr>\n",
       "      <th>4</th>\n",
       "      <td>2</td>\n",
       "      <td>10000000.0</td>\n",
       "      <td>100.0</td>\n",
       "      <td>2018-06-19</td>\n",
       "      <td>2</td>\n",
       "      <td>3.03</td>\n",
       "      <td>14.0</td>\n",
       "      <td>32.0</td>\n",
       "      <td>13</td>\n",
       "      <td>False</td>\n",
       "      <td>...</td>\n",
       "      <td>1.0</td>\n",
       "      <td>48.0</td>\n",
       "      <td>121.0</td>\n",
       "      <td>city</td>\n",
       "      <td>other</td>\n",
       "      <td>100000.00</td>\n",
       "      <td>Tuesday</td>\n",
       "      <td>June</td>\n",
       "      <td>2018</td>\n",
       "      <td>1</td>\n",
       "    </tr>\n",
       "  </tbody>\n",
       "</table>\n",
       "<p>5 rows × 29 columns</p>\n",
       "</div>"
      ],
      "text/plain": [
       "   total_images  last_price  total_area first_day_exposition  rooms  \\\n",
       "0            20  13000000.0       108.0           2019-03-07      3   \n",
       "1             7   3350000.0        40.4           2018-12-04      1   \n",
       "2            10   5196000.0        56.0           2015-08-20      2   \n",
       "3             0  64900000.0       159.0           2015-07-24      3   \n",
       "4             2  10000000.0       100.0           2018-06-19      2   \n",
       "\n",
       "   ceiling_height  floors_total  living_area  floor  is_apartment  ...  \\\n",
       "0            2.70          16.0         51.0      8         False  ...   \n",
       "1             NaN          11.0         18.6      1         False  ...   \n",
       "2             NaN           5.0         34.3      4         False  ...   \n",
       "3             NaN          14.0         45.0      9         False  ...   \n",
       "4            3.03          14.0         32.0     13         False  ...   \n",
       "\n",
       "   ponds_around3000  ponds_nearest  days_exposition  classification_locality  \\\n",
       "0               2.0          755.0              NaN                     city   \n",
       "1               0.0          584.5             81.0                  village   \n",
       "2               2.0          574.0            558.0                     city   \n",
       "3               3.0          234.0            424.0                     city   \n",
       "4               1.0           48.0            121.0                     city   \n",
       "\n",
       "  floor_status  price_per_meter  day_of_week_exposition  month_exposition  \\\n",
       "0        other        120370.37                Thursday             March   \n",
       "1        first         82920.79                 Tuesday          December   \n",
       "2        other         92785.71                Thursday            August   \n",
       "3        other        408176.10                  Friday              July   \n",
       "4        other        100000.00                 Tuesday              June   \n",
       "\n",
       "   year_exposition  days_of_week  \n",
       "0             2019             3  \n",
       "1             2018             1  \n",
       "2             2015             3  \n",
       "3             2015             4  \n",
       "4             2018             1  \n",
       "\n",
       "[5 rows x 29 columns]"
      ]
     },
     "metadata": {},
     "output_type": "display_data"
    }
   ],
   "source": [
    "#we will add with the day of the week of publication\n",
    "def days_of_week(row):\n",
    "    if row['day_of_week_exposition'] == \"Monday\":\n",
    "        return 0\n",
    "    elif row['day_of_week_exposition'] == \"Tuesday\":\n",
    "        return 1\n",
    "    elif row['day_of_week_exposition'] == \"Wednesday\":\n",
    "        return 2\n",
    "    elif row['day_of_week_exposition'] == \"Thursday\":\n",
    "        return 3\n",
    "    elif row['day_of_week_exposition'] == \"Friday\":\n",
    "        return 4\n",
    "    elif row['day_of_week_exposition'] == \"Saturday\":\n",
    "        return 5\n",
    "    else:\n",
    "        return 6\n",
    "data['days_of_week'] = data.apply(days_of_week, axis=1)\n",
    "display(data.head())"
   ]
  },
  {
   "cell_type": "code",
   "execution_count": 230,
   "id": "150035dd",
   "metadata": {},
   "outputs": [],
   "source": [
    "# Remove meters from columns with ponds, airports and city centers, bring everything to kilometers\n",
    "data['city_centers_nearest_km'] = data['city_centers_nearest'] / 1000\n",
    "data['airports_nearest_km'] = data['airports_nearest'] / 1000\n",
    "data['parks_nearest_km'] = data['parks_nearest'] / 1000\n",
    "data['ponds_nearest_km'] = data['ponds_nearest'] / 1000"
   ]
  },
  {
   "cell_type": "code",
   "execution_count": 231,
   "id": "1c492edf",
   "metadata": {},
   "outputs": [
    {
     "name": "stdout",
     "output_type": "stream",
     "text": [
      "<class 'pandas.core.frame.DataFrame'>\n",
      "Int64Index: 22906 entries, 0 to 23564\n",
      "Data columns (total 33 columns):\n",
      " #   Column                   Non-Null Count  Dtype         \n",
      "---  ------                   --------------  -----         \n",
      " 0   total_images             22906 non-null  int64         \n",
      " 1   last_price               22906 non-null  float64       \n",
      " 2   total_area               22906 non-null  float64       \n",
      " 3   first_day_exposition     22906 non-null  datetime64[ns]\n",
      " 4   rooms                    22906 non-null  int64         \n",
      " 5   ceiling_height           13822 non-null  float64       \n",
      " 6   floors_total             22906 non-null  float64       \n",
      " 7   living_area              22906 non-null  float64       \n",
      " 8   floor                    22906 non-null  int64         \n",
      " 9   is_apartment             22906 non-null  bool          \n",
      " 10  studio                   22906 non-null  bool          \n",
      " 11  open_plan                22906 non-null  bool          \n",
      " 12  kitchen_area             22716 non-null  float64       \n",
      " 13  balcony                  22906 non-null  int32         \n",
      " 14  locality_name            22906 non-null  object        \n",
      " 15  airports_nearest         17447 non-null  float64       \n",
      " 16  city_centers_nearest     17467 non-null  float64       \n",
      " 17  parks_around3000         17467 non-null  float64       \n",
      " 18  parks_nearest            8727 non-null   float64       \n",
      " 19  ponds_around3000         17467 non-null  float64       \n",
      " 20  ponds_nearest            9895 non-null   float64       \n",
      " 21  days_exposition          19885 non-null  float64       \n",
      " 22  classification_locality  22906 non-null  object        \n",
      " 23  floor_status             22906 non-null  object        \n",
      " 24  price_per_meter          22906 non-null  float64       \n",
      " 25  day_of_week_exposition   22906 non-null  object        \n",
      " 26  month_exposition         22906 non-null  object        \n",
      " 27  year_exposition          22906 non-null  int64         \n",
      " 28  days_of_week             22906 non-null  int64         \n",
      " 29  city_centers_nearest_km  17467 non-null  float64       \n",
      " 30  airports_nearest_km      17447 non-null  float64       \n",
      " 31  parks_nearest_km         8727 non-null   float64       \n",
      " 32  ponds_nearest_km         9895 non-null   float64       \n",
      "dtypes: bool(3), datetime64[ns](1), float64(18), int32(1), int64(5), object(5)\n",
      "memory usage: 5.9+ MB\n"
     ]
    }
   ],
   "source": [
    "data.info()"
   ]
  },
  {
   "cell_type": "markdown",
   "id": "7cf4823e",
   "metadata": {},
   "source": [
    "## Step 2 Exploratory data analysis "
   ]
  },
  {
   "cell_type": "markdown",
   "id": "23a1de09",
   "metadata": {},
   "source": [
    "Let's look at some parameters: total area; living area; kitchen area; object price; number of rooms; ceiling height;\n",
    "apartment floor; type of apartment floor (\"first\", \"last\", \"other\"); total number of floors in the house; distance to the city center in meters; distance to the nearest airport; distance to the nearest park; day and month of publication of the announcement. \n",
    "\n",
    "We automate the construction of histograms for each parameter. Let's see what the span diagrams look like for the studied data and get rid of outliers."
   ]
  },
  {
   "cell_type": "code",
   "execution_count": 232,
   "id": "028e0442",
   "metadata": {},
   "outputs": [
    {
     "data": {
      "image/png": "[encoded data removed]",
      "text/plain": [
       "<Figure size 432x288 with 1 Axes>"
      ]
     },
     "metadata": {},
     "output_type": "display_data"
    }
   ],
   "source": [
    "def draw_hist(col, xmin, xmax):\n",
    "    data[col].hist(bins=50, range=(xmin, xmax))\n",
    "def draw_boxplot(col, ymin=-50, ymax=200):\n",
    "    plt.ylim(ymin, ymax)\n",
    "    data.boxplot(col)\n",
    "draw_hist('total_area', 0, 400)"
   ]
  },
  {
   "cell_type": "code",
   "execution_count": 233,
   "id": "0b189a98",
   "metadata": {},
   "outputs": [
    {
     "data": {
      "image/png": "[encoded data removed]",
      "text/plain": [
       "<Figure size 432x288 with 1 Axes>"
      ]
     },
     "metadata": {},
     "output_type": "display_data"
    }
   ],
   "source": [
    "draw_boxplot('total_area')"
   ]
  },
  {
   "cell_type": "markdown",
   "id": "6bf6470e",
   "metadata": {},
   "source": [
    "The spread of normal values starts at about 15 sq.m and ends at 120 sq.m. Let's get rid of all the missing values."
   ]
  },
  {
   "cell_type": "code",
   "execution_count": 234,
   "id": "babd6ae8",
   "metadata": {},
   "outputs": [
    {
     "name": "stdout",
     "output_type": "stream",
     "text": [
      "Number of outliers by total area: 5\n"
     ]
    }
   ],
   "source": [
    "print('Number of outliers by total area:', data.query('120>total_area<15')['total_area'].count())"
   ]
  },
  {
   "cell_type": "code",
   "execution_count": 235,
   "id": "e5062ea4",
   "metadata": {},
   "outputs": [],
   "source": [
    "data = data.query('total_area>=15 and total_area<=120')"
   ]
  },
  {
   "cell_type": "code",
   "execution_count": 236,
   "id": "c24efe0b",
   "metadata": {},
   "outputs": [
    {
     "data": {
      "image/png": "[encoded data removed]",
      "text/plain": [
       "<Figure size 432x288 with 1 Axes>"
      ]
     },
     "metadata": {},
     "output_type": "display_data"
    }
   ],
   "source": [
    "draw_hist('last_price', 0, 20000000)"
   ]
  },
  {
   "cell_type": "code",
   "execution_count": 237,
   "id": "5f6de744",
   "metadata": {},
   "outputs": [
    {
     "data": {
      "image/png": "[encoded data removed]",
      "text/plain": [
       "<Figure size 432x288 with 1 Axes>"
      ]
     },
     "metadata": {},
     "output_type": "display_data"
    }
   ],
   "source": [
    "draw_boxplot('last_price', -500000, 15000000)"
   ]
  },
  {
   "cell_type": "markdown",
   "id": "20a60d8d",
   "metadata": {},
   "source": [
    "Normal values are in the range from zero to 11 million. We will leave only them."
   ]
  },
  {
   "cell_type": "code",
   "execution_count": 238,
   "id": "f7bc40eb",
   "metadata": {},
   "outputs": [],
   "source": [
    "data = data.query('last_price>10000 and last_price<=11000000')"
   ]
  },
  {
   "cell_type": "code",
   "execution_count": 239,
   "id": "ea277641",
   "metadata": {},
   "outputs": [
    {
     "data": {
      "image/png": "[encoded data removed]",
      "text/plain": [
       "<Figure size 432x288 with 1 Axes>"
      ]
     },
     "metadata": {},
     "output_type": "display_data"
    }
   ],
   "source": [
    "draw_hist('rooms', 0, 10)"
   ]
  },
  {
   "cell_type": "markdown",
   "id": "70d08e63",
   "metadata": {},
   "source": [
    "Most apartments have 1-3 rooms. We see a small segment with zero rooms. These are probably studios."
   ]
  },
  {
   "cell_type": "code",
   "execution_count": 240,
   "id": "5d317785",
   "metadata": {},
   "outputs": [
    {
     "data": {
      "image/png": "[encoded data removed]",
      "text/plain": [
       "<Figure size 432x288 with 1 Axes>"
      ]
     },
     "metadata": {},
     "output_type": "display_data"
    }
   ],
   "source": [
    "draw_boxplot('rooms', -1, 10)"
   ]
  },
  {
   "cell_type": "markdown",
   "id": "ebb51c45",
   "metadata": {},
   "source": [
    "We will leave only apartments with fewer than 7 rooms"
   ]
  },
  {
   "cell_type": "code",
   "execution_count": 241,
   "id": "900e1837",
   "metadata": {},
   "outputs": [],
   "source": [
    "data = data.query('rooms>=0 and rooms <7')"
   ]
  },
  {
   "cell_type": "code",
   "execution_count": 242,
   "id": "c70c301b",
   "metadata": {},
   "outputs": [
    {
     "data": {
      "image/png": "[encoded data removed]",
      "text/plain": [
       "<Figure size 432x288 with 1 Axes>"
      ]
     },
     "metadata": {},
     "output_type": "display_data"
    }
   ],
   "source": [
    "draw_hist('days_exposition', 0, 1600)"
   ]
  },
  {
   "cell_type": "code",
   "execution_count": 243,
   "id": "4cbb8bc1",
   "metadata": {},
   "outputs": [
    {
     "data": {
      "image/png": "[encoded data removed]",
      "text/plain": [
       "<Figure size 432x288 with 1 Axes>"
      ]
     },
     "metadata": {},
     "output_type": "display_data"
    }
   ],
   "source": [
    "draw_boxplot('days_exposition', -50, 600)"
   ]
  },
  {
   "cell_type": "code",
   "execution_count": 244,
   "id": "eb6aa640",
   "metadata": {},
   "outputs": [
    {
     "data": {
      "text/plain": [
       "count    18344.000000\n",
       "mean       171.077846\n",
       "std        208.598379\n",
       "min          1.000000\n",
       "25%         43.000000\n",
       "50%         91.000000\n",
       "75%        217.000000\n",
       "max       1580.000000\n",
       "Name: days_exposition, dtype: float64"
      ]
     },
     "execution_count": 244,
     "metadata": {},
     "output_type": "execute_result"
    }
   ],
   "source": [
    "#let's remove unnecessary data based on quartiles. We will remove apartments that are sold in less than 1 day, as well as longer than 478 days(q3+1.5*iqr)\n",
    "data['days_exposition'].describe()"
   ]
  },
  {
   "cell_type": "code",
   "execution_count": 245,
   "id": "62b0415f",
   "metadata": {},
   "outputs": [
    {
     "data": {
      "text/plain": [
       "<AxesSubplot:>"
      ]
     },
     "execution_count": 245,
     "metadata": {},
     "output_type": "execute_result"
    },
    {
     "data": {
      "image/png": "[encoded data removed]",
      "text/plain": [
       "<Figure size 1080x720 with 1 Axes>"
      ]
     },
     "metadata": {},
     "output_type": "display_data"
    }
   ],
   "source": [
    "data['days_exposition'].hist(bins=100, figsize=(15, 10))"
   ]
  },
  {
   "cell_type": "code",
   "execution_count": 246,
   "id": "c89a4712",
   "metadata": {},
   "outputs": [
    {
     "data": {
      "text/html": [
       "<div>\n",
       "<style scoped>\n",
       "    .dataframe tbody tr th:only-of-type {\n",
       "        vertical-align: middle;\n",
       "    }\n",
       "\n",
       "    .dataframe tbody tr th {\n",
       "        vertical-align: top;\n",
       "    }\n",
       "\n",
       "    .dataframe thead tr th {\n",
       "        text-align: left;\n",
       "    }\n",
       "\n",
       "    .dataframe thead tr:last-of-type th {\n",
       "        text-align: right;\n",
       "    }\n",
       "</style>\n",
       "<table border=\"1\" class=\"dataframe\">\n",
       "  <thead>\n",
       "    <tr>\n",
       "      <th></th>\n",
       "      <th>median</th>\n",
       "      <th>mean</th>\n",
       "    </tr>\n",
       "    <tr>\n",
       "      <th></th>\n",
       "      <th>days_exposition</th>\n",
       "      <th>days_exposition</th>\n",
       "    </tr>\n",
       "    <tr>\n",
       "      <th>classification_locality</th>\n",
       "      <th></th>\n",
       "      <th></th>\n",
       "    </tr>\n",
       "  </thead>\n",
       "  <tbody>\n",
       "    <tr>\n",
       "      <th>city</th>\n",
       "      <td>89.0</td>\n",
       "      <td>168.521214</td>\n",
       "    </tr>\n",
       "    <tr>\n",
       "      <th>town</th>\n",
       "      <td>95.0</td>\n",
       "      <td>180.626334</td>\n",
       "    </tr>\n",
       "    <tr>\n",
       "      <th>village</th>\n",
       "      <td>94.0</td>\n",
       "      <td>167.337250</td>\n",
       "    </tr>\n",
       "  </tbody>\n",
       "</table>\n",
       "</div>"
      ],
      "text/plain": [
       "                                 median            mean\n",
       "                        days_exposition days_exposition\n",
       "classification_locality                                \n",
       "city                               89.0      168.521214\n",
       "town                               95.0      180.626334\n",
       "village                            94.0      167.337250"
      ]
     },
     "execution_count": 246,
     "metadata": {},
     "output_type": "execute_result"
    }
   ],
   "source": [
    "data.pivot_table(index='classification_locality', values='days_exposition', aggfunc=['median', 'mean'])"
   ]
  },
  {
   "cell_type": "markdown",
   "id": "b82a5b4a",
   "metadata": {},
   "source": [
    "It is obvious that in any such sample there are outliers both at the bottom (the seller put the object up for sale and immediately changed his mind) and at the top (artificial ads with an inflated price that hang for a long time and \"form\" the market price). At the same time, these values indicate that half of the ads are completed with a transaction within 91 (second quartile, median) days or less.\n",
    "\n",
    "To the category of \"fast\" sales, it is advisable to include all sales within up to 43 days (first quartile) from the date of placement, \"long\" sales - over 217 (third quartile) days of placement. Average time - 171 days (average value)\n",
    "\n",
    "Note that in St. Petersburg apartments are sold a little faster"
   ]
  },
  {
   "cell_type": "markdown",
   "id": "de4c7ad5",
   "metadata": {},
   "source": [
    "**Evaluation of the main parameters of the apartment**\n",
    "We will study the following main parameters of apartments: area, price, number of rooms, ceiling height, floor of the apartment, type of floor of the apartment (\"first\", \"last\", \"other\"), total number of floors in the house, distance to the city center in meters, distance to the nearest airport, distance to the nearest park, the day and month of publication of the announcement\n",
    "\n",
    "At the stage of pre-processing, the parameters of the living area and the kitchen area, the ceiling height and the number of rooms were studied in detail."
   ]
  },
  {
   "cell_type": "code",
   "execution_count": 247,
   "id": "13b51526",
   "metadata": {},
   "outputs": [],
   "source": [
    "# there are a lot of parameters, histograms too, let's make this process a little easier\n",
    "#function for displaying the parameter distribution as a histogram:\n",
    "# df_to_plot - dataframe of the source data\n",
    "# param - calculation parameters\n",
    "# range_min - minimum value of the parameter (display range)\n",
    "# range_max - maximum value of the parameter (display range)\n",
    "# bins - number of bins\n",
    "# title - the general name of the chart\n",
    "\n",
    "\n",
    "def plot_param_single_hist(\n",
    "    df_to_plot, \n",
    "    param, \n",
    "    range_min, \n",
    "    range_max,\n",
    "    bins,\n",
    "    title,\n",
    "    x_label,\n",
    "    y_label\n",
    "):\n",
    "    \n",
    "    ax = df_to_plot[param].plot(\n",
    "        x=param, \n",
    "        grid=True, \n",
    "        kind='hist', \n",
    "        range=(range_min, range_max), \n",
    "        bins=bins\n",
    "    )\n",
    "\n",
    "    ax.set_title(title, fontsize='x-large')\n",
    "    ax.set_xlabel(x_label, fontsize='large')\n",
    "    ax.set_ylabel(y_label, fontsize='large')\n",
    "#Let's build a histogram of the distribution of the values of the total area on all the source data.\n",
    "\n",
    "\n",
    "# function for the joint display of the parameter distribution in the form of a histogram and a span diagram\n",
    "# df_to_plot - dataframe of the source data\n",
    "# param - calculation parameters\n",
    "# range_min - minimum value of the parameter (display range)\n",
    "# range_max - maximum value of the parameter (display range)\n",
    "# bins - number of bins\n",
    "# title - the general name of the chart\n",
    "\n",
    "\n",
    "def plot_param_hist_boxplot(\n",
    "    df_to_plot, \n",
    "    param, \n",
    "    range_min, \n",
    "    range_max,\n",
    "    bins,\n",
    "    title,\n",
    "    x_label,\n",
    "    y_label\n",
    "):\n",
    "    fig, (ax1, ax2) = plt.subplots(\n",
    "        nrows=2, \n",
    "        ncols=1, \n",
    "        sharex=True,\n",
    "        figsize=(14, 10), \n",
    "        gridspec_kw={'height_ratios': [2.5, 1]}\n",
    "    )\n",
    "\n",
    "    df_to_plot.hist(\n",
    "        param, \n",
    "        range=(range_min, range_max), \n",
    "        bins=bins, \n",
    "        ax=ax1\n",
    "    )\n",
    "\n",
    "    plt.xlim(range_min, range_max)\n",
    "    plt.ylim(0, 2) \n",
    "\n",
    "    df_to_plot[param].plot(\n",
    "        x=param, \n",
    "        vert=False, \n",
    "        kind='box', \n",
    "        grid=True, \n",
    "        ax=ax2\n",
    "    )\n",
    "\n",
    "    ax1.set_title('')\n",
    "    ax2.set_title('')\n",
    "\n",
    "    plt.suptitle(title, ha='center', fontsize='xx-large')\n",
    "    ax1.set_ylabel(y_label, fontsize='x-large')\n",
    "    ax2.set_xlabel(x_label, fontsize='x-large')\n"
   ]
  },
  {
   "cell_type": "code",
   "execution_count": 248,
   "id": "5c283824",
   "metadata": {},
   "outputs": [
    {
     "data": {
      "image/png": "[encoded data removed]",
      "text/plain": [
       "<Figure size 432x288 with 1 Axes>"
      ]
     },
     "metadata": {},
     "output_type": "display_data"
    }
   ],
   "source": [
    "plot_param_single_hist(\n",
    "    data,\n",
    "    'total_area',\n",
    "    0,\n",
    "    400,\n",
    "    20,\n",
    "    'Distribution by total area',\n",
    "    'Total area',\n",
    "    'Number of apartments'\n",
    ")\n",
    "#Построим гистограмму распределения значений общей площади в диапазоне от 0 до 200."
   ]
  },
  {
   "cell_type": "code",
   "execution_count": 249,
   "id": "e5f5f6a5",
   "metadata": {},
   "outputs": [
    {
     "data": {
      "image/png": "[encoded data removed]",
      "text/plain": [
       "<Figure size 432x288 with 1 Axes>"
      ]
     },
     "metadata": {},
     "output_type": "display_data"
    }
   ],
   "source": [
    "plot_param_single_hist(\n",
    "    data,\n",
    "    'ceiling_height',\n",
    "    1,\n",
    "    5,\n",
    "    10,\n",
    "    'Ceiling height distribution',\n",
    "    'Ceiling height',\n",
    "    'Number of apartments'\n",
    ")\n",
    "\n"
   ]
  },
  {
   "cell_type": "code",
   "execution_count": 250,
   "id": "a4a63637",
   "metadata": {},
   "outputs": [
    {
     "data": {
      "image/png": "[encoded data removed]",
      "text/plain": [
       "<Figure size 432x288 with 1 Axes>"
      ]
     },
     "metadata": {},
     "output_type": "display_data"
    }
   ],
   "source": [
    "plot_param_single_hist(\n",
    "    data,\n",
    "    'rooms',\n",
    "    0,\n",
    "    20,\n",
    "    20,\n",
    "    'Distribution of the number of rooms',\n",
    "    'number of rooms',\n",
    "    'Number of apartments'\n",
    ")"
   ]
  },
  {
   "cell_type": "code",
   "execution_count": 251,
   "id": "1368da7b",
   "metadata": {},
   "outputs": [
    {
     "data": {
      "image/png": "[encoded data removed]",
      "text/plain": [
       "<Figure size 432x288 with 1 Axes>"
      ]
     },
     "metadata": {},
     "output_type": "display_data"
    }
   ],
   "source": [
    "plot_param_single_hist(\n",
    "    data,\n",
    "    'living_area',\n",
    "    0,\n",
    "    400,\n",
    "    20,\n",
    "    'Distribution by volume of living area',\n",
    "    'living area',\n",
    "    'Number of apartments'\n",
    ")"
   ]
  },
  {
   "cell_type": "code",
   "execution_count": 252,
   "id": "cda1740e",
   "metadata": {},
   "outputs": [
    {
     "ename": "SyntaxError",
     "evalue": "EOL while scanning string literal (1036005378.py, line 8)",
     "output_type": "error",
     "traceback": [
      "\u001b[1;36m  Input \u001b[1;32mIn [252]\u001b[1;36m\u001b[0m\n\u001b[1;33m    'kitchen area,\u001b[0m\n\u001b[1;37m                  ^\u001b[0m\n\u001b[1;31mSyntaxError\u001b[0m\u001b[1;31m:\u001b[0m EOL while scanning string literal\n"
     ]
    }
   ],
   "source": [
    "plot_param_single_hist(\n",
    "    data,\n",
    "    'kitchen_area',\n",
    "    0,\n",
    "    100,\n",
    "    20,\n",
    "    'Distribution by the kitchen area',\n",
    "    'kitchen area,\n",
    "    'Number of apartments'\n",
    ")"
   ]
  },
  {
   "cell_type": "code",
   "execution_count": null,
   "id": "1df98ba1",
   "metadata": {},
   "outputs": [],
   "source": [
    "plot_param_single_hist(\n",
    "    data,\n",
    "    'airports_nearest',\n",
    "    0,\n",
    "    100000,\n",
    "    20,\n",
    "    'Distribution by distance to the airport',\n",
    "    'Distance to the airport',\n",
    "    'Number of apartments'\n",
    ")\n"
   ]
  },
  {
   "cell_type": "code",
   "execution_count": null,
   "id": "1f481940",
   "metadata": {},
   "outputs": [],
   "source": [
    "plot_param_single_hist(\n",
    "    data,\n",
    "    'parks_nearest',\n",
    "    0,\n",
    "    4000,\n",
    "    20,\n",
    "    'Distribution by distance to the park',\n",
    "    'distance to the park',\n",
    "    'Number of apartments'\n",
    ")"
   ]
  },
  {
   "cell_type": "code",
   "execution_count": null,
   "id": "b30a70cd",
   "metadata": {},
   "outputs": [],
   "source": [
    "plot_param_single_hist(\n",
    "    data,\n",
    "    'floor',\n",
    "    1,\n",
    "    35,\n",
    "    20,\n",
    "    'Distribution by floor',\n",
    "    'floor',\n",
    "    'number of apartments'\n",
    ")"
   ]
  },
  {
   "cell_type": "code",
   "execution_count": null,
   "id": "0596d23a",
   "metadata": {},
   "outputs": [],
   "source": [
    "plot_param_single_hist(\n",
    "    data,\n",
    "    'floors_total',\n",
    "    1,\n",
    "    60,\n",
    "    20,\n",
    "    'Distribution by the total number of floors in the house',\n",
    "    'Number of floors in the house',\n",
    "    'Number of apartments'\n",
    ")"
   ]
  },
  {
   "cell_type": "code",
   "execution_count": null,
   "id": "4e6bf2e1",
   "metadata": {},
   "outputs": [],
   "source": [
    "plot_param_single_hist(\n",
    "    data,\n",
    "    'city_centers_nearest',\n",
    "    200,\n",
    "    60000,\n",
    "    20,\n",
    "    'Distribution by distance from the center',\n",
    "    'Distance from the center',\n",
    "    'Number of apartments'\n",
    ")"
   ]
  },
  {
   "cell_type": "code",
   "execution_count": null,
   "id": "d89d3a16",
   "metadata": {},
   "outputs": [],
   "source": [
    "plot_param_single_hist(\n",
    "    data,\n",
    "    'last_price',\n",
    "    1.219000e+04,\n",
    "    1.100000e+07,\n",
    "    20,\n",
    "    'The cost of real estate',\n",
    "    'Cost',\n",
    "    'Number of apartments'\n",
    ")\n"
   ]
  },
  {
   "cell_type": "code",
   "execution_count": null,
   "id": "311586ad",
   "metadata": {},
   "outputs": [],
   "source": [
    "data['day_of_week_exposition'].value_counts().plot(kind='barh')"
   ]
  },
  {
   "cell_type": "code",
   "execution_count": null,
   "id": "462741d9",
   "metadata": {},
   "outputs": [],
   "source": [
    "data['floor_status'].value_counts().plot(kind='barh')"
   ]
  },
  {
   "cell_type": "code",
   "execution_count": null,
   "id": "366ce9ce",
   "metadata": {},
   "outputs": [],
   "source": [
    "\n",
    "data['month_exposition'].value_counts().plot(kind='barh')"
   ]
  },
  {
   "cell_type": "code",
   "execution_count": null,
   "id": "a4360f7f",
   "metadata": {},
   "outputs": [],
   "source": [
    "\n",
    "data['year_exposition'].value_counts().plot(kind='barh')"
   ]
  },
  {
   "cell_type": "markdown",
   "id": "4e101213",
   "metadata": {},
   "source": [
    "##### Conclusion_step 2:\n",
    "as the histograms demonstrate, the data presented in the table by area, cost, number of rooms, ceiling height, apartment floor, the total number of floors in the house as a whole are close to the normal distribution after data preprocessing. \n",
    "There are several peaks in the number of floors, but this is due to the peculiarities of the planned development of the town (5-storey, 9-storey, etc.)\n",
    "Cartographic data, i.e. data calculated automatically, also do not cause doubts.\n",
    "More often they sell apartments not on the first and not on the last floor\n",
    "The publication data can also hardly be questioned: in 2014 the service was at the beginning of its development, by 2018 the number of ads increased.\n",
    "The distribution of the number of ads by month proves only that ads are placed less frequently on weekends: on Saturdays and Sundays there is a clear failure, similarly in December, January and May.\n",
    "\n",
    "We can proceed to the evaluation of correlations."
   ]
  },
  {
   "cell_type": "markdown",
   "id": "f786b2e4",
   "metadata": {},
   "source": [
    "##### step 3. Factors affecting the cost of an apartment"
   ]
  },
  {
   "cell_type": "code",
   "execution_count": null,
   "id": "95970d29",
   "metadata": {},
   "outputs": [],
   "source": [
    "# Estimation of the correlation of the apartment price with the total area\n",
    "\n",
    "data.plot(y='last_price',x='total_area',kind='scatter', figsize=(12,6))\n",
    "plt.title('How does the total area affect the price of an apartment', fontsize=15)\n",
    "\n",
    "data['total_area'].corr(data['last_price'])"
   ]
  },
  {
   "cell_type": "code",
   "execution_count": null,
   "id": "ac02dd2c",
   "metadata": {},
   "outputs": [],
   "source": [
    "# Estimation of the correlation of the apartment price with the living area\n",
    "data.plot(y='last_price',x='living_area',kind='scatter', figsize=(12,6))\n",
    "plt.title('How does the living area affect the price of an apartment', fontsize=15)\n",
    "data['living_area'].corr(data['last_price'])"
   ]
  },
  {
   "cell_type": "code",
   "execution_count": null,
   "id": "55e9f887",
   "metadata": {},
   "outputs": [],
   "source": [
    "# Estimation of the correlation of the apartment price with the kitchen area\n",
    "data.plot(y='last_price',x='kitchen_area',kind='scatter', figsize=(12,6))\n",
    "plt.title('How does the kitchen area affect the price of an apartment', fontsize=15)\n",
    "data['kitchen_area'].corr(data['last_price'])"
   ]
  },
  {
   "cell_type": "code",
   "execution_count": null,
   "id": "2b582128",
   "metadata": {},
   "outputs": [],
   "source": [
    "# Estimation of the correlation of the apartment price with the number of rooms\n",
    "data.plot(y='last_price',x='rooms',kind='scatter', figsize=(12,6))\n",
    "plt.title('How does the number of rooms affect the price of an apartment', fontsize=15)\n",
    "\n",
    "\n",
    "data['rooms'].corr(data['last_price'])\n"
   ]
  },
  {
   "cell_type": "code",
   "execution_count": null,
   "id": "68f9fd7a",
   "metadata": {},
   "outputs": [],
   "source": [
    "display(data.pivot_table( index='rooms', values='last_price', aggfunc='mean'))"
   ]
  },
  {
   "cell_type": "code",
   "execution_count": null,
   "id": "55e8861a",
   "metadata": {},
   "outputs": [],
   "source": [
    "# Estimation of the correlation of the apartment price with the floor\n",
    "\n",
    "data.plot(y='last_price',x='floor_status',kind='scatter', figsize=(12,6))\n",
    "plt.title('How does the floor affect the price of the apartment', fontsize=15)\n",
    "\n",
    "#Let's try to see which floor apartment is more expensive\n",
    "display(data.pivot_table( index='floor_status', values='last_price', aggfunc='mean'))"
   ]
  },
  {
   "cell_type": "code",
   "execution_count": null,
   "id": "29526bf6",
   "metadata": {},
   "outputs": [],
   "source": [
    "# Estimation of the correlation of the apartment price with the date of placement:\n",
    "data.plot(y='last_price',x='day_of_week_exposition',kind='scatter', figsize=(12,6))\n",
    "plt.title('How does the day of the week affect the price of an apartment', fontsize=15)\n",
    "\n",
    "display(data.pivot_table( index='day_of_week_exposition', values='last_price', aggfunc='mean'))"
   ]
  },
  {
   "cell_type": "code",
   "execution_count": null,
   "id": "45d098dc",
   "metadata": {},
   "outputs": [],
   "source": [
    "\n",
    "data.plot(y='last_price',x='month_exposition',kind='scatter', figsize=(12,6))\n",
    "plt.title('Как месяц влияет на цену квартиры', fontsize=15)\n",
    "\n",
    "display(data.pivot_table( index='month_exposition', values='last_price', aggfunc='mean'))"
   ]
  },
  {
   "cell_type": "code",
   "execution_count": null,
   "id": "4147e52d",
   "metadata": {},
   "outputs": [],
   "source": [
    "\n",
    "data.plot(y='last_price',x='year_exposition',kind='scatter', figsize=(12,6))\n",
    "plt.title('Как год объявления влияет на цену квартиры', fontsize=15)\n",
    "data['year_exposition'].corr(data['last_price'])\n",
    "display(data.pivot_table( index='year_exposition', values='last_price', aggfunc='mean'))"
   ]
  },
  {
   "cell_type": "markdown",
   "id": "5ffa3a07",
   "metadata": {},
   "source": [
    "**Conclusion_step 3** : most of all, the final cost is affected (in descending order) by: total area (the highest coefficient of correlation), living area, kitchen. The cheapest real estate is on the first and last floors. There is no difference on the days of the week, but in May and June real estate is sold the cheapest, in April it is more expensive. However, the difference is not so obvious. In addition, prices were slightly lower in 2016-2018, and prices have been rising since 2019"
   ]
  },
  {
   "cell_type": "code",
   "execution_count": null,
   "id": "70b0ee54",
   "metadata": {},
   "outputs": [],
   "source": [
    "# However, with the increase in the number of rooms, the price per sq.m falls. And if we consider the total area, then the cost per square meter decreases with each meter as the area increases after 60 sq.m.\n",
    "\n",
    "distance_from_center = data.query('city_centers_nearest != -1')\n",
    "display(distance_from_center['price_per_meter'].corr(distance_from_center['city_centers_nearest']))\n",
    "display(distance_from_center['last_price'].corr(distance_from_center['city_centers_nearest']))\n"
   ]
  },
  {
   "cell_type": "markdown",
   "id": "c5956adf",
   "metadata": {},
   "source": [
    "The cost of real estate correlates less with the distance from the center than the price per square meter."
   ]
  },
  {
   "cell_type": "code",
   "execution_count": null,
   "id": "57785a7d",
   "metadata": {},
   "outputs": [],
   "source": [
    "fig, ax = plt.subplots(figsize=(12,12))\n",
    "sns.heatmap(data[['last_price', 'total_area','rooms','living_area', 'kitchen_area', 'floor_status','city_centers_nearest']].corr(), annot=True, square=True, vmin=-1, vmax=1, center=0, ax=ax)"
   ]
  },
  {
   "cell_type": "markdown",
   "id": "84145c27",
   "metadata": {},
   "source": [
    "#### 10 localities with the largest number of ads"
   ]
  },
  {
   "cell_type": "code",
   "execution_count": null,
   "id": "f9f6ff8f",
   "metadata": {},
   "outputs": [],
   "source": [
    "#Let's choose 10 localities with the largest number of ads. Let's calculate the average price per square meter in these localities. Let's highlight the localities with the highest and lowest cost of housing.\n",
    "\n",
    "locality_sq_m_price = data.loc[:, ['locality_name', 'price_per_meter']]\n",
    "locality_sq_m_price = locality_sq_m_price.pivot_table(index='locality_name', values='price_per_meter', aggfunc=['count', 'mean'])\n",
    "locality_sq_m_price.columns = ['count', 'mean_sq_m_price']\n",
    "top10_locality = locality_sq_m_price.sort_values(by='count', ascending=False).head(10)\n",
    "top10_locality.plot(y='count', kind='pie', figsize=(8, 8))\n",
    "print(top10_locality)"
   ]
  },
  {
   "cell_type": "markdown",
   "id": "1cd25d67",
   "metadata": {},
   "source": [
    "The most expensive apartments are in St. Petersburg, Pushkin and the village of Kudrovo, and the cheapest in Vyborg, Vsevolozhsk and Gatchina"
   ]
  },
  {
   "cell_type": "code",
   "execution_count": null,
   "id": "5dff7492",
   "metadata": {},
   "outputs": [],
   "source": [
    "data.groupby('classification_locality').agg({'price_per_meter':'mean'}).sort_values(by='price_per_meter')\n"
   ]
  },
  {
   "cell_type": "code",
   "execution_count": null,
   "id": "fd0d793d",
   "metadata": {},
   "outputs": [],
   "source": [
    "data.groupby('classification_locality').agg({'price_per_meter':'median'}).sort_values(by='price_per_meter')"
   ]
  },
  {
   "cell_type": "code",
   "execution_count": null,
   "id": "83afb776",
   "metadata": {},
   "outputs": [],
   "source": [
    "plot = data.boxplot('price_per_meter', by='classification_locality', figsize=(10,10))\n",
    "plot.set_ylim(0,200000)"
   ]
  },
  {
   "cell_type": "markdown",
   "id": "745bfbf1",
   "metadata": {},
   "source": [
    "as expected: apartments are more expensive in St. Petersburg, but the difference between everything outside is almost not felt"
   ]
  },
  {
   "cell_type": "markdown",
   "id": "43db2aa5",
   "metadata": {},
   "source": [
    "##### City center\n",
    "##### Assessment of the dependence of the apartment price on the distance from the center of St. Petersburg\n",
    "We will study the offers of apartments in St. Petersburg, for which the distance to the city center is indicated, in order to assess the dependence of the apartment price on the distance from the center"
   ]
  },
  {
   "cell_type": "code",
   "execution_count": null,
   "id": "9f911cb8",
   "metadata": {},
   "outputs": [],
   "source": [
    "# Estimation of the distribution of the distance to the center\n",
    "\n",
    "data.query('classification_locality == \"city\"')['city_centers_nearest_km'].hist(bins=60, figsize=(15, 10))"
   ]
  },
  {
   "cell_type": "code",
   "execution_count": null,
   "id": "1341c00e",
   "metadata": {},
   "outputs": [],
   "source": [
    "#Let's make a cross-section of the city \"St. Petersburg\"\n",
    "data_spb = data.query('locality_name == \"санкт-петербург\"')\n",
    "print('The number of missing values in the city_center_nearest_km column:', data_spb['city_centers_nearest_km'].isnull().sum())\n",
    "print('The total number of values in the city_centers_nearest_km column:', len(data_spb['city_centers_nearest_km']))\n",
    "\n"
   ]
  },
  {
   "cell_type": "code",
   "execution_count": null,
   "id": "de57f9f5",
   "metadata": {},
   "outputs": [],
   "source": [
    "#The cartographic data is filled almost completely, I can get rid of nan without loss\n",
    "data_spb= data_spb.dropna(subset=['city_centers_nearest_km']).reset_index(drop=True)\n",
    "data_spb.head()"
   ]
  },
  {
   "cell_type": "code",
   "execution_count": null,
   "id": "505b6bf7",
   "metadata": {},
   "outputs": [],
   "source": [
    "#using the pivot_table method, we calculate the average cost per 1 km\n",
    "data_spb['city_centers_nearest_km'] = data_spb['city_centers_nearest_km'].round(0).astype(int)\n",
    "data_spb['price_per_kilometer'] = data_spb['last_price']/data_spb['city_centers_nearest_km']\n",
    "data_per_km = data_spb.pivot_table(index='city_centers_nearest_km', values='price_per_kilometer', aggfunc='mean')\n"
   ]
  },
  {
   "cell_type": "code",
   "execution_count": null,
   "id": "5eee200b",
   "metadata": {},
   "outputs": [],
   "source": [
    "#for each kilometer, we calculate the average cost per square meter\n",
    "data_spb.groupby('city_centers_nearest_km').agg({'price_per_meter' : 'mean'}).plot(grid=True, figsize=(10,10), style='o-')"
   ]
  },
  {
   "cell_type": "markdown",
   "id": "68418f7e",
   "metadata": {},
   "source": [
    "Here you can see the decline after 8 kilometers, which is approximately the border of the central zone of St. Petersburg"
   ]
  },
  {
   "cell_type": "code",
   "execution_count": null,
   "id": "bbc3d087",
   "metadata": {},
   "outputs": [],
   "source": [
    "city_center_in_8_km_df = data_spb.query('city_centers_nearest_km <= 8')\n",
    "print(len(city_center_in_8_km_df))\n",
    "\n",
    "cor_in_center = city_center_in_8_km_df.corr()\\\n",
    "        .sort_values('last_price', ascending=False)\\\n",
    "        .filter(items = ['last_price'])\\\n",
    "        .reset_index()\n",
    "cor_in_center.style.background_gradient('coolwarm')"
   ]
  },
  {
   "cell_type": "code",
   "execution_count": null,
   "id": "5149dcb7",
   "metadata": {},
   "outputs": [],
   "source": [
    "city_center_out_8_km_df = data_spb.query('city_centers_nearest_km > 8')\n",
    "cor_out_center = city_center_out_8_km_df.corr()\\\n",
    "        .sort_values('last_price', ascending=False)\\\n",
    "        .filter(items = ['last_price'])\\\n",
    "        .reset_index()\n",
    "cor_out_center.style.background_gradient('coolwarm')"
   ]
  },
  {
   "cell_type": "code",
   "execution_count": null,
   "id": "af9038d7",
   "metadata": {},
   "outputs": [],
   "source": [
    "cor_in_out_center = cor_in_center.merge(cor_out_center, on='index')\n",
    "cor_in_out_center = cor_in_out_center.rename(columns={'last_price_x':'cor_in_center', 'last_price_y':'cor_out_center'})\n",
    "cor_in_out_center.style.background_gradient('coolwarm')"
   ]
  },
  {
   "cell_type": "markdown",
   "id": "ef81297b",
   "metadata": {},
   "source": [
    "The needs in the city center and beyond are not very different In the center matters:ceiling height, airports nearby, reservoirs and parks within walking distance.\n",
    "\n",
    "Meanwhile, for the periphery, the following are important: residential and total areas, balconies, floor and total number of floors.\n",
    "\n",
    "It is worth noting that the samples are not strongly correlated with each other, so there is a possibility of error"
   ]
  },
  {
   "cell_type": "markdown",
   "id": "18fd23e4",
   "metadata": {},
   "source": [
    "##### Typical apartments in the center"
   ]
  },
  {
   "cell_type": "code",
   "execution_count": null,
   "id": "e22f9419",
   "metadata": {},
   "outputs": [],
   "source": [
    "#Using a loop, we will output histograms of columns located in the center of the city.\n",
    "for column in city_center_in_8_km_df[['total_area','last_price','rooms','ceiling_height','days_exposition']]:\n",
    "    range_max = city_center_in_8_km_df[column].max()\n",
    "    range_min = city_center_in_8_km_df[column].min()\n",
    "    city_center_in_8_km_df[column].hist(bins=30, range=(range_min,range_max))\n",
    "    plt.title(column, fontsize=15)\n",
    "    plt.show()\n",
    "    print('Average value:',city_center_in_8_km_df[column].mean())"
   ]
  },
  {
   "cell_type": "code",
   "execution_count": null,
   "id": "12c48acb",
   "metadata": {},
   "outputs": [],
   "source": [
    "#Calculate the matrix of correlations in the columns that affect the cost of the apartment, visualize\n",
    "corr_table_center = city_center_in_8_km_df[['last_price','ceiling_height','rooms','total_area','floor']]\n",
    "pd.plotting.scatter_matrix(corr_table_center, figsize=(12,12))\n",
    "print(corr_table_center.corr())\n",
    "#visualize\n",
    "fig, ax = plt.subplots(figsize=(12,12))\n",
    "sns.heatmap(city_center_in_8_km_df[['last_price','ceiling_height','rooms','total_area','floor']].corr(), annot=True, square=True, vmin=-1, vmax=1, center=0, ax=ax)"
   ]
  },
  {
   "cell_type": "markdown",
   "id": "f0694e40",
   "metadata": {},
   "source": [
    "### General conclusion"
   ]
  },
  {
   "cell_type": "markdown",
   "id": "98fb2139",
   "metadata": {},
   "source": [
    "The archive of ads for the sale of apartments in St. Petersburg and neighboring settlements for several years has been studied, which will subsequently help determine the market value of real estate.\n",
    "\n",
    "Gaps in the parameters were filled in, parameters were set (area, price, number of rooms, ceiling height, etc.), rare and erratic values were eliminated, a connection between different parameters was established and graphs were built.\n",
    "\n",
    "I came to the following conclusions:\n",
    "\n",
    "- it usually takes about 90 days from the day of the ad placement to the sale of the apartment;\n",
    "- the most expensive square meter is in St. Petersburg and Pushkin, the cheapest apartment can be bought in Vsevolzhsk and Vyborg;\n",
    "- apartments on the first and last floor are cheaper than on any other;\n",
    "- ceilings in St. Petersburg are higher than outside of it;\n",
    "- 10 localities with the largest number of ads were identified, as well as localities with the highest and lowest cost per square meter\n",
    "\n",
    "Typical apartment in the center:\n",
    "\n",
    "- area: 66 sq. meters\n",
    "- price : 7.3 million rubles\n",
    "- rooms : 2\n",
    "- ceiling height 3\n",
    "- average sale: 241 days\n",
    "\n",
    "The total area and the number of rooms are most affected (which is logical), but the ceiling height does not affect the value of the property at all. Probably, there are always high ceilings in the center"
   ]
  },
  {
   "cell_type": "code",
   "execution_count": null,
   "id": "c1c693e1",
   "metadata": {},
   "outputs": [],
   "source": []
  }
 ],
 "metadata": {
  "kernelspec": {
   "display_name": "Python 3 (ipykernel)",
   "language": "python",
   "name": "python3"
  },
  "language_info": {
   "codemirror_mode": {
    "name": "ipython",
    "version": 3
   },
   "file_extension": ".py",
   "mimetype": "text/x-python",
   "name": "python",
   "nbconvert_exporter": "python",
   "pygments_lexer": "ipython3",
   "version": "3.9.12"
  }
 },
 "nbformat": 4,
 "nbformat_minor": 5
}
