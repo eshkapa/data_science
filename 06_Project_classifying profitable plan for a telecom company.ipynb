{
 "cells": [
  {
   "cell_type": "markdown",
   "id": "5cad175e",
   "metadata": {},
   "source": [
    "# Classifying profitable plan for a telecom company\n",
    "**Task:**\n",
    "Build Machine Learning model for the classification problem, which finds a suitable tariff\n",
    "\n",
    "**Description:**\n",
    "The mobile operator found out: many customers use archived rates. A preliminary analysis of the use of tariffs on a sample of customers was carried out, the behavior of customers when using the operator's services was analyzed and the optimal sets of services for users were recommended. Hypotheses about the difference in revenue of subscribers of different tariffs and differences in the revenue of subscribers from Moscow and other regions. A profitable tariff plan has been identified for adjusting the advertising budget. A system has been developed that can analyze customer behavior and offer users a new tariff. A model has been built for the classification problem, which will select a suitable tariff. A model was built with the highest possible accuracy. The share of correct answers has been brought to 0.75. Accuracy was checked on the test sample.\n",
    "\n",
    "**Scope of Activities:**\n",
    "Telecom, Advertising platforms, IT company, Startups, Business services [b2b]\n",
    "\n",
    "**Used Libraries:**\n",
    "Python, Pandas, Matplotlib, numpy, SciPy, descriptive statistics, statistical hypothesis testing, math, Seaborn, sklearn, machine learning"
   ]
  },
  {
   "cell_type": "markdown",
   "id": "d9aa885c",
   "metadata": {},
   "source": [
    "## 1. Let's look at the data"
   ]
  },
  {
   "cell_type": "code",
   "execution_count": 2,
   "id": "03bbc296",
   "metadata": {},
   "outputs": [],
   "source": [
    "import pandas as pd\n",
    "import numpy as np\n",
    "import matplotlib.pyplot as plt\n",
    "import seaborn as sns\n",
    "from sklearn.model_selection import train_test_split \n",
    "from sklearn.neighbors import KNeighborsClassifier\n",
    "from joblib import dump\n",
    "from sklearn.linear_model import LogisticRegression \n",
    "from sklearn.ensemble import RandomForestClassifier \n",
    "from sklearn.tree import DecisionTreeClassifier \n",
    "from sklearn.metrics import accuracy_score \n",
    "from sklearn.dummy import DummyClassifier\n",
    "import numpy as np\n",
    "import warnings\n",
    "warnings.filterwarnings('ignore')\n",
    "\n",
    "df = pd.read_csv('users_behavior.csv')"
   ]
  },
  {
   "cell_type": "code",
   "execution_count": 3,
   "id": "7163273c",
   "metadata": {},
   "outputs": [
    {
     "data": {
      "text/html": [
       "<div>\n",
       "<style scoped>\n",
       "    .dataframe tbody tr th:only-of-type {\n",
       "        vertical-align: middle;\n",
       "    }\n",
       "\n",
       "    .dataframe tbody tr th {\n",
       "        vertical-align: top;\n",
       "    }\n",
       "\n",
       "    .dataframe thead th {\n",
       "        text-align: right;\n",
       "    }\n",
       "</style>\n",
       "<table border=\"1\" class=\"dataframe\">\n",
       "  <thead>\n",
       "    <tr style=\"text-align: right;\">\n",
       "      <th></th>\n",
       "      <th>calls</th>\n",
       "      <th>minutes</th>\n",
       "      <th>messages</th>\n",
       "      <th>mb_used</th>\n",
       "      <th>is_ultra</th>\n",
       "    </tr>\n",
       "  </thead>\n",
       "  <tbody>\n",
       "    <tr>\n",
       "      <th>0</th>\n",
       "      <td>40.0</td>\n",
       "      <td>311.90</td>\n",
       "      <td>83.0</td>\n",
       "      <td>19915.42</td>\n",
       "      <td>0</td>\n",
       "    </tr>\n",
       "    <tr>\n",
       "      <th>1</th>\n",
       "      <td>85.0</td>\n",
       "      <td>516.75</td>\n",
       "      <td>56.0</td>\n",
       "      <td>22696.96</td>\n",
       "      <td>0</td>\n",
       "    </tr>\n",
       "    <tr>\n",
       "      <th>2</th>\n",
       "      <td>77.0</td>\n",
       "      <td>467.66</td>\n",
       "      <td>86.0</td>\n",
       "      <td>21060.45</td>\n",
       "      <td>0</td>\n",
       "    </tr>\n",
       "    <tr>\n",
       "      <th>3</th>\n",
       "      <td>106.0</td>\n",
       "      <td>745.53</td>\n",
       "      <td>81.0</td>\n",
       "      <td>8437.39</td>\n",
       "      <td>1</td>\n",
       "    </tr>\n",
       "    <tr>\n",
       "      <th>4</th>\n",
       "      <td>66.0</td>\n",
       "      <td>418.74</td>\n",
       "      <td>1.0</td>\n",
       "      <td>14502.75</td>\n",
       "      <td>0</td>\n",
       "    </tr>\n",
       "  </tbody>\n",
       "</table>\n",
       "</div>"
      ],
      "text/plain": [
       "   calls  minutes  messages   mb_used  is_ultra\n",
       "0   40.0   311.90      83.0  19915.42         0\n",
       "1   85.0   516.75      56.0  22696.96         0\n",
       "2   77.0   467.66      86.0  21060.45         0\n",
       "3  106.0   745.53      81.0   8437.39         1\n",
       "4   66.0   418.74       1.0  14502.75         0"
      ]
     },
     "execution_count": 3,
     "metadata": {},
     "output_type": "execute_result"
    }
   ],
   "source": [
    "df.head()"
   ]
  },
  {
   "cell_type": "code",
   "execution_count": 4,
   "id": "9090c2f4",
   "metadata": {},
   "outputs": [
    {
     "name": "stdout",
     "output_type": "stream",
     "text": [
      "<class 'pandas.core.frame.DataFrame'>\n",
      "RangeIndex: 3214 entries, 0 to 3213\n",
      "Data columns (total 5 columns):\n",
      " #   Column    Non-Null Count  Dtype  \n",
      "---  ------    --------------  -----  \n",
      " 0   calls     3214 non-null   float64\n",
      " 1   minutes   3214 non-null   float64\n",
      " 2   messages  3214 non-null   float64\n",
      " 3   mb_used   3214 non-null   float64\n",
      " 4   is_ultra  3214 non-null   int64  \n",
      "dtypes: float64(4), int64(1)\n",
      "memory usage: 125.7 KB\n"
     ]
    }
   ],
   "source": [
    "df.info()"
   ]
  },
  {
   "cell_type": "code",
   "execution_count": 5,
   "id": "d55c5d4f",
   "metadata": {},
   "outputs": [
    {
     "data": {
      "text/plain": [
       "(3214, 5)"
      ]
     },
     "execution_count": 5,
     "metadata": {},
     "output_type": "execute_result"
    }
   ],
   "source": [
    "df.shape"
   ]
  },
  {
   "cell_type": "code",
   "execution_count": 6,
   "id": "763aafb7",
   "metadata": {},
   "outputs": [
    {
     "data": {
      "text/html": [
       "<div>\n",
       "<style scoped>\n",
       "    .dataframe tbody tr th:only-of-type {\n",
       "        vertical-align: middle;\n",
       "    }\n",
       "\n",
       "    .dataframe tbody tr th {\n",
       "        vertical-align: top;\n",
       "    }\n",
       "\n",
       "    .dataframe thead th {\n",
       "        text-align: right;\n",
       "    }\n",
       "</style>\n",
       "<table border=\"1\" class=\"dataframe\">\n",
       "  <thead>\n",
       "    <tr style=\"text-align: right;\">\n",
       "      <th></th>\n",
       "      <th>calls</th>\n",
       "      <th>minutes</th>\n",
       "      <th>messages</th>\n",
       "      <th>mb_used</th>\n",
       "      <th>is_ultra</th>\n",
       "    </tr>\n",
       "  </thead>\n",
       "  <tbody>\n",
       "    <tr>\n",
       "      <th>count</th>\n",
       "      <td>3214.000000</td>\n",
       "      <td>3214.000000</td>\n",
       "      <td>3214.000000</td>\n",
       "      <td>3214.000000</td>\n",
       "      <td>3214.000000</td>\n",
       "    </tr>\n",
       "    <tr>\n",
       "      <th>mean</th>\n",
       "      <td>63.038892</td>\n",
       "      <td>438.208787</td>\n",
       "      <td>38.281269</td>\n",
       "      <td>17207.673836</td>\n",
       "      <td>0.306472</td>\n",
       "    </tr>\n",
       "    <tr>\n",
       "      <th>std</th>\n",
       "      <td>33.236368</td>\n",
       "      <td>234.569872</td>\n",
       "      <td>36.148326</td>\n",
       "      <td>7570.968246</td>\n",
       "      <td>0.461100</td>\n",
       "    </tr>\n",
       "    <tr>\n",
       "      <th>min</th>\n",
       "      <td>0.000000</td>\n",
       "      <td>0.000000</td>\n",
       "      <td>0.000000</td>\n",
       "      <td>0.000000</td>\n",
       "      <td>0.000000</td>\n",
       "    </tr>\n",
       "    <tr>\n",
       "      <th>25%</th>\n",
       "      <td>40.000000</td>\n",
       "      <td>274.575000</td>\n",
       "      <td>9.000000</td>\n",
       "      <td>12491.902500</td>\n",
       "      <td>0.000000</td>\n",
       "    </tr>\n",
       "    <tr>\n",
       "      <th>50%</th>\n",
       "      <td>62.000000</td>\n",
       "      <td>430.600000</td>\n",
       "      <td>30.000000</td>\n",
       "      <td>16943.235000</td>\n",
       "      <td>0.000000</td>\n",
       "    </tr>\n",
       "    <tr>\n",
       "      <th>75%</th>\n",
       "      <td>82.000000</td>\n",
       "      <td>571.927500</td>\n",
       "      <td>57.000000</td>\n",
       "      <td>21424.700000</td>\n",
       "      <td>1.000000</td>\n",
       "    </tr>\n",
       "    <tr>\n",
       "      <th>max</th>\n",
       "      <td>244.000000</td>\n",
       "      <td>1632.060000</td>\n",
       "      <td>224.000000</td>\n",
       "      <td>49745.730000</td>\n",
       "      <td>1.000000</td>\n",
       "    </tr>\n",
       "  </tbody>\n",
       "</table>\n",
       "</div>"
      ],
      "text/plain": [
       "             calls      minutes     messages       mb_used     is_ultra\n",
       "count  3214.000000  3214.000000  3214.000000   3214.000000  3214.000000\n",
       "mean     63.038892   438.208787    38.281269  17207.673836     0.306472\n",
       "std      33.236368   234.569872    36.148326   7570.968246     0.461100\n",
       "min       0.000000     0.000000     0.000000      0.000000     0.000000\n",
       "25%      40.000000   274.575000     9.000000  12491.902500     0.000000\n",
       "50%      62.000000   430.600000    30.000000  16943.235000     0.000000\n",
       "75%      82.000000   571.927500    57.000000  21424.700000     1.000000\n",
       "max     244.000000  1632.060000   224.000000  49745.730000     1.000000"
      ]
     },
     "execution_count": 6,
     "metadata": {},
     "output_type": "execute_result"
    }
   ],
   "source": [
    "df.describe()"
   ]
  },
  {
   "cell_type": "code",
   "execution_count": 7,
   "id": "79db7449",
   "metadata": {},
   "outputs": [
    {
     "data": {
      "text/plain": [
       "<AxesSubplot:title={'center':'Pearson Correlation of Features'}>"
      ]
     },
     "execution_count": 7,
     "metadata": {},
     "output_type": "execute_result"
    },
    {
     "data": {
      "image/png": "[encoded data removed]",
      "text/plain": [
       "<Figure size 1008x864 with 2 Axes>"
      ]
     },
     "metadata": {
      "needs_background": "light"
     },
     "output_type": "display_data"
    }
   ],
   "source": [
    "colormap=plt.cm.RdBu\n",
    "plt.figure(figsize=(14,12))\n",
    "plt.title('Pearson Correlation of Features')\n",
    "sns.heatmap(df.corr(),\n",
    "            linewidths=0.1, vmax=1.0,\n",
    "            square=True, annot=True, cmap=colormap)"
   ]
  },
  {
   "cell_type": "markdown",
   "id": "09c4b79b",
   "metadata": {},
   "source": [
    "**Conclusion 1**:\n",
    "The data file consists of 5 columns (1 integer and 4 floating point) and 3214 records.\n",
    "\n",
    "The is_ultra column contains the target attribute. Remembers that this is a classification feature.\n",
    "All fields are filled in, no preprocessing is needed, because it was carried out in another project.\n",
    "\n",
    "The average value in the is_ultra attribute, it means the share of users of the \"Ultra\" tariff, and additionally indicates an imbalance of classes in the target attribute, that is, an unequal ratio of classes 0 and 1 (in this case — 70:30). This can be important when training models."
   ]
  },
  {
   "cell_type": "markdown",
   "id": "8f1340a6",
   "metadata": {},
   "source": [
    "## 2.Break the data into samples"
   ]
  },
  {
   "cell_type": "code",
   "execution_count": 8,
   "id": "b23af30a",
   "metadata": {},
   "outputs": [
    {
     "name": "stdout",
     "output_type": "stream",
     "text": [
      "Training sample size: 1928 objects\n",
      "Validation sample size: 643 objects\n",
      "Testing sample size: 643 objects\n"
     ]
    }
   ],
   "source": [
    "df_train, df_valid = train_test_split(df, test_size=0.40, random_state=1410, stratify=df['is_ultra'])\n",
    "df_valid, df_test = train_test_split(df_valid,test_size = 0.5, random_state=1410, stratify=df_valid['is_ultra'])\n",
    "print('Training sample size:', df_train.shape[0],'objects')\n",
    "print('Validation sample size:', df_valid.shape[0],'objects')\n",
    "print('Testing sample size:',df_test.shape[0],'objects')\n",
    "\n"
   ]
  },
  {
   "cell_type": "code",
   "execution_count": 9,
   "id": "93adef05",
   "metadata": {},
   "outputs": [],
   "source": [
    "# create variables for attributes and target attribute >\n",
    "\n",
    "#for the training sample\n",
    "\n",
    "features_train = df_train.drop(['is_ultra'], axis=1)\n",
    "\n",
    "target_train = df_train['is_ultra']\n",
    "\n",
    "#for the validation sample\n",
    "\n",
    "features_valid = df_valid.drop(['is_ultra'], axis=1)\n",
    "\n",
    "target_valid =  df_valid['is_ultra'] \n",
    "\n",
    "#for the testing sample\n",
    "features_test = df_test.drop(['is_ultra'], axis=1)\n",
    "\n",
    "target_test = df_test['is_ultra']\n",
    "\n",
    "\n"
   ]
  },
  {
   "cell_type": "markdown",
   "id": "67822942",
   "metadata": {},
   "source": [
    "**Conclusion 2**: the data were divided into training (60%), validation (20%) and test (20%) samples"
   ]
  },
  {
   "cell_type": "markdown",
   "id": "335a07de",
   "metadata": {},
   "source": [
    "## 3. Models"
   ]
  },
  {
   "cell_type": "markdown",
   "id": "1a5106a9",
   "metadata": {},
   "source": [
    "### DecisionTree"
   ]
  },
  {
   "cell_type": "code",
   "execution_count": 10,
   "id": "98774a57",
   "metadata": {},
   "outputs": [
    {
     "name": "stdout",
     "output_type": "stream",
     "text": [
      "The best model's accuracy: 0.7962674961119751\n",
      "the best model DecisionTreeClassifier(max_depth=8, random_state=1410)\n"
     ]
    }
   ],
   "source": [
    "best_model = None\n",
    "\n",
    "best_result = 0\n",
    "\n",
    "for depth in range(1, 21):\n",
    "\n",
    "    model = DecisionTreeClassifier(random_state=1410, max_depth=depth) \n",
    "\n",
    "    model.fit(features_train, target_train) \n",
    "\n",
    "    predictions= model.predict(features_valid) \n",
    "\n",
    "    result= accuracy_score(target_valid, predictions) \n",
    "\n",
    "    if result > best_result:\n",
    "\n",
    "        best_model = model\n",
    "\n",
    "        best_result = result\n",
    "\n",
    "        \n",
    "\n",
    "print(\"The best model's accuracy:\", best_result)\n",
    "print(\"the best model\", best_model)\n"
   ]
  },
  {
   "cell_type": "markdown",
   "id": "6af1cc96",
   "metadata": {},
   "source": [
    "### Random Forest"
   ]
  },
  {
   "cell_type": "code",
   "execution_count": 11,
   "id": "91462f5e",
   "metadata": {},
   "outputs": [
    {
     "name": "stdout",
     "output_type": "stream",
     "text": [
      "The best model's accuracy: 0.7931570762052877\n",
      "the best model RandomForestClassifier(n_estimators=46, random_state=1410)\n"
     ]
    }
   ],
   "source": [
    "best_model = None\n",
    "best_result = 0\n",
    "for est in range(1, 51):\n",
    "    model = RandomForestClassifier(random_state=1410, n_estimators=est) \n",
    "    model.fit(features_train,target_train) \n",
    "    predictions = model.predict(features_valid)\n",
    "    result = accuracy_score(target_valid, predictions) \n",
    "    if result > best_result:\n",
    "        best_model = model \n",
    "        best_result = result\n",
    "print(\"The best model's accuracy:\", best_result)\n",
    "print(\"the best model\", best_model)\n"
   ]
  },
  {
   "cell_type": "markdown",
   "id": "62dcd8f2",
   "metadata": {},
   "source": [
    "### Logistic Regression"
   ]
  },
  {
   "cell_type": "code",
   "execution_count": 12,
   "id": "d2295e1e",
   "metadata": {},
   "outputs": [
    {
     "name": "stdout",
     "output_type": "stream",
     "text": [
      "Accuracy Logistic Regression: 0.6982892690513219\n"
     ]
    }
   ],
   "source": [
    "model = LogisticRegression(random_state=1410, max_iter=100) \n",
    "model.fit(features_train,target_train) \n",
    "predictions = model.predict(features_valid)\n",
    "result = accuracy_score(target_valid, predictions) \n",
    "    \n",
    "\n",
    "        \n",
    "print(\"Accuracy Logistic Regression:\", result)"
   ]
  },
  {
   "cell_type": "markdown",
   "id": "7102c389",
   "metadata": {},
   "source": [
    "### K-Nearest Neighbors"
   ]
  },
  {
   "cell_type": "code",
   "execution_count": 13,
   "id": "68c13f52",
   "metadata": {},
   "outputs": [
    {
     "name": "stdout",
     "output_type": "stream",
     "text": [
      "The best model's accuracy: 0.7682737169517885\n",
      "the best model KNeighborsClassifier(n_neighbors=13)\n"
     ]
    }
   ],
   "source": [
    "best_model = None\n",
    "best_result = 0\n",
    "for n in range(1, 21):\n",
    "    model = KNeighborsClassifier(n_neighbors = n)# Fit the classifier to the data\n",
    "    model.fit(features_train,target_train) \n",
    "    predictions = model.predict(features_valid)\n",
    "    result = accuracy_score(target_valid, predictions) \n",
    "    if result > best_result:\n",
    "        best_model = model     \n",
    "        best_result = result   \n",
    "print(\"The best model's accuracy:\", best_result)\n",
    "print(\"the best model\", best_model)"
   ]
  },
  {
   "cell_type": "markdown",
   "id": "ecefe192",
   "metadata": {},
   "source": [
    "**Conclusion_3:**\n",
    "Three models were investigated: Decision Tree, Random Forest, Logistic Regression, k-nearest neighbors\n",
    "After the research, we got the following best models:\n",
    "1) The decision tree with 8 trees accuracy: 0.7962674961119751\n",
    "\n",
    "2) In a random forest with 46 trees, accuracy 0.7931570762052877\n",
    "\n",
    "3) logistic regression accuracy: 0.6982892690513219\n",
    "\n",
    "4) The nearest neighbors with 13 neighbors accuracy: 0.7682737169517885\n",
    "\n",
    "The best model, judging by accuracy, is a **decision tree**, but we will check on a test sample another **random forest** to accurately determine the choice of the model"
   ]
  },
  {
   "cell_type": "markdown",
   "id": "3fa5644e",
   "metadata": {},
   "source": [
    "## Check the model on a test sample"
   ]
  },
  {
   "cell_type": "markdown",
   "id": "3a02dec6",
   "metadata": {},
   "source": [
    "### Random Forest"
   ]
  },
  {
   "cell_type": "code",
   "execution_count": 14,
   "id": "718c671a",
   "metadata": {},
   "outputs": [
    {
     "name": "stdout",
     "output_type": "stream",
     "text": [
      "Accuracy: 0.7869362363919129\n"
     ]
    }
   ],
   "source": [
    "model = RandomForestClassifier(random_state=1410, n_estimators=46)\n",
    "model.fit(features_train,target_train)\n",
    "predictions = model.predict(features_test)\n",
    "score = accuracy_score(target_test, predictions)   \n",
    "print('Accuracy:', score)"
   ]
  },
  {
   "cell_type": "markdown",
   "id": "3dad0f7b",
   "metadata": {},
   "source": [
    "### Decision Tree"
   ]
  },
  {
   "cell_type": "code",
   "execution_count": 15,
   "id": "849451cf",
   "metadata": {},
   "outputs": [
    {
     "name": "stdout",
     "output_type": "stream",
     "text": [
      "Accuracy: 0.807153965785381\n"
     ]
    }
   ],
   "source": [
    "model = DecisionTreeClassifier(random_state=1410, max_depth=8) \n",
    "model.fit(features_train, target_train) \n",
    "predictions = model.predict(features_test)\n",
    "score = accuracy_score(target_test, predictions)   \n",
    "print('Accuracy:', score)"
   ]
  },
  {
   "cell_type": "markdown",
   "id": "b0b7812d",
   "metadata": {},
   "source": [
    "It seems we have a leader, a DECISION TREE"
   ]
  },
  {
   "cell_type": "markdown",
   "id": "39289299",
   "metadata": {},
   "source": [
    "## Additional task: check the models for adequacy."
   ]
  },
  {
   "cell_type": "code",
   "execution_count": 16,
   "id": "5d516235",
   "metadata": {},
   "outputs": [
    {
     "name": "stdout",
     "output_type": "stream",
     "text": [
      "0.6936236391912908\n"
     ]
    }
   ],
   "source": [
    "dummy_classifier = DummyClassifier(strategy=\"most_frequent\")\n",
    "dummy_classifier.fit(features_train, target_train)\n",
    "\n",
    "predictions = dummy_classifier.predict(features_test) \n",
    "result = accuracy_score(target_test, predictions) \n",
    "\n",
    "print(result)"
   ]
  },
  {
   "cell_type": "markdown",
   "id": "b55e99d7",
   "metadata": {},
   "source": [
    "**Conclusion**: This value is less than that of our model. The accuracy of our best model is more than 80%. It can be concluded that the adequacy test has been passed"
   ]
  },
  {
   "cell_type": "code",
   "execution_count": null,
   "id": "9302dd4b",
   "metadata": {},
   "outputs": [],
   "source": []
  }
 ],
 "metadata": {
  "kernelspec": {
   "display_name": "Python 3 (ipykernel)",
   "language": "python",
   "name": "python3"
  },
  "language_info": {
   "codemirror_mode": {
    "name": "ipython",
    "version": 3
   },
   "file_extension": ".py",
   "mimetype": "text/x-python",
   "name": "python",
   "nbconvert_exporter": "python",
   "pygments_lexer": "ipython3",
   "version": "3.9.12"
  }
 },
 "nbformat": 4,
 "nbformat_minor": 5
}
